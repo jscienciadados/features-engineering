{
  "nbformat": 4,
  "nbformat_minor": 0,
  "metadata": {
    "colab": {
      "name": "Feature_Engineering_R.ipynb",
      "provenance": [],
      "authorship_tag": "ABX9TyOBvOaXKGmbAxWQIYUanGIB",
      "include_colab_link": true
    },
    "kernelspec": {
      "name": "ir",
      "display_name": "R"
    },
    "language_info": {
      "name": "R"
    }
  },
  "cells": [
    {
      "cell_type": "markdown",
      "metadata": {
        "id": "view-in-github",
        "colab_type": "text"
      },
      "source": [
        "<a href=\"https://colab.research.google.com/github/jscienciadados/features-engineering/blob/main/Feature_Engineering_R.ipynb\" target=\"_parent\"><img src=\"https://colab.research.google.com/assets/colab-badge.svg\" alt=\"Open In Colab\"/></a>"
      ]
    },
    {
      "cell_type": "markdown",
      "metadata": {
        "id": "5X93Khe9xNCZ"
      },
      "source": [
        "## Features Engineering with variable categorical"
      ]
    },
    {
      "cell_type": "markdown",
      "metadata": {
        "id": "Cz_hawVRymyi"
      },
      "source": [
        "## Analisando Dados Bancários de Vários Usuários\n",
        "dataset: http://archive.ics.uci.edu/ml/machine-learning-databases/00222/bank.zip"
      ]
    },
    {
      "cell_type": "markdown",
      "metadata": {
        "id": "BHA_LRdwzL0t"
      },
      "source": [
        "## Carregando os Dados"
      ]
    },
    {
      "cell_type": "code",
      "metadata": {
        "id": "2Jkd8cprxEJ3"
      },
      "source": [
        "bank <- read.table(\"bank/bank-full.csv\", header = TRUE, sep = \";\")"
      ],
      "execution_count": 1,
      "outputs": []
    },
    {
      "cell_type": "code",
      "metadata": {
        "colab": {
          "base_uri": "https://localhost:8080/",
          "height": 1000
        },
        "id": "gWMuSKI4ziZz",
        "outputId": "b43100b4-fcd4-40e5-cc87-8f757b284c51"
      },
      "source": [
        "View(bank)"
      ],
      "execution_count": 3,
      "outputs": [
        {
          "output_type": "display_data",
          "data": {
            "text/markdown": "\nA data.frame: 45211 × 17\n\n| age &lt;int&gt; | job &lt;chr&gt; | marital &lt;chr&gt; | education &lt;chr&gt; | default &lt;chr&gt; | balance &lt;int&gt; | housing &lt;chr&gt; | loan &lt;chr&gt; | contact &lt;chr&gt; | day &lt;int&gt; | month &lt;chr&gt; | duration &lt;int&gt; | campaign &lt;int&gt; | pdays &lt;int&gt; | previous &lt;int&gt; | poutcome &lt;chr&gt; | y &lt;chr&gt; |\n|---|---|---|---|---|---|---|---|---|---|---|---|---|---|---|---|---|\n| 58 | management   | married  | tertiary  | no  | 2143 | yes | no  | unknown | 5 | may | 261 | 1 | -1 | 0 | unknown | no |\n| 44 | technician   | single   | secondary | no  |   29 | yes | no  | unknown | 5 | may | 151 | 1 | -1 | 0 | unknown | no |\n| 33 | entrepreneur | married  | secondary | no  |    2 | yes | yes | unknown | 5 | may |  76 | 1 | -1 | 0 | unknown | no |\n| 47 | blue-collar  | married  | unknown   | no  | 1506 | yes | no  | unknown | 5 | may |  92 | 1 | -1 | 0 | unknown | no |\n| 33 | unknown      | single   | unknown   | no  |    1 | no  | no  | unknown | 5 | may | 198 | 1 | -1 | 0 | unknown | no |\n| 35 | management   | married  | tertiary  | no  |  231 | yes | no  | unknown | 5 | may | 139 | 1 | -1 | 0 | unknown | no |\n| 28 | management   | single   | tertiary  | no  |  447 | yes | yes | unknown | 5 | may | 217 | 1 | -1 | 0 | unknown | no |\n| 42 | entrepreneur | divorced | tertiary  | yes |    2 | yes | no  | unknown | 5 | may | 380 | 1 | -1 | 0 | unknown | no |\n| 58 | retired      | married  | primary   | no  |  121 | yes | no  | unknown | 5 | may |  50 | 1 | -1 | 0 | unknown | no |\n| 43 | technician   | single   | secondary | no  |  593 | yes | no  | unknown | 5 | may |  55 | 1 | -1 | 0 | unknown | no |\n| 41 | admin.       | divorced | secondary | no  |  270 | yes | no  | unknown | 5 | may | 222 | 1 | -1 | 0 | unknown | no |\n| 29 | admin.       | single   | secondary | no  |  390 | yes | no  | unknown | 5 | may | 137 | 1 | -1 | 0 | unknown | no |\n| 53 | technician   | married  | secondary | no  |    6 | yes | no  | unknown | 5 | may | 517 | 1 | -1 | 0 | unknown | no |\n| 58 | technician   | married  | unknown   | no  |   71 | yes | no  | unknown | 5 | may |  71 | 1 | -1 | 0 | unknown | no |\n| 57 | services     | married  | secondary | no  |  162 | yes | no  | unknown | 5 | may | 174 | 1 | -1 | 0 | unknown | no |\n| 51 | retired      | married  | primary   | no  |  229 | yes | no  | unknown | 5 | may | 353 | 1 | -1 | 0 | unknown | no |\n| 45 | admin.       | single   | unknown   | no  |   13 | yes | no  | unknown | 5 | may |  98 | 1 | -1 | 0 | unknown | no |\n| 57 | blue-collar  | married  | primary   | no  |   52 | yes | no  | unknown | 5 | may |  38 | 1 | -1 | 0 | unknown | no |\n| 60 | retired      | married  | primary   | no  |   60 | yes | no  | unknown | 5 | may | 219 | 1 | -1 | 0 | unknown | no |\n| 33 | services     | married  | secondary | no  |    0 | yes | no  | unknown | 5 | may |  54 | 1 | -1 | 0 | unknown | no |\n| 28 | blue-collar  | married  | secondary | no  |  723 | yes | yes | unknown | 5 | may | 262 | 1 | -1 | 0 | unknown | no |\n| 56 | management   | married  | tertiary  | no  |  779 | yes | no  | unknown | 5 | may | 164 | 1 | -1 | 0 | unknown | no |\n| 32 | blue-collar  | single   | primary   | no  |   23 | yes | yes | unknown | 5 | may | 160 | 1 | -1 | 0 | unknown | no |\n| 25 | services     | married  | secondary | no  |   50 | yes | no  | unknown | 5 | may | 342 | 1 | -1 | 0 | unknown | no |\n| 40 | retired      | married  | primary   | no  |    0 | yes | yes | unknown | 5 | may | 181 | 1 | -1 | 0 | unknown | no |\n| 44 | admin.       | married  | secondary | no  | -372 | yes | no  | unknown | 5 | may | 172 | 1 | -1 | 0 | unknown | no |\n| 39 | management   | single   | tertiary  | no  |  255 | yes | no  | unknown | 5 | may | 296 | 1 | -1 | 0 | unknown | no |\n| 52 | entrepreneur | married  | secondary | no  |  113 | yes | yes | unknown | 5 | may | 127 | 1 | -1 | 0 | unknown | no |\n| 46 | management   | single   | secondary | no  | -246 | yes | no  | unknown | 5 | may | 255 | 2 | -1 | 0 | unknown | no |\n| 36 | technician   | single   | secondary | no  |  265 | yes | yes | unknown | 5 | may | 348 | 1 | -1 | 0 | unknown | no |\n| ⋮ | ⋮ | ⋮ | ⋮ | ⋮ | ⋮ | ⋮ | ⋮ | ⋮ | ⋮ | ⋮ | ⋮ | ⋮ | ⋮ | ⋮ | ⋮ | ⋮ |\n| 46 | blue-collar   | married  | secondary | no | 6879 | no  | no  | cellular  | 15 | nov |   74 | 2 | 118 |  3 | failure | no  |\n| 34 | technician    | married  | secondary | no |  133 | no  | no  | cellular  | 15 | nov |  401 | 2 | 187 |  5 | success | yes |\n| 70 | retired       | married  | primary   | no |  324 | no  | no  | cellular  | 15 | nov |   78 | 1 |  96 |  7 | success | no  |\n| 63 | retired       | married  | secondary | no | 1495 | no  | no  | cellular  | 16 | nov |  138 | 1 |  22 |  5 | success | no  |\n| 60 | services      | married  | tertiary  | no | 4256 | yes | no  | cellular  | 16 | nov |  200 | 1 |  92 |  4 | success | yes |\n| 59 | unknown       | married  | unknown   | no | 1500 | no  | no  | cellular  | 16 | nov |  280 | 1 | 104 |  2 | failure | no  |\n| 32 | services      | single   | secondary | no | 1168 | yes | no  | cellular  | 16 | nov |  411 | 1 |  -1 |  0 | unknown | yes |\n| 29 | management    | single   | secondary | no |  703 | yes | no  | cellular  | 16 | nov |  236 | 1 | 550 |  2 | success | yes |\n| 25 | services      | single   | secondary | no |  199 | no  | no  | cellular  | 16 | nov |  173 | 1 |  92 |  5 | failure | no  |\n| 32 | blue-collar   | married  | secondary | no |  136 | no  | no  | cellular  | 16 | nov |  206 | 1 | 188 |  3 | success | yes |\n| 75 | retired       | divorced | tertiary  | no | 3810 | yes | no  | cellular  | 16 | nov |  262 | 1 | 183 |  1 | failure | yes |\n| 29 | management    | single   | tertiary  | no |  765 | no  | no  | cellular  | 16 | nov |  238 | 1 |  -1 |  0 | unknown | yes |\n| 28 | self-employed | single   | tertiary  | no |  159 | no  | no  | cellular  | 16 | nov |  449 | 2 |  33 |  4 | success | yes |\n| 59 | management    | married  | tertiary  | no |  138 | yes | yes | cellular  | 16 | nov |  162 | 2 | 187 |  5 | failure | no  |\n| 68 | retired       | married  | secondary | no | 1146 | no  | no  | cellular  | 16 | nov |  212 | 1 | 187 |  6 | success | yes |\n| 25 | student       | single   | secondary | no |  358 | no  | no  | cellular  | 16 | nov |  330 | 1 |  -1 |  0 | unknown | yes |\n| 36 | management    | single   | secondary | no | 1511 | yes | no  | cellular  | 16 | nov |  270 | 1 |  -1 |  0 | unknown | yes |\n| 37 | management    | married  | tertiary  | no | 1428 | no  | no  | cellular  | 16 | nov |  333 | 2 |  -1 |  0 | unknown | no  |\n| 34 | blue-collar   | single   | secondary | no | 1475 | yes | no  | cellular  | 16 | nov | 1166 | 3 | 530 | 12 | other   | no  |\n| 38 | technician    | married  | secondary | no |  557 | yes | no  | cellular  | 16 | nov | 1556 | 4 |  -1 |  0 | unknown | yes |\n| 53 | management    | married  | tertiary  | no |  583 | no  | no  | cellular  | 17 | nov |  226 | 1 | 184 |  4 | success | yes |\n| 34 | admin.        | single   | secondary | no |  557 | no  | no  | cellular  | 17 | nov |  224 | 1 |  -1 |  0 | unknown | yes |\n| 23 | student       | single   | tertiary  | no |  113 | no  | no  | cellular  | 17 | nov |  266 | 1 |  -1 |  0 | unknown | yes |\n| 73 | retired       | married  | secondary | no | 2850 | no  | no  | cellular  | 17 | nov |  300 | 1 |  40 |  8 | failure | yes |\n| 25 | technician    | single   | secondary | no |  505 | no  | yes | cellular  | 17 | nov |  386 | 2 |  -1 |  0 | unknown | yes |\n| 51 | technician    | married  | tertiary  | no |  825 | no  | no  | cellular  | 17 | nov |  977 | 3 |  -1 |  0 | unknown | yes |\n| 71 | retired       | divorced | primary   | no | 1729 | no  | no  | cellular  | 17 | nov |  456 | 2 |  -1 |  0 | unknown | yes |\n| 72 | retired       | married  | secondary | no | 5715 | no  | no  | cellular  | 17 | nov | 1127 | 5 | 184 |  3 | success | yes |\n| 57 | blue-collar   | married  | secondary | no |  668 | no  | no  | telephone | 17 | nov |  508 | 4 |  -1 |  0 | unknown | no  |\n| 37 | entrepreneur  | married  | secondary | no | 2971 | no  | no  | cellular  | 17 | nov |  361 | 2 | 188 | 11 | other   | no  |\n\n",
            "text/latex": "A data.frame: 45211 × 17\n\\begin{tabular}{lllllllllllllllll}\n age & job & marital & education & default & balance & housing & loan & contact & day & month & duration & campaign & pdays & previous & poutcome & y\\\\\n <int> & <chr> & <chr> & <chr> & <chr> & <int> & <chr> & <chr> & <chr> & <int> & <chr> & <int> & <int> & <int> & <int> & <chr> & <chr>\\\\\n\\hline\n\t 58 & management   & married  & tertiary  & no  & 2143 & yes & no  & unknown & 5 & may & 261 & 1 & -1 & 0 & unknown & no\\\\\n\t 44 & technician   & single   & secondary & no  &   29 & yes & no  & unknown & 5 & may & 151 & 1 & -1 & 0 & unknown & no\\\\\n\t 33 & entrepreneur & married  & secondary & no  &    2 & yes & yes & unknown & 5 & may &  76 & 1 & -1 & 0 & unknown & no\\\\\n\t 47 & blue-collar  & married  & unknown   & no  & 1506 & yes & no  & unknown & 5 & may &  92 & 1 & -1 & 0 & unknown & no\\\\\n\t 33 & unknown      & single   & unknown   & no  &    1 & no  & no  & unknown & 5 & may & 198 & 1 & -1 & 0 & unknown & no\\\\\n\t 35 & management   & married  & tertiary  & no  &  231 & yes & no  & unknown & 5 & may & 139 & 1 & -1 & 0 & unknown & no\\\\\n\t 28 & management   & single   & tertiary  & no  &  447 & yes & yes & unknown & 5 & may & 217 & 1 & -1 & 0 & unknown & no\\\\\n\t 42 & entrepreneur & divorced & tertiary  & yes &    2 & yes & no  & unknown & 5 & may & 380 & 1 & -1 & 0 & unknown & no\\\\\n\t 58 & retired      & married  & primary   & no  &  121 & yes & no  & unknown & 5 & may &  50 & 1 & -1 & 0 & unknown & no\\\\\n\t 43 & technician   & single   & secondary & no  &  593 & yes & no  & unknown & 5 & may &  55 & 1 & -1 & 0 & unknown & no\\\\\n\t 41 & admin.       & divorced & secondary & no  &  270 & yes & no  & unknown & 5 & may & 222 & 1 & -1 & 0 & unknown & no\\\\\n\t 29 & admin.       & single   & secondary & no  &  390 & yes & no  & unknown & 5 & may & 137 & 1 & -1 & 0 & unknown & no\\\\\n\t 53 & technician   & married  & secondary & no  &    6 & yes & no  & unknown & 5 & may & 517 & 1 & -1 & 0 & unknown & no\\\\\n\t 58 & technician   & married  & unknown   & no  &   71 & yes & no  & unknown & 5 & may &  71 & 1 & -1 & 0 & unknown & no\\\\\n\t 57 & services     & married  & secondary & no  &  162 & yes & no  & unknown & 5 & may & 174 & 1 & -1 & 0 & unknown & no\\\\\n\t 51 & retired      & married  & primary   & no  &  229 & yes & no  & unknown & 5 & may & 353 & 1 & -1 & 0 & unknown & no\\\\\n\t 45 & admin.       & single   & unknown   & no  &   13 & yes & no  & unknown & 5 & may &  98 & 1 & -1 & 0 & unknown & no\\\\\n\t 57 & blue-collar  & married  & primary   & no  &   52 & yes & no  & unknown & 5 & may &  38 & 1 & -1 & 0 & unknown & no\\\\\n\t 60 & retired      & married  & primary   & no  &   60 & yes & no  & unknown & 5 & may & 219 & 1 & -1 & 0 & unknown & no\\\\\n\t 33 & services     & married  & secondary & no  &    0 & yes & no  & unknown & 5 & may &  54 & 1 & -1 & 0 & unknown & no\\\\\n\t 28 & blue-collar  & married  & secondary & no  &  723 & yes & yes & unknown & 5 & may & 262 & 1 & -1 & 0 & unknown & no\\\\\n\t 56 & management   & married  & tertiary  & no  &  779 & yes & no  & unknown & 5 & may & 164 & 1 & -1 & 0 & unknown & no\\\\\n\t 32 & blue-collar  & single   & primary   & no  &   23 & yes & yes & unknown & 5 & may & 160 & 1 & -1 & 0 & unknown & no\\\\\n\t 25 & services     & married  & secondary & no  &   50 & yes & no  & unknown & 5 & may & 342 & 1 & -1 & 0 & unknown & no\\\\\n\t 40 & retired      & married  & primary   & no  &    0 & yes & yes & unknown & 5 & may & 181 & 1 & -1 & 0 & unknown & no\\\\\n\t 44 & admin.       & married  & secondary & no  & -372 & yes & no  & unknown & 5 & may & 172 & 1 & -1 & 0 & unknown & no\\\\\n\t 39 & management   & single   & tertiary  & no  &  255 & yes & no  & unknown & 5 & may & 296 & 1 & -1 & 0 & unknown & no\\\\\n\t 52 & entrepreneur & married  & secondary & no  &  113 & yes & yes & unknown & 5 & may & 127 & 1 & -1 & 0 & unknown & no\\\\\n\t 46 & management   & single   & secondary & no  & -246 & yes & no  & unknown & 5 & may & 255 & 2 & -1 & 0 & unknown & no\\\\\n\t 36 & technician   & single   & secondary & no  &  265 & yes & yes & unknown & 5 & may & 348 & 1 & -1 & 0 & unknown & no\\\\\n\t ⋮ & ⋮ & ⋮ & ⋮ & ⋮ & ⋮ & ⋮ & ⋮ & ⋮ & ⋮ & ⋮ & ⋮ & ⋮ & ⋮ & ⋮ & ⋮ & ⋮\\\\\n\t 46 & blue-collar   & married  & secondary & no & 6879 & no  & no  & cellular  & 15 & nov &   74 & 2 & 118 &  3 & failure & no \\\\\n\t 34 & technician    & married  & secondary & no &  133 & no  & no  & cellular  & 15 & nov &  401 & 2 & 187 &  5 & success & yes\\\\\n\t 70 & retired       & married  & primary   & no &  324 & no  & no  & cellular  & 15 & nov &   78 & 1 &  96 &  7 & success & no \\\\\n\t 63 & retired       & married  & secondary & no & 1495 & no  & no  & cellular  & 16 & nov &  138 & 1 &  22 &  5 & success & no \\\\\n\t 60 & services      & married  & tertiary  & no & 4256 & yes & no  & cellular  & 16 & nov &  200 & 1 &  92 &  4 & success & yes\\\\\n\t 59 & unknown       & married  & unknown   & no & 1500 & no  & no  & cellular  & 16 & nov &  280 & 1 & 104 &  2 & failure & no \\\\\n\t 32 & services      & single   & secondary & no & 1168 & yes & no  & cellular  & 16 & nov &  411 & 1 &  -1 &  0 & unknown & yes\\\\\n\t 29 & management    & single   & secondary & no &  703 & yes & no  & cellular  & 16 & nov &  236 & 1 & 550 &  2 & success & yes\\\\\n\t 25 & services      & single   & secondary & no &  199 & no  & no  & cellular  & 16 & nov &  173 & 1 &  92 &  5 & failure & no \\\\\n\t 32 & blue-collar   & married  & secondary & no &  136 & no  & no  & cellular  & 16 & nov &  206 & 1 & 188 &  3 & success & yes\\\\\n\t 75 & retired       & divorced & tertiary  & no & 3810 & yes & no  & cellular  & 16 & nov &  262 & 1 & 183 &  1 & failure & yes\\\\\n\t 29 & management    & single   & tertiary  & no &  765 & no  & no  & cellular  & 16 & nov &  238 & 1 &  -1 &  0 & unknown & yes\\\\\n\t 28 & self-employed & single   & tertiary  & no &  159 & no  & no  & cellular  & 16 & nov &  449 & 2 &  33 &  4 & success & yes\\\\\n\t 59 & management    & married  & tertiary  & no &  138 & yes & yes & cellular  & 16 & nov &  162 & 2 & 187 &  5 & failure & no \\\\\n\t 68 & retired       & married  & secondary & no & 1146 & no  & no  & cellular  & 16 & nov &  212 & 1 & 187 &  6 & success & yes\\\\\n\t 25 & student       & single   & secondary & no &  358 & no  & no  & cellular  & 16 & nov &  330 & 1 &  -1 &  0 & unknown & yes\\\\\n\t 36 & management    & single   & secondary & no & 1511 & yes & no  & cellular  & 16 & nov &  270 & 1 &  -1 &  0 & unknown & yes\\\\\n\t 37 & management    & married  & tertiary  & no & 1428 & no  & no  & cellular  & 16 & nov &  333 & 2 &  -1 &  0 & unknown & no \\\\\n\t 34 & blue-collar   & single   & secondary & no & 1475 & yes & no  & cellular  & 16 & nov & 1166 & 3 & 530 & 12 & other   & no \\\\\n\t 38 & technician    & married  & secondary & no &  557 & yes & no  & cellular  & 16 & nov & 1556 & 4 &  -1 &  0 & unknown & yes\\\\\n\t 53 & management    & married  & tertiary  & no &  583 & no  & no  & cellular  & 17 & nov &  226 & 1 & 184 &  4 & success & yes\\\\\n\t 34 & admin.        & single   & secondary & no &  557 & no  & no  & cellular  & 17 & nov &  224 & 1 &  -1 &  0 & unknown & yes\\\\\n\t 23 & student       & single   & tertiary  & no &  113 & no  & no  & cellular  & 17 & nov &  266 & 1 &  -1 &  0 & unknown & yes\\\\\n\t 73 & retired       & married  & secondary & no & 2850 & no  & no  & cellular  & 17 & nov &  300 & 1 &  40 &  8 & failure & yes\\\\\n\t 25 & technician    & single   & secondary & no &  505 & no  & yes & cellular  & 17 & nov &  386 & 2 &  -1 &  0 & unknown & yes\\\\\n\t 51 & technician    & married  & tertiary  & no &  825 & no  & no  & cellular  & 17 & nov &  977 & 3 &  -1 &  0 & unknown & yes\\\\\n\t 71 & retired       & divorced & primary   & no & 1729 & no  & no  & cellular  & 17 & nov &  456 & 2 &  -1 &  0 & unknown & yes\\\\\n\t 72 & retired       & married  & secondary & no & 5715 & no  & no  & cellular  & 17 & nov & 1127 & 5 & 184 &  3 & success & yes\\\\\n\t 57 & blue-collar   & married  & secondary & no &  668 & no  & no  & telephone & 17 & nov &  508 & 4 &  -1 &  0 & unknown & no \\\\\n\t 37 & entrepreneur  & married  & secondary & no & 2971 & no  & no  & cellular  & 17 & nov &  361 & 2 & 188 & 11 & other   & no \\\\\n\\end{tabular}\n",
            "text/html": [
              "<table class=\"dataframe\">\n",
              "<caption>A data.frame: 45211 × 17</caption>\n",
              "<thead>\n",
              "\t<tr><th scope=col>age</th><th scope=col>job</th><th scope=col>marital</th><th scope=col>education</th><th scope=col>default</th><th scope=col>balance</th><th scope=col>housing</th><th scope=col>loan</th><th scope=col>contact</th><th scope=col>day</th><th scope=col>month</th><th scope=col>duration</th><th scope=col>campaign</th><th scope=col>pdays</th><th scope=col>previous</th><th scope=col>poutcome</th><th scope=col>y</th></tr>\n",
              "\t<tr><th scope=col>&lt;int&gt;</th><th scope=col>&lt;chr&gt;</th><th scope=col>&lt;chr&gt;</th><th scope=col>&lt;chr&gt;</th><th scope=col>&lt;chr&gt;</th><th scope=col>&lt;int&gt;</th><th scope=col>&lt;chr&gt;</th><th scope=col>&lt;chr&gt;</th><th scope=col>&lt;chr&gt;</th><th scope=col>&lt;int&gt;</th><th scope=col>&lt;chr&gt;</th><th scope=col>&lt;int&gt;</th><th scope=col>&lt;int&gt;</th><th scope=col>&lt;int&gt;</th><th scope=col>&lt;int&gt;</th><th scope=col>&lt;chr&gt;</th><th scope=col>&lt;chr&gt;</th></tr>\n",
              "</thead>\n",
              "<tbody>\n",
              "\t<tr><td>58</td><td>management  </td><td>married </td><td>tertiary </td><td>no </td><td>2143</td><td>yes</td><td>no </td><td>unknown</td><td>5</td><td>may</td><td>261</td><td>1</td><td>-1</td><td>0</td><td>unknown</td><td>no</td></tr>\n",
              "\t<tr><td>44</td><td>technician  </td><td>single  </td><td>secondary</td><td>no </td><td>  29</td><td>yes</td><td>no </td><td>unknown</td><td>5</td><td>may</td><td>151</td><td>1</td><td>-1</td><td>0</td><td>unknown</td><td>no</td></tr>\n",
              "\t<tr><td>33</td><td>entrepreneur</td><td>married </td><td>secondary</td><td>no </td><td>   2</td><td>yes</td><td>yes</td><td>unknown</td><td>5</td><td>may</td><td> 76</td><td>1</td><td>-1</td><td>0</td><td>unknown</td><td>no</td></tr>\n",
              "\t<tr><td>47</td><td>blue-collar </td><td>married </td><td>unknown  </td><td>no </td><td>1506</td><td>yes</td><td>no </td><td>unknown</td><td>5</td><td>may</td><td> 92</td><td>1</td><td>-1</td><td>0</td><td>unknown</td><td>no</td></tr>\n",
              "\t<tr><td>33</td><td>unknown     </td><td>single  </td><td>unknown  </td><td>no </td><td>   1</td><td>no </td><td>no </td><td>unknown</td><td>5</td><td>may</td><td>198</td><td>1</td><td>-1</td><td>0</td><td>unknown</td><td>no</td></tr>\n",
              "\t<tr><td>35</td><td>management  </td><td>married </td><td>tertiary </td><td>no </td><td> 231</td><td>yes</td><td>no </td><td>unknown</td><td>5</td><td>may</td><td>139</td><td>1</td><td>-1</td><td>0</td><td>unknown</td><td>no</td></tr>\n",
              "\t<tr><td>28</td><td>management  </td><td>single  </td><td>tertiary </td><td>no </td><td> 447</td><td>yes</td><td>yes</td><td>unknown</td><td>5</td><td>may</td><td>217</td><td>1</td><td>-1</td><td>0</td><td>unknown</td><td>no</td></tr>\n",
              "\t<tr><td>42</td><td>entrepreneur</td><td>divorced</td><td>tertiary </td><td>yes</td><td>   2</td><td>yes</td><td>no </td><td>unknown</td><td>5</td><td>may</td><td>380</td><td>1</td><td>-1</td><td>0</td><td>unknown</td><td>no</td></tr>\n",
              "\t<tr><td>58</td><td>retired     </td><td>married </td><td>primary  </td><td>no </td><td> 121</td><td>yes</td><td>no </td><td>unknown</td><td>5</td><td>may</td><td> 50</td><td>1</td><td>-1</td><td>0</td><td>unknown</td><td>no</td></tr>\n",
              "\t<tr><td>43</td><td>technician  </td><td>single  </td><td>secondary</td><td>no </td><td> 593</td><td>yes</td><td>no </td><td>unknown</td><td>5</td><td>may</td><td> 55</td><td>1</td><td>-1</td><td>0</td><td>unknown</td><td>no</td></tr>\n",
              "\t<tr><td>41</td><td>admin.      </td><td>divorced</td><td>secondary</td><td>no </td><td> 270</td><td>yes</td><td>no </td><td>unknown</td><td>5</td><td>may</td><td>222</td><td>1</td><td>-1</td><td>0</td><td>unknown</td><td>no</td></tr>\n",
              "\t<tr><td>29</td><td>admin.      </td><td>single  </td><td>secondary</td><td>no </td><td> 390</td><td>yes</td><td>no </td><td>unknown</td><td>5</td><td>may</td><td>137</td><td>1</td><td>-1</td><td>0</td><td>unknown</td><td>no</td></tr>\n",
              "\t<tr><td>53</td><td>technician  </td><td>married </td><td>secondary</td><td>no </td><td>   6</td><td>yes</td><td>no </td><td>unknown</td><td>5</td><td>may</td><td>517</td><td>1</td><td>-1</td><td>0</td><td>unknown</td><td>no</td></tr>\n",
              "\t<tr><td>58</td><td>technician  </td><td>married </td><td>unknown  </td><td>no </td><td>  71</td><td>yes</td><td>no </td><td>unknown</td><td>5</td><td>may</td><td> 71</td><td>1</td><td>-1</td><td>0</td><td>unknown</td><td>no</td></tr>\n",
              "\t<tr><td>57</td><td>services    </td><td>married </td><td>secondary</td><td>no </td><td> 162</td><td>yes</td><td>no </td><td>unknown</td><td>5</td><td>may</td><td>174</td><td>1</td><td>-1</td><td>0</td><td>unknown</td><td>no</td></tr>\n",
              "\t<tr><td>51</td><td>retired     </td><td>married </td><td>primary  </td><td>no </td><td> 229</td><td>yes</td><td>no </td><td>unknown</td><td>5</td><td>may</td><td>353</td><td>1</td><td>-1</td><td>0</td><td>unknown</td><td>no</td></tr>\n",
              "\t<tr><td>45</td><td>admin.      </td><td>single  </td><td>unknown  </td><td>no </td><td>  13</td><td>yes</td><td>no </td><td>unknown</td><td>5</td><td>may</td><td> 98</td><td>1</td><td>-1</td><td>0</td><td>unknown</td><td>no</td></tr>\n",
              "\t<tr><td>57</td><td>blue-collar </td><td>married </td><td>primary  </td><td>no </td><td>  52</td><td>yes</td><td>no </td><td>unknown</td><td>5</td><td>may</td><td> 38</td><td>1</td><td>-1</td><td>0</td><td>unknown</td><td>no</td></tr>\n",
              "\t<tr><td>60</td><td>retired     </td><td>married </td><td>primary  </td><td>no </td><td>  60</td><td>yes</td><td>no </td><td>unknown</td><td>5</td><td>may</td><td>219</td><td>1</td><td>-1</td><td>0</td><td>unknown</td><td>no</td></tr>\n",
              "\t<tr><td>33</td><td>services    </td><td>married </td><td>secondary</td><td>no </td><td>   0</td><td>yes</td><td>no </td><td>unknown</td><td>5</td><td>may</td><td> 54</td><td>1</td><td>-1</td><td>0</td><td>unknown</td><td>no</td></tr>\n",
              "\t<tr><td>28</td><td>blue-collar </td><td>married </td><td>secondary</td><td>no </td><td> 723</td><td>yes</td><td>yes</td><td>unknown</td><td>5</td><td>may</td><td>262</td><td>1</td><td>-1</td><td>0</td><td>unknown</td><td>no</td></tr>\n",
              "\t<tr><td>56</td><td>management  </td><td>married </td><td>tertiary </td><td>no </td><td> 779</td><td>yes</td><td>no </td><td>unknown</td><td>5</td><td>may</td><td>164</td><td>1</td><td>-1</td><td>0</td><td>unknown</td><td>no</td></tr>\n",
              "\t<tr><td>32</td><td>blue-collar </td><td>single  </td><td>primary  </td><td>no </td><td>  23</td><td>yes</td><td>yes</td><td>unknown</td><td>5</td><td>may</td><td>160</td><td>1</td><td>-1</td><td>0</td><td>unknown</td><td>no</td></tr>\n",
              "\t<tr><td>25</td><td>services    </td><td>married </td><td>secondary</td><td>no </td><td>  50</td><td>yes</td><td>no </td><td>unknown</td><td>5</td><td>may</td><td>342</td><td>1</td><td>-1</td><td>0</td><td>unknown</td><td>no</td></tr>\n",
              "\t<tr><td>40</td><td>retired     </td><td>married </td><td>primary  </td><td>no </td><td>   0</td><td>yes</td><td>yes</td><td>unknown</td><td>5</td><td>may</td><td>181</td><td>1</td><td>-1</td><td>0</td><td>unknown</td><td>no</td></tr>\n",
              "\t<tr><td>44</td><td>admin.      </td><td>married </td><td>secondary</td><td>no </td><td>-372</td><td>yes</td><td>no </td><td>unknown</td><td>5</td><td>may</td><td>172</td><td>1</td><td>-1</td><td>0</td><td>unknown</td><td>no</td></tr>\n",
              "\t<tr><td>39</td><td>management  </td><td>single  </td><td>tertiary </td><td>no </td><td> 255</td><td>yes</td><td>no </td><td>unknown</td><td>5</td><td>may</td><td>296</td><td>1</td><td>-1</td><td>0</td><td>unknown</td><td>no</td></tr>\n",
              "\t<tr><td>52</td><td>entrepreneur</td><td>married </td><td>secondary</td><td>no </td><td> 113</td><td>yes</td><td>yes</td><td>unknown</td><td>5</td><td>may</td><td>127</td><td>1</td><td>-1</td><td>0</td><td>unknown</td><td>no</td></tr>\n",
              "\t<tr><td>46</td><td>management  </td><td>single  </td><td>secondary</td><td>no </td><td>-246</td><td>yes</td><td>no </td><td>unknown</td><td>5</td><td>may</td><td>255</td><td>2</td><td>-1</td><td>0</td><td>unknown</td><td>no</td></tr>\n",
              "\t<tr><td>36</td><td>technician  </td><td>single  </td><td>secondary</td><td>no </td><td> 265</td><td>yes</td><td>yes</td><td>unknown</td><td>5</td><td>may</td><td>348</td><td>1</td><td>-1</td><td>0</td><td>unknown</td><td>no</td></tr>\n",
              "\t<tr><td>⋮</td><td>⋮</td><td>⋮</td><td>⋮</td><td>⋮</td><td>⋮</td><td>⋮</td><td>⋮</td><td>⋮</td><td>⋮</td><td>⋮</td><td>⋮</td><td>⋮</td><td>⋮</td><td>⋮</td><td>⋮</td><td>⋮</td></tr>\n",
              "\t<tr><td>46</td><td>blue-collar  </td><td>married </td><td>secondary</td><td>no</td><td>6879</td><td>no </td><td>no </td><td>cellular </td><td>15</td><td>nov</td><td>  74</td><td>2</td><td>118</td><td> 3</td><td>failure</td><td>no </td></tr>\n",
              "\t<tr><td>34</td><td>technician   </td><td>married </td><td>secondary</td><td>no</td><td> 133</td><td>no </td><td>no </td><td>cellular </td><td>15</td><td>nov</td><td> 401</td><td>2</td><td>187</td><td> 5</td><td>success</td><td>yes</td></tr>\n",
              "\t<tr><td>70</td><td>retired      </td><td>married </td><td>primary  </td><td>no</td><td> 324</td><td>no </td><td>no </td><td>cellular </td><td>15</td><td>nov</td><td>  78</td><td>1</td><td> 96</td><td> 7</td><td>success</td><td>no </td></tr>\n",
              "\t<tr><td>63</td><td>retired      </td><td>married </td><td>secondary</td><td>no</td><td>1495</td><td>no </td><td>no </td><td>cellular </td><td>16</td><td>nov</td><td> 138</td><td>1</td><td> 22</td><td> 5</td><td>success</td><td>no </td></tr>\n",
              "\t<tr><td>60</td><td>services     </td><td>married </td><td>tertiary </td><td>no</td><td>4256</td><td>yes</td><td>no </td><td>cellular </td><td>16</td><td>nov</td><td> 200</td><td>1</td><td> 92</td><td> 4</td><td>success</td><td>yes</td></tr>\n",
              "\t<tr><td>59</td><td>unknown      </td><td>married </td><td>unknown  </td><td>no</td><td>1500</td><td>no </td><td>no </td><td>cellular </td><td>16</td><td>nov</td><td> 280</td><td>1</td><td>104</td><td> 2</td><td>failure</td><td>no </td></tr>\n",
              "\t<tr><td>32</td><td>services     </td><td>single  </td><td>secondary</td><td>no</td><td>1168</td><td>yes</td><td>no </td><td>cellular </td><td>16</td><td>nov</td><td> 411</td><td>1</td><td> -1</td><td> 0</td><td>unknown</td><td>yes</td></tr>\n",
              "\t<tr><td>29</td><td>management   </td><td>single  </td><td>secondary</td><td>no</td><td> 703</td><td>yes</td><td>no </td><td>cellular </td><td>16</td><td>nov</td><td> 236</td><td>1</td><td>550</td><td> 2</td><td>success</td><td>yes</td></tr>\n",
              "\t<tr><td>25</td><td>services     </td><td>single  </td><td>secondary</td><td>no</td><td> 199</td><td>no </td><td>no </td><td>cellular </td><td>16</td><td>nov</td><td> 173</td><td>1</td><td> 92</td><td> 5</td><td>failure</td><td>no </td></tr>\n",
              "\t<tr><td>32</td><td>blue-collar  </td><td>married </td><td>secondary</td><td>no</td><td> 136</td><td>no </td><td>no </td><td>cellular </td><td>16</td><td>nov</td><td> 206</td><td>1</td><td>188</td><td> 3</td><td>success</td><td>yes</td></tr>\n",
              "\t<tr><td>75</td><td>retired      </td><td>divorced</td><td>tertiary </td><td>no</td><td>3810</td><td>yes</td><td>no </td><td>cellular </td><td>16</td><td>nov</td><td> 262</td><td>1</td><td>183</td><td> 1</td><td>failure</td><td>yes</td></tr>\n",
              "\t<tr><td>29</td><td>management   </td><td>single  </td><td>tertiary </td><td>no</td><td> 765</td><td>no </td><td>no </td><td>cellular </td><td>16</td><td>nov</td><td> 238</td><td>1</td><td> -1</td><td> 0</td><td>unknown</td><td>yes</td></tr>\n",
              "\t<tr><td>28</td><td>self-employed</td><td>single  </td><td>tertiary </td><td>no</td><td> 159</td><td>no </td><td>no </td><td>cellular </td><td>16</td><td>nov</td><td> 449</td><td>2</td><td> 33</td><td> 4</td><td>success</td><td>yes</td></tr>\n",
              "\t<tr><td>59</td><td>management   </td><td>married </td><td>tertiary </td><td>no</td><td> 138</td><td>yes</td><td>yes</td><td>cellular </td><td>16</td><td>nov</td><td> 162</td><td>2</td><td>187</td><td> 5</td><td>failure</td><td>no </td></tr>\n",
              "\t<tr><td>68</td><td>retired      </td><td>married </td><td>secondary</td><td>no</td><td>1146</td><td>no </td><td>no </td><td>cellular </td><td>16</td><td>nov</td><td> 212</td><td>1</td><td>187</td><td> 6</td><td>success</td><td>yes</td></tr>\n",
              "\t<tr><td>25</td><td>student      </td><td>single  </td><td>secondary</td><td>no</td><td> 358</td><td>no </td><td>no </td><td>cellular </td><td>16</td><td>nov</td><td> 330</td><td>1</td><td> -1</td><td> 0</td><td>unknown</td><td>yes</td></tr>\n",
              "\t<tr><td>36</td><td>management   </td><td>single  </td><td>secondary</td><td>no</td><td>1511</td><td>yes</td><td>no </td><td>cellular </td><td>16</td><td>nov</td><td> 270</td><td>1</td><td> -1</td><td> 0</td><td>unknown</td><td>yes</td></tr>\n",
              "\t<tr><td>37</td><td>management   </td><td>married </td><td>tertiary </td><td>no</td><td>1428</td><td>no </td><td>no </td><td>cellular </td><td>16</td><td>nov</td><td> 333</td><td>2</td><td> -1</td><td> 0</td><td>unknown</td><td>no </td></tr>\n",
              "\t<tr><td>34</td><td>blue-collar  </td><td>single  </td><td>secondary</td><td>no</td><td>1475</td><td>yes</td><td>no </td><td>cellular </td><td>16</td><td>nov</td><td>1166</td><td>3</td><td>530</td><td>12</td><td>other  </td><td>no </td></tr>\n",
              "\t<tr><td>38</td><td>technician   </td><td>married </td><td>secondary</td><td>no</td><td> 557</td><td>yes</td><td>no </td><td>cellular </td><td>16</td><td>nov</td><td>1556</td><td>4</td><td> -1</td><td> 0</td><td>unknown</td><td>yes</td></tr>\n",
              "\t<tr><td>53</td><td>management   </td><td>married </td><td>tertiary </td><td>no</td><td> 583</td><td>no </td><td>no </td><td>cellular </td><td>17</td><td>nov</td><td> 226</td><td>1</td><td>184</td><td> 4</td><td>success</td><td>yes</td></tr>\n",
              "\t<tr><td>34</td><td>admin.       </td><td>single  </td><td>secondary</td><td>no</td><td> 557</td><td>no </td><td>no </td><td>cellular </td><td>17</td><td>nov</td><td> 224</td><td>1</td><td> -1</td><td> 0</td><td>unknown</td><td>yes</td></tr>\n",
              "\t<tr><td>23</td><td>student      </td><td>single  </td><td>tertiary </td><td>no</td><td> 113</td><td>no </td><td>no </td><td>cellular </td><td>17</td><td>nov</td><td> 266</td><td>1</td><td> -1</td><td> 0</td><td>unknown</td><td>yes</td></tr>\n",
              "\t<tr><td>73</td><td>retired      </td><td>married </td><td>secondary</td><td>no</td><td>2850</td><td>no </td><td>no </td><td>cellular </td><td>17</td><td>nov</td><td> 300</td><td>1</td><td> 40</td><td> 8</td><td>failure</td><td>yes</td></tr>\n",
              "\t<tr><td>25</td><td>technician   </td><td>single  </td><td>secondary</td><td>no</td><td> 505</td><td>no </td><td>yes</td><td>cellular </td><td>17</td><td>nov</td><td> 386</td><td>2</td><td> -1</td><td> 0</td><td>unknown</td><td>yes</td></tr>\n",
              "\t<tr><td>51</td><td>technician   </td><td>married </td><td>tertiary </td><td>no</td><td> 825</td><td>no </td><td>no </td><td>cellular </td><td>17</td><td>nov</td><td> 977</td><td>3</td><td> -1</td><td> 0</td><td>unknown</td><td>yes</td></tr>\n",
              "\t<tr><td>71</td><td>retired      </td><td>divorced</td><td>primary  </td><td>no</td><td>1729</td><td>no </td><td>no </td><td>cellular </td><td>17</td><td>nov</td><td> 456</td><td>2</td><td> -1</td><td> 0</td><td>unknown</td><td>yes</td></tr>\n",
              "\t<tr><td>72</td><td>retired      </td><td>married </td><td>secondary</td><td>no</td><td>5715</td><td>no </td><td>no </td><td>cellular </td><td>17</td><td>nov</td><td>1127</td><td>5</td><td>184</td><td> 3</td><td>success</td><td>yes</td></tr>\n",
              "\t<tr><td>57</td><td>blue-collar  </td><td>married </td><td>secondary</td><td>no</td><td> 668</td><td>no </td><td>no </td><td>telephone</td><td>17</td><td>nov</td><td> 508</td><td>4</td><td> -1</td><td> 0</td><td>unknown</td><td>no </td></tr>\n",
              "\t<tr><td>37</td><td>entrepreneur </td><td>married </td><td>secondary</td><td>no</td><td>2971</td><td>no </td><td>no </td><td>cellular </td><td>17</td><td>nov</td><td> 361</td><td>2</td><td>188</td><td>11</td><td>other  </td><td>no </td></tr>\n",
              "</tbody>\n",
              "</table>\n"
            ],
            "text/plain": [
              "      age job           marital  education default balance housing loan\n",
              "1     58  management    married  tertiary  no      2143    yes     no  \n",
              "2     44  technician    single   secondary no        29    yes     no  \n",
              "3     33  entrepreneur  married  secondary no         2    yes     yes \n",
              "4     47  blue-collar   married  unknown   no      1506    yes     no  \n",
              "5     33  unknown       single   unknown   no         1    no      no  \n",
              "6     35  management    married  tertiary  no       231    yes     no  \n",
              "7     28  management    single   tertiary  no       447    yes     yes \n",
              "8     42  entrepreneur  divorced tertiary  yes        2    yes     no  \n",
              "9     58  retired       married  primary   no       121    yes     no  \n",
              "10    43  technician    single   secondary no       593    yes     no  \n",
              "11    41  admin.        divorced secondary no       270    yes     no  \n",
              "12    29  admin.        single   secondary no       390    yes     no  \n",
              "13    53  technician    married  secondary no         6    yes     no  \n",
              "14    58  technician    married  unknown   no        71    yes     no  \n",
              "15    57  services      married  secondary no       162    yes     no  \n",
              "16    51  retired       married  primary   no       229    yes     no  \n",
              "17    45  admin.        single   unknown   no        13    yes     no  \n",
              "18    57  blue-collar   married  primary   no        52    yes     no  \n",
              "19    60  retired       married  primary   no        60    yes     no  \n",
              "20    33  services      married  secondary no         0    yes     no  \n",
              "21    28  blue-collar   married  secondary no       723    yes     yes \n",
              "22    56  management    married  tertiary  no       779    yes     no  \n",
              "23    32  blue-collar   single   primary   no        23    yes     yes \n",
              "24    25  services      married  secondary no        50    yes     no  \n",
              "25    40  retired       married  primary   no         0    yes     yes \n",
              "26    44  admin.        married  secondary no      -372    yes     no  \n",
              "27    39  management    single   tertiary  no       255    yes     no  \n",
              "28    52  entrepreneur  married  secondary no       113    yes     yes \n",
              "29    46  management    single   secondary no      -246    yes     no  \n",
              "30    36  technician    single   secondary no       265    yes     yes \n",
              "⋮     ⋮   ⋮             ⋮        ⋮         ⋮       ⋮       ⋮       ⋮   \n",
              "45182 46  blue-collar   married  secondary no      6879    no      no  \n",
              "45183 34  technician    married  secondary no       133    no      no  \n",
              "45184 70  retired       married  primary   no       324    no      no  \n",
              "45185 63  retired       married  secondary no      1495    no      no  \n",
              "45186 60  services      married  tertiary  no      4256    yes     no  \n",
              "45187 59  unknown       married  unknown   no      1500    no      no  \n",
              "45188 32  services      single   secondary no      1168    yes     no  \n",
              "45189 29  management    single   secondary no       703    yes     no  \n",
              "45190 25  services      single   secondary no       199    no      no  \n",
              "45191 32  blue-collar   married  secondary no       136    no      no  \n",
              "45192 75  retired       divorced tertiary  no      3810    yes     no  \n",
              "45193 29  management    single   tertiary  no       765    no      no  \n",
              "45194 28  self-employed single   tertiary  no       159    no      no  \n",
              "45195 59  management    married  tertiary  no       138    yes     yes \n",
              "45196 68  retired       married  secondary no      1146    no      no  \n",
              "45197 25  student       single   secondary no       358    no      no  \n",
              "45198 36  management    single   secondary no      1511    yes     no  \n",
              "45199 37  management    married  tertiary  no      1428    no      no  \n",
              "45200 34  blue-collar   single   secondary no      1475    yes     no  \n",
              "45201 38  technician    married  secondary no       557    yes     no  \n",
              "45202 53  management    married  tertiary  no       583    no      no  \n",
              "45203 34  admin.        single   secondary no       557    no      no  \n",
              "45204 23  student       single   tertiary  no       113    no      no  \n",
              "45205 73  retired       married  secondary no      2850    no      no  \n",
              "45206 25  technician    single   secondary no       505    no      yes \n",
              "45207 51  technician    married  tertiary  no       825    no      no  \n",
              "45208 71  retired       divorced primary   no      1729    no      no  \n",
              "45209 72  retired       married  secondary no      5715    no      no  \n",
              "45210 57  blue-collar   married  secondary no       668    no      no  \n",
              "45211 37  entrepreneur  married  secondary no      2971    no      no  \n",
              "      contact   day month duration campaign pdays previous poutcome y  \n",
              "1     unknown   5   may   261      1        -1    0        unknown  no \n",
              "2     unknown   5   may   151      1        -1    0        unknown  no \n",
              "3     unknown   5   may    76      1        -1    0        unknown  no \n",
              "4     unknown   5   may    92      1        -1    0        unknown  no \n",
              "5     unknown   5   may   198      1        -1    0        unknown  no \n",
              "6     unknown   5   may   139      1        -1    0        unknown  no \n",
              "7     unknown   5   may   217      1        -1    0        unknown  no \n",
              "8     unknown   5   may   380      1        -1    0        unknown  no \n",
              "9     unknown   5   may    50      1        -1    0        unknown  no \n",
              "10    unknown   5   may    55      1        -1    0        unknown  no \n",
              "11    unknown   5   may   222      1        -1    0        unknown  no \n",
              "12    unknown   5   may   137      1        -1    0        unknown  no \n",
              "13    unknown   5   may   517      1        -1    0        unknown  no \n",
              "14    unknown   5   may    71      1        -1    0        unknown  no \n",
              "15    unknown   5   may   174      1        -1    0        unknown  no \n",
              "16    unknown   5   may   353      1        -1    0        unknown  no \n",
              "17    unknown   5   may    98      1        -1    0        unknown  no \n",
              "18    unknown   5   may    38      1        -1    0        unknown  no \n",
              "19    unknown   5   may   219      1        -1    0        unknown  no \n",
              "20    unknown   5   may    54      1        -1    0        unknown  no \n",
              "21    unknown   5   may   262      1        -1    0        unknown  no \n",
              "22    unknown   5   may   164      1        -1    0        unknown  no \n",
              "23    unknown   5   may   160      1        -1    0        unknown  no \n",
              "24    unknown   5   may   342      1        -1    0        unknown  no \n",
              "25    unknown   5   may   181      1        -1    0        unknown  no \n",
              "26    unknown   5   may   172      1        -1    0        unknown  no \n",
              "27    unknown   5   may   296      1        -1    0        unknown  no \n",
              "28    unknown   5   may   127      1        -1    0        unknown  no \n",
              "29    unknown   5   may   255      2        -1    0        unknown  no \n",
              "30    unknown   5   may   348      1        -1    0        unknown  no \n",
              "⋮     ⋮         ⋮   ⋮     ⋮        ⋮        ⋮     ⋮        ⋮        ⋮  \n",
              "45182 cellular  15  nov     74     2        118    3       failure  no \n",
              "45183 cellular  15  nov    401     2        187    5       success  yes\n",
              "45184 cellular  15  nov     78     1         96    7       success  no \n",
              "45185 cellular  16  nov    138     1         22    5       success  no \n",
              "45186 cellular  16  nov    200     1         92    4       success  yes\n",
              "45187 cellular  16  nov    280     1        104    2       failure  no \n",
              "45188 cellular  16  nov    411     1         -1    0       unknown  yes\n",
              "45189 cellular  16  nov    236     1        550    2       success  yes\n",
              "45190 cellular  16  nov    173     1         92    5       failure  no \n",
              "45191 cellular  16  nov    206     1        188    3       success  yes\n",
              "45192 cellular  16  nov    262     1        183    1       failure  yes\n",
              "45193 cellular  16  nov    238     1         -1    0       unknown  yes\n",
              "45194 cellular  16  nov    449     2         33    4       success  yes\n",
              "45195 cellular  16  nov    162     2        187    5       failure  no \n",
              "45196 cellular  16  nov    212     1        187    6       success  yes\n",
              "45197 cellular  16  nov    330     1         -1    0       unknown  yes\n",
              "45198 cellular  16  nov    270     1         -1    0       unknown  yes\n",
              "45199 cellular  16  nov    333     2         -1    0       unknown  no \n",
              "45200 cellular  16  nov   1166     3        530   12       other    no \n",
              "45201 cellular  16  nov   1556     4         -1    0       unknown  yes\n",
              "45202 cellular  17  nov    226     1        184    4       success  yes\n",
              "45203 cellular  17  nov    224     1         -1    0       unknown  yes\n",
              "45204 cellular  17  nov    266     1         -1    0       unknown  yes\n",
              "45205 cellular  17  nov    300     1         40    8       failure  yes\n",
              "45206 cellular  17  nov    386     2         -1    0       unknown  yes\n",
              "45207 cellular  17  nov    977     3         -1    0       unknown  yes\n",
              "45208 cellular  17  nov    456     2         -1    0       unknown  yes\n",
              "45209 cellular  17  nov   1127     5        184    3       success  yes\n",
              "45210 telephone 17  nov    508     4         -1    0       unknown  no \n",
              "45211 cellular  17  nov    361     2        188   11       other    no "
            ]
          },
          "metadata": {
            "tags": []
          }
        }
      ]
    },
    {
      "cell_type": "markdown",
      "metadata": {
        "id": "sqY3fYoP0TpD"
      },
      "source": [
        "Criando uma nova coluna"
      ]
    },
    {
      "cell_type": "code",
      "metadata": {
        "colab": {
          "base_uri": "https://localhost:8080/",
          "height": 136
        },
        "id": "y9DBLtlQzlPA",
        "outputId": "54cf9d97-9188-4872-c74c-67d2561f824e"
      },
      "source": [
        "# coluna -> que mostra o trabalho de cada pessoa nesse conjunto de dados\n",
        "# table -> quantifica as quantidades de uma coluna\n",
        "table(bank$job)"
      ],
      "execution_count": 5,
      "outputs": [
        {
          "output_type": "display_data",
          "data": {
            "text/plain": [
              "\n",
              "       admin.   blue-collar  entrepreneur     housemaid    management \n",
              "         5171          9732          1487          1240          9458 \n",
              "      retired self-employed      services       student    technician \n",
              "         2264          1579          4154           938          7597 \n",
              "   unemployed       unknown \n",
              "         1303           288 "
            ]
          },
          "metadata": {
            "tags": []
          }
        }
      ]
    },
    {
      "cell_type": "code",
      "metadata": {
        "colab": {
          "base_uri": "https://localhost:8080/"
        },
        "id": "uPiq4o2W1Un9",
        "outputId": "11f53ea8-be9f-41e7-c967-bcb548ca226d"
      },
      "source": [
        "install.packages(\"dplyr\", dependencies = T)\n",
        "#install.packages(\"ggplot2\", dependencies = T)\n",
        "library(dplyr)\n"
      ],
      "execution_count": 10,
      "outputs": [
        {
          "output_type": "stream",
          "text": [
            "Installing package into ‘/usr/local/lib/R/site-library’\n",
            "(as ‘lib’ is unspecified)\n",
            "\n"
          ],
          "name": "stderr"
        }
      ]
    },
    {
      "cell_type": "code",
      "metadata": {
        "colab": {
          "base_uri": "https://localhost:8080/"
        },
        "id": "N_Q6eFU82MBe",
        "outputId": "ce21f248-f9c0-42da-c367-9d6a8665ea00"
      },
      "source": [
        "install.packages('ggplot2', repos='http://cran.us.r-project.org')\n",
        "#install.packages(\"ggplot2\")\n",
        "\n",
        "#library(ggploto2)"
      ],
      "execution_count": 14,
      "outputs": [
        {
          "output_type": "stream",
          "text": [
            "Installing package into ‘/usr/local/lib/R/site-library’\n",
            "(as ‘lib’ is unspecified)\n",
            "\n"
          ],
          "name": "stderr"
        }
      ]
    },
    {
      "cell_type": "code",
      "metadata": {
        "id": "ZAhFTOY_-FQG"
      },
      "source": [
        "library(ggplot2)"
      ],
      "execution_count": 16,
      "outputs": []
    },
    {
      "cell_type": "code",
      "metadata": {
        "colab": {
          "base_uri": "https://localhost:8080/",
          "height": 437
        },
        "id": "yEo-4PZ5-LBj",
        "outputId": "f727784f-7ad3-4bb2-a5d6-cd2401ed7aa1"
      },
      "source": [
        "bank %>%\n",
        "  group_by(job) %>%\n",
        "  summarise(n = n()) %>%\n",
        "  ggplot(aes(x = job, y = n)) +\n",
        "  geom_bar(stat = \"identity\") +\n",
        "  theme(axis.text.x = element_text(angle = 90, hjust = 1))"
      ],
      "execution_count": 18,
      "outputs": [
        {
          "output_type": "display_data",
          "data": {
            "image/png": "[encoded data removed]",
            "text/plain": [
              "plot without title"
            ]
          },
          "metadata": {
            "tags": [],
            "image/png": {
              "width": 420,
              "height": 420
            }
          }
        }
      ]
    },
    {
      "cell_type": "code",
      "metadata": {
        "id": "nXj8NcWl-51G"
      },
      "source": [
        "# Usando a função mutate do pacote dplyr para criar uma nova coluna no datset"
      ],
      "execution_count": 19,
      "outputs": []
    },
    {
      "cell_type": "code",
      "metadata": {
        "colab": {
          "base_uri": "https://localhost:8080/",
          "height": 136
        },
        "id": "Pz7RM6YH_vlT",
        "outputId": "90603c46-507b-443b-ff50-203a5dd1c51c"
      },
      "source": [
        "table(bank$job)"
      ],
      "execution_count": 23,
      "outputs": [
        {
          "output_type": "display_data",
          "data": {
            "text/plain": [
              "\n",
              "       admin.   blue-collar  entrepreneur     housemaid    management \n",
              "         5171          9732          1487          1240          9458 \n",
              "      retired self-employed      services       student    technician \n",
              "         2264          1579          4154           938          7597 \n",
              "   unemployed       unknown \n",
              "         1303           288 "
            ]
          },
          "metadata": {
            "tags": []
          }
        }
      ]
    },
    {
      "cell_type": "code",
      "metadata": {
        "id": "7Egzwgwn_fnt"
      },
      "source": [
        "bank <- bank %>%\n",
        "  mutate(tecchnology_use =\n",
        "          case_when(job == 'admin' ~ \"medio\",\n",
        "                    job == 'blue-collar' ~ \"baixo\",\n",
        "                    job == 'entrepreneur' ~ \"alto\",\n",
        "                    job == 'housemaid' ~ \"baixo\",\n",
        "                    job == 'management' ~ \"medio\",\n",
        "                    job == 'retired' ~ \"baixo\",\n",
        "                    job == 'self-employed' ~ \"baixo\",\n",
        "                    job == 'services' ~ \"medio\",\n",
        "                    job == 'student' ~ \"alto\",\n",
        "                    job == 'technician' ~ \"alto\",\n",
        "                    job == 'unemployed' ~ \"baixo\",\n",
        "                    job == 'unknown' ~ \"baixo\"))"
      ],
      "execution_count": 24,
      "outputs": []
    },
    {
      "cell_type": "code",
      "metadata": {
        "colab": {
          "base_uri": "https://localhost:8080/",
          "height": 303
        },
        "id": "d-Pg9i_JCKKU",
        "outputId": "c8e0c4c0-2ac9-4bc4-a142-dbf6469bbffe"
      },
      "source": [
        "head(bank)"
      ],
      "execution_count": 25,
      "outputs": [
        {
          "output_type": "display_data",
          "data": {
            "text/plain": [
              "  age job          marital education default balance housing loan contact day\n",
              "1 58  management   married tertiary  no      2143    yes     no   unknown 5  \n",
              "2 44  technician   single  secondary no        29    yes     no   unknown 5  \n",
              "3 33  entrepreneur married secondary no         2    yes     yes  unknown 5  \n",
              "4 47  blue-collar  married unknown   no      1506    yes     no   unknown 5  \n",
              "5 33  unknown      single  unknown   no         1    no      no   unknown 5  \n",
              "6 35  management   married tertiary  no       231    yes     no   unknown 5  \n",
              "  month duration campaign pdays previous poutcome y  tecchnology_use\n",
              "1 may   261      1        -1    0        unknown  no medio          \n",
              "2 may   151      1        -1    0        unknown  no alto           \n",
              "3 may    76      1        -1    0        unknown  no alto           \n",
              "4 may    92      1        -1    0        unknown  no baixo          \n",
              "5 may   198      1        -1    0        unknown  no baixo          \n",
              "6 may   139      1        -1    0        unknown  no medio          "
            ],
            "text/latex": "A data.frame: 6 × 18\n\\begin{tabular}{r|llllllllllllllllll}\n  & age & job & marital & education & default & balance & housing & loan & contact & day & month & duration & campaign & pdays & previous & poutcome & y & tecchnology\\_use\\\\\n  & <int> & <chr> & <chr> & <chr> & <chr> & <int> & <chr> & <chr> & <chr> & <int> & <chr> & <int> & <int> & <int> & <int> & <chr> & <chr> & <chr>\\\\\n\\hline\n\t1 & 58 & management   & married & tertiary  & no & 2143 & yes & no  & unknown & 5 & may & 261 & 1 & -1 & 0 & unknown & no & medio\\\\\n\t2 & 44 & technician   & single  & secondary & no &   29 & yes & no  & unknown & 5 & may & 151 & 1 & -1 & 0 & unknown & no & alto \\\\\n\t3 & 33 & entrepreneur & married & secondary & no &    2 & yes & yes & unknown & 5 & may &  76 & 1 & -1 & 0 & unknown & no & alto \\\\\n\t4 & 47 & blue-collar  & married & unknown   & no & 1506 & yes & no  & unknown & 5 & may &  92 & 1 & -1 & 0 & unknown & no & baixo\\\\\n\t5 & 33 & unknown      & single  & unknown   & no &    1 & no  & no  & unknown & 5 & may & 198 & 1 & -1 & 0 & unknown & no & baixo\\\\\n\t6 & 35 & management   & married & tertiary  & no &  231 & yes & no  & unknown & 5 & may & 139 & 1 & -1 & 0 & unknown & no & medio\\\\\n\\end{tabular}\n",
            "text/markdown": "\nA data.frame: 6 × 18\n\n| <!--/--> | age &lt;int&gt; | job &lt;chr&gt; | marital &lt;chr&gt; | education &lt;chr&gt; | default &lt;chr&gt; | balance &lt;int&gt; | housing &lt;chr&gt; | loan &lt;chr&gt; | contact &lt;chr&gt; | day &lt;int&gt; | month &lt;chr&gt; | duration &lt;int&gt; | campaign &lt;int&gt; | pdays &lt;int&gt; | previous &lt;int&gt; | poutcome &lt;chr&gt; | y &lt;chr&gt; | tecchnology_use &lt;chr&gt; |\n|---|---|---|---|---|---|---|---|---|---|---|---|---|---|---|---|---|---|---|\n| 1 | 58 | management   | married | tertiary  | no | 2143 | yes | no  | unknown | 5 | may | 261 | 1 | -1 | 0 | unknown | no | medio |\n| 2 | 44 | technician   | single  | secondary | no |   29 | yes | no  | unknown | 5 | may | 151 | 1 | -1 | 0 | unknown | no | alto  |\n| 3 | 33 | entrepreneur | married | secondary | no |    2 | yes | yes | unknown | 5 | may |  76 | 1 | -1 | 0 | unknown | no | alto  |\n| 4 | 47 | blue-collar  | married | unknown   | no | 1506 | yes | no  | unknown | 5 | may |  92 | 1 | -1 | 0 | unknown | no | baixo |\n| 5 | 33 | unknown      | single  | unknown   | no |    1 | no  | no  | unknown | 5 | may | 198 | 1 | -1 | 0 | unknown | no | baixo |\n| 6 | 35 | management   | married | tertiary  | no |  231 | yes | no  | unknown | 5 | may | 139 | 1 | -1 | 0 | unknown | no | medio |\n\n",
            "text/html": [
              "<table class=\"dataframe\">\n",
              "<caption>A data.frame: 6 × 18</caption>\n",
              "<thead>\n",
              "\t<tr><th></th><th scope=col>age</th><th scope=col>job</th><th scope=col>marital</th><th scope=col>education</th><th scope=col>default</th><th scope=col>balance</th><th scope=col>housing</th><th scope=col>loan</th><th scope=col>contact</th><th scope=col>day</th><th scope=col>month</th><th scope=col>duration</th><th scope=col>campaign</th><th scope=col>pdays</th><th scope=col>previous</th><th scope=col>poutcome</th><th scope=col>y</th><th scope=col>tecchnology_use</th></tr>\n",
              "\t<tr><th></th><th scope=col>&lt;int&gt;</th><th scope=col>&lt;chr&gt;</th><th scope=col>&lt;chr&gt;</th><th scope=col>&lt;chr&gt;</th><th scope=col>&lt;chr&gt;</th><th scope=col>&lt;int&gt;</th><th scope=col>&lt;chr&gt;</th><th scope=col>&lt;chr&gt;</th><th scope=col>&lt;chr&gt;</th><th scope=col>&lt;int&gt;</th><th scope=col>&lt;chr&gt;</th><th scope=col>&lt;int&gt;</th><th scope=col>&lt;int&gt;</th><th scope=col>&lt;int&gt;</th><th scope=col>&lt;int&gt;</th><th scope=col>&lt;chr&gt;</th><th scope=col>&lt;chr&gt;</th><th scope=col>&lt;chr&gt;</th></tr>\n",
              "</thead>\n",
              "<tbody>\n",
              "\t<tr><th scope=row>1</th><td>58</td><td>management  </td><td>married</td><td>tertiary </td><td>no</td><td>2143</td><td>yes</td><td>no </td><td>unknown</td><td>5</td><td>may</td><td>261</td><td>1</td><td>-1</td><td>0</td><td>unknown</td><td>no</td><td>medio</td></tr>\n",
              "\t<tr><th scope=row>2</th><td>44</td><td>technician  </td><td>single </td><td>secondary</td><td>no</td><td>  29</td><td>yes</td><td>no </td><td>unknown</td><td>5</td><td>may</td><td>151</td><td>1</td><td>-1</td><td>0</td><td>unknown</td><td>no</td><td>alto </td></tr>\n",
              "\t<tr><th scope=row>3</th><td>33</td><td>entrepreneur</td><td>married</td><td>secondary</td><td>no</td><td>   2</td><td>yes</td><td>yes</td><td>unknown</td><td>5</td><td>may</td><td> 76</td><td>1</td><td>-1</td><td>0</td><td>unknown</td><td>no</td><td>alto </td></tr>\n",
              "\t<tr><th scope=row>4</th><td>47</td><td>blue-collar </td><td>married</td><td>unknown  </td><td>no</td><td>1506</td><td>yes</td><td>no </td><td>unknown</td><td>5</td><td>may</td><td> 92</td><td>1</td><td>-1</td><td>0</td><td>unknown</td><td>no</td><td>baixo</td></tr>\n",
              "\t<tr><th scope=row>5</th><td>33</td><td>unknown     </td><td>single </td><td>unknown  </td><td>no</td><td>   1</td><td>no </td><td>no </td><td>unknown</td><td>5</td><td>may</td><td>198</td><td>1</td><td>-1</td><td>0</td><td>unknown</td><td>no</td><td>baixo</td></tr>\n",
              "\t<tr><th scope=row>6</th><td>35</td><td>management  </td><td>married</td><td>tertiary </td><td>no</td><td> 231</td><td>yes</td><td>no </td><td>unknown</td><td>5</td><td>may</td><td>139</td><td>1</td><td>-1</td><td>0</td><td>unknown</td><td>no</td><td>medio</td></tr>\n",
              "</tbody>\n",
              "</table>\n"
            ]
          },
          "metadata": {
            "tags": []
          }
        }
      ]
    },
    {
      "cell_type": "code",
      "metadata": {
        "colab": {
          "base_uri": "https://localhost:8080/",
          "height": 68
        },
        "id": "cwT6srQOCNxK",
        "outputId": "861f9de8-153e-4de2-b1b1-d2ad181128dd"
      },
      "source": [
        "# verificando as quantidade desse novo campo\n",
        "round(prop.table(table(bank$tecchnology_use)),2)"
      ],
      "execution_count": 26,
      "outputs": [
        {
          "output_type": "display_data",
          "data": {
            "text/plain": [
              "\n",
              " alto baixo medio \n",
              " 0.25  0.41  0.34 "
            ]
          },
          "metadata": {
            "tags": []
          }
        }
      ]
    },
    {
      "cell_type": "markdown",
      "metadata": {
        "id": "2G_ofhErDdg-"
      },
      "source": [
        "## Variáveis Dummies"
      ]
    },
    {
      "cell_type": "code",
      "metadata": {
        "id": "WhUF9ZBBDS2c"
      },
      "source": [
        "bank <- bank %>%\n",
        "  mutate(defaulted = ifelse(default == \"yes\", 1, 0))"
      ],
      "execution_count": 27,
      "outputs": []
    },
    {
      "cell_type": "code",
      "metadata": {
        "colab": {
          "base_uri": "https://localhost:8080/",
          "height": 34
        },
        "id": "Ary00TqJEgrb",
        "outputId": "19944add-5414-4c09-d3a4-82744f3f1df1"
      },
      "source": [
        "head(bank$defaulted)"
      ],
      "execution_count": 29,
      "outputs": [
        {
          "output_type": "display_data",
          "data": {
            "text/plain": [
              "[1] 0 0 0 0 0 0"
            ],
            "text/latex": "\\begin{enumerate*}\n\\item 0\n\\item 0\n\\item 0\n\\item 0\n\\item 0\n\\item 0\n\\end{enumerate*}\n",
            "text/markdown": "1. 0\n2. 0\n3. 0\n4. 0\n5. 0\n6. 0\n\n\n",
            "text/html": [
              "<style>\n",
              ".list-inline {list-style: none; margin:0; padding: 0}\n",
              ".list-inline>li {display: inline-block}\n",
              ".list-inline>li:not(:last-child)::after {content: \"\\00b7\"; padding: 0 .5ex}\n",
              "</style>\n",
              "<ol class=list-inline><li>0</li><li>0</li><li>0</li><li>0</li><li>0</li><li>0</li></ol>\n"
            ]
          },
          "metadata": {
            "tags": []
          }
        }
      ]
    },
    {
      "cell_type": "markdown",
      "metadata": {
        "id": "_FR_NRUNE2lh"
      },
      "source": [
        "## One Hot Encoding"
      ]
    },
    {
      "cell_type": "code",
      "metadata": {
        "colab": {
          "base_uri": "https://localhost:8080/"
        },
        "id": "0MfxGaMpEr8l",
        "outputId": "288bf353-ed13-4e42-c13c-5b4261f2a157"
      },
      "source": [
        "install.packages(\"caret\")\n",
        "library(caret)"
      ],
      "execution_count": 30,
      "outputs": [
        {
          "output_type": "stream",
          "text": [
            "Installing package into ‘/usr/local/lib/R/site-library’\n",
            "(as ‘lib’ is unspecified)\n",
            "\n",
            "also installing the dependencies ‘numDeriv’, ‘SQUAREM’, ‘lava’, ‘prodlim’, ‘iterators’, ‘gower’, ‘ipred’, ‘timeDate’, ‘foreach’, ‘plyr’, ‘ModelMetrics’, ‘reshape2’, ‘recipes’, ‘pROC’\n",
            "\n",
            "\n",
            "Loading required package: lattice\n",
            "\n",
            "Warning message in system(\"timedatectl\", intern = TRUE):\n",
            "“running command 'timedatectl' had status 1”\n"
          ],
          "name": "stderr"
        }
      ]
    },
    {
      "cell_type": "code",
      "metadata": {
        "id": "UCx-vmqpGEa4"
      },
      "source": [
        "dmy <- dummyVars(\" ~ .\", data = bank)"
      ],
      "execution_count": 31,
      "outputs": []
    },
    {
      "cell_type": "code",
      "metadata": {
        "id": "wYdmT0IjHFO2"
      },
      "source": [
        "bank.dummies <- data.frame(predict(dmy, newdata = bank))"
      ],
      "execution_count": 32,
      "outputs": []
    },
    {
      "cell_type": "code",
      "metadata": {
        "colab": {
          "base_uri": "https://localhost:8080/",
          "height": 1000
        },
        "id": "xb5AbfrwHTXV",
        "outputId": "611acbd7-9c4c-4ac6-cdcf-f34b316dd55d"
      },
      "source": [
        "View(bank.dummies)"
      ],
      "execution_count": 33,
      "outputs": [
        {
          "output_type": "display_data",
          "data": {
            "text/markdown": "\nA data.frame: 45211 × 57\n\n| <!--/--> | age &lt;dbl&gt; | jobadmin. &lt;dbl&gt; | jobblue.collar &lt;dbl&gt; | jobentrepreneur &lt;dbl&gt; | jobhousemaid &lt;dbl&gt; | jobmanagement &lt;dbl&gt; | jobretired &lt;dbl&gt; | jobself.employed &lt;dbl&gt; | jobservices &lt;dbl&gt; | jobstudent &lt;dbl&gt; | ⋯ ⋯ | poutcomefailure &lt;dbl&gt; | poutcomeother &lt;dbl&gt; | poutcomesuccess &lt;dbl&gt; | poutcomeunknown &lt;dbl&gt; | yno &lt;dbl&gt; | yyes &lt;dbl&gt; | tecchnology_usealto &lt;dbl&gt; | tecchnology_usebaixo &lt;dbl&gt; | tecchnology_usemedio &lt;dbl&gt; | defaulted &lt;dbl&gt; |\n|---|---|---|---|---|---|---|---|---|---|---|---|---|---|---|---|---|---|---|---|---|---|\n| 1 | 58 | 0 | 0 | 0 | 0 | 1 | 0 | 0 | 0 | 0 | ⋯ | 0 | 0 | 0 | 1 | 1 | 0 |  0 |  0 |  1 | 0 |\n| 2 | 44 | 0 | 0 | 0 | 0 | 0 | 0 | 0 | 0 | 0 | ⋯ | 0 | 0 | 0 | 1 | 1 | 0 |  1 |  0 |  0 | 0 |\n| 3 | 33 | 0 | 0 | 1 | 0 | 0 | 0 | 0 | 0 | 0 | ⋯ | 0 | 0 | 0 | 1 | 1 | 0 |  1 |  0 |  0 | 0 |\n| 4 | 47 | 0 | 1 | 0 | 0 | 0 | 0 | 0 | 0 | 0 | ⋯ | 0 | 0 | 0 | 1 | 1 | 0 |  0 |  1 |  0 | 0 |\n| 5 | 33 | 0 | 0 | 0 | 0 | 0 | 0 | 0 | 0 | 0 | ⋯ | 0 | 0 | 0 | 1 | 1 | 0 |  0 |  1 |  0 | 0 |\n| 6 | 35 | 0 | 0 | 0 | 0 | 1 | 0 | 0 | 0 | 0 | ⋯ | 0 | 0 | 0 | 1 | 1 | 0 |  0 |  0 |  1 | 0 |\n| 7 | 28 | 0 | 0 | 0 | 0 | 1 | 0 | 0 | 0 | 0 | ⋯ | 0 | 0 | 0 | 1 | 1 | 0 |  0 |  0 |  1 | 0 |\n| 8 | 42 | 0 | 0 | 1 | 0 | 0 | 0 | 0 | 0 | 0 | ⋯ | 0 | 0 | 0 | 1 | 1 | 0 |  1 |  0 |  0 | 1 |\n| 9 | 58 | 0 | 0 | 0 | 0 | 0 | 1 | 0 | 0 | 0 | ⋯ | 0 | 0 | 0 | 1 | 1 | 0 |  0 |  1 |  0 | 0 |\n| 10 | 43 | 0 | 0 | 0 | 0 | 0 | 0 | 0 | 0 | 0 | ⋯ | 0 | 0 | 0 | 1 | 1 | 0 |  1 |  0 |  0 | 0 |\n| 11 | 41 | 1 | 0 | 0 | 0 | 0 | 0 | 0 | 0 | 0 | ⋯ | 0 | 0 | 0 | 1 | 1 | 0 | NA | NA | NA | 0 |\n| 12 | 29 | 1 | 0 | 0 | 0 | 0 | 0 | 0 | 0 | 0 | ⋯ | 0 | 0 | 0 | 1 | 1 | 0 | NA | NA | NA | 0 |\n| 13 | 53 | 0 | 0 | 0 | 0 | 0 | 0 | 0 | 0 | 0 | ⋯ | 0 | 0 | 0 | 1 | 1 | 0 |  1 |  0 |  0 | 0 |\n| 14 | 58 | 0 | 0 | 0 | 0 | 0 | 0 | 0 | 0 | 0 | ⋯ | 0 | 0 | 0 | 1 | 1 | 0 |  1 |  0 |  0 | 0 |\n| 15 | 57 | 0 | 0 | 0 | 0 | 0 | 0 | 0 | 1 | 0 | ⋯ | 0 | 0 | 0 | 1 | 1 | 0 |  0 |  0 |  1 | 0 |\n| 16 | 51 | 0 | 0 | 0 | 0 | 0 | 1 | 0 | 0 | 0 | ⋯ | 0 | 0 | 0 | 1 | 1 | 0 |  0 |  1 |  0 | 0 |\n| 17 | 45 | 1 | 0 | 0 | 0 | 0 | 0 | 0 | 0 | 0 | ⋯ | 0 | 0 | 0 | 1 | 1 | 0 | NA | NA | NA | 0 |\n| 18 | 57 | 0 | 1 | 0 | 0 | 0 | 0 | 0 | 0 | 0 | ⋯ | 0 | 0 | 0 | 1 | 1 | 0 |  0 |  1 |  0 | 0 |\n| 19 | 60 | 0 | 0 | 0 | 0 | 0 | 1 | 0 | 0 | 0 | ⋯ | 0 | 0 | 0 | 1 | 1 | 0 |  0 |  1 |  0 | 0 |\n| 20 | 33 | 0 | 0 | 0 | 0 | 0 | 0 | 0 | 1 | 0 | ⋯ | 0 | 0 | 0 | 1 | 1 | 0 |  0 |  0 |  1 | 0 |\n| 21 | 28 | 0 | 1 | 0 | 0 | 0 | 0 | 0 | 0 | 0 | ⋯ | 0 | 0 | 0 | 1 | 1 | 0 |  0 |  1 |  0 | 0 |\n| 22 | 56 | 0 | 0 | 0 | 0 | 1 | 0 | 0 | 0 | 0 | ⋯ | 0 | 0 | 0 | 1 | 1 | 0 |  0 |  0 |  1 | 0 |\n| 23 | 32 | 0 | 1 | 0 | 0 | 0 | 0 | 0 | 0 | 0 | ⋯ | 0 | 0 | 0 | 1 | 1 | 0 |  0 |  1 |  0 | 0 |\n| 24 | 25 | 0 | 0 | 0 | 0 | 0 | 0 | 0 | 1 | 0 | ⋯ | 0 | 0 | 0 | 1 | 1 | 0 |  0 |  0 |  1 | 0 |\n| 25 | 40 | 0 | 0 | 0 | 0 | 0 | 1 | 0 | 0 | 0 | ⋯ | 0 | 0 | 0 | 1 | 1 | 0 |  0 |  1 |  0 | 0 |\n| 26 | 44 | 1 | 0 | 0 | 0 | 0 | 0 | 0 | 0 | 0 | ⋯ | 0 | 0 | 0 | 1 | 1 | 0 | NA | NA | NA | 0 |\n| 27 | 39 | 0 | 0 | 0 | 0 | 1 | 0 | 0 | 0 | 0 | ⋯ | 0 | 0 | 0 | 1 | 1 | 0 |  0 |  0 |  1 | 0 |\n| 28 | 52 | 0 | 0 | 1 | 0 | 0 | 0 | 0 | 0 | 0 | ⋯ | 0 | 0 | 0 | 1 | 1 | 0 |  1 |  0 |  0 | 0 |\n| 29 | 46 | 0 | 0 | 0 | 0 | 1 | 0 | 0 | 0 | 0 | ⋯ | 0 | 0 | 0 | 1 | 1 | 0 |  0 |  0 |  1 | 0 |\n| 30 | 36 | 0 | 0 | 0 | 0 | 0 | 0 | 0 | 0 | 0 | ⋯ | 0 | 0 | 0 | 1 | 1 | 0 |  1 |  0 |  0 | 0 |\n| ⋮ | ⋮ | ⋮ | ⋮ | ⋮ | ⋮ | ⋮ | ⋮ | ⋮ | ⋮ | ⋮ | ⋱ | ⋮ | ⋮ | ⋮ | ⋮ | ⋮ | ⋮ | ⋮ | ⋮ | ⋮ | ⋮ |\n| 45182 | 46 | 0 | 1 | 0 | 0 | 0 | 0 | 0 | 0 | 0 | ⋯ | 1 | 0 | 0 | 0 | 1 | 0 |  0 |  1 |  0 | 0 |\n| 45183 | 34 | 0 | 0 | 0 | 0 | 0 | 0 | 0 | 0 | 0 | ⋯ | 0 | 0 | 1 | 0 | 0 | 1 |  1 |  0 |  0 | 0 |\n| 45184 | 70 | 0 | 0 | 0 | 0 | 0 | 1 | 0 | 0 | 0 | ⋯ | 0 | 0 | 1 | 0 | 1 | 0 |  0 |  1 |  0 | 0 |\n| 45185 | 63 | 0 | 0 | 0 | 0 | 0 | 1 | 0 | 0 | 0 | ⋯ | 0 | 0 | 1 | 0 | 1 | 0 |  0 |  1 |  0 | 0 |\n| 45186 | 60 | 0 | 0 | 0 | 0 | 0 | 0 | 0 | 1 | 0 | ⋯ | 0 | 0 | 1 | 0 | 0 | 1 |  0 |  0 |  1 | 0 |\n| 45187 | 59 | 0 | 0 | 0 | 0 | 0 | 0 | 0 | 0 | 0 | ⋯ | 1 | 0 | 0 | 0 | 1 | 0 |  0 |  1 |  0 | 0 |\n| 45188 | 32 | 0 | 0 | 0 | 0 | 0 | 0 | 0 | 1 | 0 | ⋯ | 0 | 0 | 0 | 1 | 0 | 1 |  0 |  0 |  1 | 0 |\n| 45189 | 29 | 0 | 0 | 0 | 0 | 1 | 0 | 0 | 0 | 0 | ⋯ | 0 | 0 | 1 | 0 | 0 | 1 |  0 |  0 |  1 | 0 |\n| 45190 | 25 | 0 | 0 | 0 | 0 | 0 | 0 | 0 | 1 | 0 | ⋯ | 1 | 0 | 0 | 0 | 1 | 0 |  0 |  0 |  1 | 0 |\n| 45191 | 32 | 0 | 1 | 0 | 0 | 0 | 0 | 0 | 0 | 0 | ⋯ | 0 | 0 | 1 | 0 | 0 | 1 |  0 |  1 |  0 | 0 |\n| 45192 | 75 | 0 | 0 | 0 | 0 | 0 | 1 | 0 | 0 | 0 | ⋯ | 1 | 0 | 0 | 0 | 0 | 1 |  0 |  1 |  0 | 0 |\n| 45193 | 29 | 0 | 0 | 0 | 0 | 1 | 0 | 0 | 0 | 0 | ⋯ | 0 | 0 | 0 | 1 | 0 | 1 |  0 |  0 |  1 | 0 |\n| 45194 | 28 | 0 | 0 | 0 | 0 | 0 | 0 | 1 | 0 | 0 | ⋯ | 0 | 0 | 1 | 0 | 0 | 1 |  0 |  1 |  0 | 0 |\n| 45195 | 59 | 0 | 0 | 0 | 0 | 1 | 0 | 0 | 0 | 0 | ⋯ | 1 | 0 | 0 | 0 | 1 | 0 |  0 |  0 |  1 | 0 |\n| 45196 | 68 | 0 | 0 | 0 | 0 | 0 | 1 | 0 | 0 | 0 | ⋯ | 0 | 0 | 1 | 0 | 0 | 1 |  0 |  1 |  0 | 0 |\n| 45197 | 25 | 0 | 0 | 0 | 0 | 0 | 0 | 0 | 0 | 1 | ⋯ | 0 | 0 | 0 | 1 | 0 | 1 |  1 |  0 |  0 | 0 |\n| 45198 | 36 | 0 | 0 | 0 | 0 | 1 | 0 | 0 | 0 | 0 | ⋯ | 0 | 0 | 0 | 1 | 0 | 1 |  0 |  0 |  1 | 0 |\n| 45199 | 37 | 0 | 0 | 0 | 0 | 1 | 0 | 0 | 0 | 0 | ⋯ | 0 | 0 | 0 | 1 | 1 | 0 |  0 |  0 |  1 | 0 |\n| 45200 | 34 | 0 | 1 | 0 | 0 | 0 | 0 | 0 | 0 | 0 | ⋯ | 0 | 1 | 0 | 0 | 1 | 0 |  0 |  1 |  0 | 0 |\n| 45201 | 38 | 0 | 0 | 0 | 0 | 0 | 0 | 0 | 0 | 0 | ⋯ | 0 | 0 | 0 | 1 | 0 | 1 |  1 |  0 |  0 | 0 |\n| 45202 | 53 | 0 | 0 | 0 | 0 | 1 | 0 | 0 | 0 | 0 | ⋯ | 0 | 0 | 1 | 0 | 0 | 1 |  0 |  0 |  1 | 0 |\n| 45203 | 34 | 1 | 0 | 0 | 0 | 0 | 0 | 0 | 0 | 0 | ⋯ | 0 | 0 | 0 | 1 | 0 | 1 | NA | NA | NA | 0 |\n| 45204 | 23 | 0 | 0 | 0 | 0 | 0 | 0 | 0 | 0 | 1 | ⋯ | 0 | 0 | 0 | 1 | 0 | 1 |  1 |  0 |  0 | 0 |\n| 45205 | 73 | 0 | 0 | 0 | 0 | 0 | 1 | 0 | 0 | 0 | ⋯ | 1 | 0 | 0 | 0 | 0 | 1 |  0 |  1 |  0 | 0 |\n| 45206 | 25 | 0 | 0 | 0 | 0 | 0 | 0 | 0 | 0 | 0 | ⋯ | 0 | 0 | 0 | 1 | 0 | 1 |  1 |  0 |  0 | 0 |\n| 45207 | 51 | 0 | 0 | 0 | 0 | 0 | 0 | 0 | 0 | 0 | ⋯ | 0 | 0 | 0 | 1 | 0 | 1 |  1 |  0 |  0 | 0 |\n| 45208 | 71 | 0 | 0 | 0 | 0 | 0 | 1 | 0 | 0 | 0 | ⋯ | 0 | 0 | 0 | 1 | 0 | 1 |  0 |  1 |  0 | 0 |\n| 45209 | 72 | 0 | 0 | 0 | 0 | 0 | 1 | 0 | 0 | 0 | ⋯ | 0 | 0 | 1 | 0 | 0 | 1 |  0 |  1 |  0 | 0 |\n| 45210 | 57 | 0 | 1 | 0 | 0 | 0 | 0 | 0 | 0 | 0 | ⋯ | 0 | 0 | 0 | 1 | 1 | 0 |  0 |  1 |  0 | 0 |\n| 45211 | 37 | 0 | 0 | 1 | 0 | 0 | 0 | 0 | 0 | 0 | ⋯ | 0 | 1 | 0 | 0 | 1 | 0 |  1 |  0 |  0 | 0 |\n\n",
            "text/latex": "A data.frame: 45211 × 57\n\\begin{tabular}{r|lllllllllllllllllllll}\n  & age & jobadmin. & jobblue.collar & jobentrepreneur & jobhousemaid & jobmanagement & jobretired & jobself.employed & jobservices & jobstudent & ⋯ & poutcomefailure & poutcomeother & poutcomesuccess & poutcomeunknown & yno & yyes & tecchnology\\_usealto & tecchnology\\_usebaixo & tecchnology\\_usemedio & defaulted\\\\\n  & <dbl> & <dbl> & <dbl> & <dbl> & <dbl> & <dbl> & <dbl> & <dbl> & <dbl> & <dbl> & ⋯ & <dbl> & <dbl> & <dbl> & <dbl> & <dbl> & <dbl> & <dbl> & <dbl> & <dbl> & <dbl>\\\\\n\\hline\n\t1 & 58 & 0 & 0 & 0 & 0 & 1 & 0 & 0 & 0 & 0 & ⋯ & 0 & 0 & 0 & 1 & 1 & 0 &  0 &  0 &  1 & 0\\\\\n\t2 & 44 & 0 & 0 & 0 & 0 & 0 & 0 & 0 & 0 & 0 & ⋯ & 0 & 0 & 0 & 1 & 1 & 0 &  1 &  0 &  0 & 0\\\\\n\t3 & 33 & 0 & 0 & 1 & 0 & 0 & 0 & 0 & 0 & 0 & ⋯ & 0 & 0 & 0 & 1 & 1 & 0 &  1 &  0 &  0 & 0\\\\\n\t4 & 47 & 0 & 1 & 0 & 0 & 0 & 0 & 0 & 0 & 0 & ⋯ & 0 & 0 & 0 & 1 & 1 & 0 &  0 &  1 &  0 & 0\\\\\n\t5 & 33 & 0 & 0 & 0 & 0 & 0 & 0 & 0 & 0 & 0 & ⋯ & 0 & 0 & 0 & 1 & 1 & 0 &  0 &  1 &  0 & 0\\\\\n\t6 & 35 & 0 & 0 & 0 & 0 & 1 & 0 & 0 & 0 & 0 & ⋯ & 0 & 0 & 0 & 1 & 1 & 0 &  0 &  0 &  1 & 0\\\\\n\t7 & 28 & 0 & 0 & 0 & 0 & 1 & 0 & 0 & 0 & 0 & ⋯ & 0 & 0 & 0 & 1 & 1 & 0 &  0 &  0 &  1 & 0\\\\\n\t8 & 42 & 0 & 0 & 1 & 0 & 0 & 0 & 0 & 0 & 0 & ⋯ & 0 & 0 & 0 & 1 & 1 & 0 &  1 &  0 &  0 & 1\\\\\n\t9 & 58 & 0 & 0 & 0 & 0 & 0 & 1 & 0 & 0 & 0 & ⋯ & 0 & 0 & 0 & 1 & 1 & 0 &  0 &  1 &  0 & 0\\\\\n\t10 & 43 & 0 & 0 & 0 & 0 & 0 & 0 & 0 & 0 & 0 & ⋯ & 0 & 0 & 0 & 1 & 1 & 0 &  1 &  0 &  0 & 0\\\\\n\t11 & 41 & 1 & 0 & 0 & 0 & 0 & 0 & 0 & 0 & 0 & ⋯ & 0 & 0 & 0 & 1 & 1 & 0 & NA & NA & NA & 0\\\\\n\t12 & 29 & 1 & 0 & 0 & 0 & 0 & 0 & 0 & 0 & 0 & ⋯ & 0 & 0 & 0 & 1 & 1 & 0 & NA & NA & NA & 0\\\\\n\t13 & 53 & 0 & 0 & 0 & 0 & 0 & 0 & 0 & 0 & 0 & ⋯ & 0 & 0 & 0 & 1 & 1 & 0 &  1 &  0 &  0 & 0\\\\\n\t14 & 58 & 0 & 0 & 0 & 0 & 0 & 0 & 0 & 0 & 0 & ⋯ & 0 & 0 & 0 & 1 & 1 & 0 &  1 &  0 &  0 & 0\\\\\n\t15 & 57 & 0 & 0 & 0 & 0 & 0 & 0 & 0 & 1 & 0 & ⋯ & 0 & 0 & 0 & 1 & 1 & 0 &  0 &  0 &  1 & 0\\\\\n\t16 & 51 & 0 & 0 & 0 & 0 & 0 & 1 & 0 & 0 & 0 & ⋯ & 0 & 0 & 0 & 1 & 1 & 0 &  0 &  1 &  0 & 0\\\\\n\t17 & 45 & 1 & 0 & 0 & 0 & 0 & 0 & 0 & 0 & 0 & ⋯ & 0 & 0 & 0 & 1 & 1 & 0 & NA & NA & NA & 0\\\\\n\t18 & 57 & 0 & 1 & 0 & 0 & 0 & 0 & 0 & 0 & 0 & ⋯ & 0 & 0 & 0 & 1 & 1 & 0 &  0 &  1 &  0 & 0\\\\\n\t19 & 60 & 0 & 0 & 0 & 0 & 0 & 1 & 0 & 0 & 0 & ⋯ & 0 & 0 & 0 & 1 & 1 & 0 &  0 &  1 &  0 & 0\\\\\n\t20 & 33 & 0 & 0 & 0 & 0 & 0 & 0 & 0 & 1 & 0 & ⋯ & 0 & 0 & 0 & 1 & 1 & 0 &  0 &  0 &  1 & 0\\\\\n\t21 & 28 & 0 & 1 & 0 & 0 & 0 & 0 & 0 & 0 & 0 & ⋯ & 0 & 0 & 0 & 1 & 1 & 0 &  0 &  1 &  0 & 0\\\\\n\t22 & 56 & 0 & 0 & 0 & 0 & 1 & 0 & 0 & 0 & 0 & ⋯ & 0 & 0 & 0 & 1 & 1 & 0 &  0 &  0 &  1 & 0\\\\\n\t23 & 32 & 0 & 1 & 0 & 0 & 0 & 0 & 0 & 0 & 0 & ⋯ & 0 & 0 & 0 & 1 & 1 & 0 &  0 &  1 &  0 & 0\\\\\n\t24 & 25 & 0 & 0 & 0 & 0 & 0 & 0 & 0 & 1 & 0 & ⋯ & 0 & 0 & 0 & 1 & 1 & 0 &  0 &  0 &  1 & 0\\\\\n\t25 & 40 & 0 & 0 & 0 & 0 & 0 & 1 & 0 & 0 & 0 & ⋯ & 0 & 0 & 0 & 1 & 1 & 0 &  0 &  1 &  0 & 0\\\\\n\t26 & 44 & 1 & 0 & 0 & 0 & 0 & 0 & 0 & 0 & 0 & ⋯ & 0 & 0 & 0 & 1 & 1 & 0 & NA & NA & NA & 0\\\\\n\t27 & 39 & 0 & 0 & 0 & 0 & 1 & 0 & 0 & 0 & 0 & ⋯ & 0 & 0 & 0 & 1 & 1 & 0 &  0 &  0 &  1 & 0\\\\\n\t28 & 52 & 0 & 0 & 1 & 0 & 0 & 0 & 0 & 0 & 0 & ⋯ & 0 & 0 & 0 & 1 & 1 & 0 &  1 &  0 &  0 & 0\\\\\n\t29 & 46 & 0 & 0 & 0 & 0 & 1 & 0 & 0 & 0 & 0 & ⋯ & 0 & 0 & 0 & 1 & 1 & 0 &  0 &  0 &  1 & 0\\\\\n\t30 & 36 & 0 & 0 & 0 & 0 & 0 & 0 & 0 & 0 & 0 & ⋯ & 0 & 0 & 0 & 1 & 1 & 0 &  1 &  0 &  0 & 0\\\\\n\t⋮ & ⋮ & ⋮ & ⋮ & ⋮ & ⋮ & ⋮ & ⋮ & ⋮ & ⋮ & ⋮ & ⋱ & ⋮ & ⋮ & ⋮ & ⋮ & ⋮ & ⋮ & ⋮ & ⋮ & ⋮ & ⋮\\\\\n\t45182 & 46 & 0 & 1 & 0 & 0 & 0 & 0 & 0 & 0 & 0 & ⋯ & 1 & 0 & 0 & 0 & 1 & 0 &  0 &  1 &  0 & 0\\\\\n\t45183 & 34 & 0 & 0 & 0 & 0 & 0 & 0 & 0 & 0 & 0 & ⋯ & 0 & 0 & 1 & 0 & 0 & 1 &  1 &  0 &  0 & 0\\\\\n\t45184 & 70 & 0 & 0 & 0 & 0 & 0 & 1 & 0 & 0 & 0 & ⋯ & 0 & 0 & 1 & 0 & 1 & 0 &  0 &  1 &  0 & 0\\\\\n\t45185 & 63 & 0 & 0 & 0 & 0 & 0 & 1 & 0 & 0 & 0 & ⋯ & 0 & 0 & 1 & 0 & 1 & 0 &  0 &  1 &  0 & 0\\\\\n\t45186 & 60 & 0 & 0 & 0 & 0 & 0 & 0 & 0 & 1 & 0 & ⋯ & 0 & 0 & 1 & 0 & 0 & 1 &  0 &  0 &  1 & 0\\\\\n\t45187 & 59 & 0 & 0 & 0 & 0 & 0 & 0 & 0 & 0 & 0 & ⋯ & 1 & 0 & 0 & 0 & 1 & 0 &  0 &  1 &  0 & 0\\\\\n\t45188 & 32 & 0 & 0 & 0 & 0 & 0 & 0 & 0 & 1 & 0 & ⋯ & 0 & 0 & 0 & 1 & 0 & 1 &  0 &  0 &  1 & 0\\\\\n\t45189 & 29 & 0 & 0 & 0 & 0 & 1 & 0 & 0 & 0 & 0 & ⋯ & 0 & 0 & 1 & 0 & 0 & 1 &  0 &  0 &  1 & 0\\\\\n\t45190 & 25 & 0 & 0 & 0 & 0 & 0 & 0 & 0 & 1 & 0 & ⋯ & 1 & 0 & 0 & 0 & 1 & 0 &  0 &  0 &  1 & 0\\\\\n\t45191 & 32 & 0 & 1 & 0 & 0 & 0 & 0 & 0 & 0 & 0 & ⋯ & 0 & 0 & 1 & 0 & 0 & 1 &  0 &  1 &  0 & 0\\\\\n\t45192 & 75 & 0 & 0 & 0 & 0 & 0 & 1 & 0 & 0 & 0 & ⋯ & 1 & 0 & 0 & 0 & 0 & 1 &  0 &  1 &  0 & 0\\\\\n\t45193 & 29 & 0 & 0 & 0 & 0 & 1 & 0 & 0 & 0 & 0 & ⋯ & 0 & 0 & 0 & 1 & 0 & 1 &  0 &  0 &  1 & 0\\\\\n\t45194 & 28 & 0 & 0 & 0 & 0 & 0 & 0 & 1 & 0 & 0 & ⋯ & 0 & 0 & 1 & 0 & 0 & 1 &  0 &  1 &  0 & 0\\\\\n\t45195 & 59 & 0 & 0 & 0 & 0 & 1 & 0 & 0 & 0 & 0 & ⋯ & 1 & 0 & 0 & 0 & 1 & 0 &  0 &  0 &  1 & 0\\\\\n\t45196 & 68 & 0 & 0 & 0 & 0 & 0 & 1 & 0 & 0 & 0 & ⋯ & 0 & 0 & 1 & 0 & 0 & 1 &  0 &  1 &  0 & 0\\\\\n\t45197 & 25 & 0 & 0 & 0 & 0 & 0 & 0 & 0 & 0 & 1 & ⋯ & 0 & 0 & 0 & 1 & 0 & 1 &  1 &  0 &  0 & 0\\\\\n\t45198 & 36 & 0 & 0 & 0 & 0 & 1 & 0 & 0 & 0 & 0 & ⋯ & 0 & 0 & 0 & 1 & 0 & 1 &  0 &  0 &  1 & 0\\\\\n\t45199 & 37 & 0 & 0 & 0 & 0 & 1 & 0 & 0 & 0 & 0 & ⋯ & 0 & 0 & 0 & 1 & 1 & 0 &  0 &  0 &  1 & 0\\\\\n\t45200 & 34 & 0 & 1 & 0 & 0 & 0 & 0 & 0 & 0 & 0 & ⋯ & 0 & 1 & 0 & 0 & 1 & 0 &  0 &  1 &  0 & 0\\\\\n\t45201 & 38 & 0 & 0 & 0 & 0 & 0 & 0 & 0 & 0 & 0 & ⋯ & 0 & 0 & 0 & 1 & 0 & 1 &  1 &  0 &  0 & 0\\\\\n\t45202 & 53 & 0 & 0 & 0 & 0 & 1 & 0 & 0 & 0 & 0 & ⋯ & 0 & 0 & 1 & 0 & 0 & 1 &  0 &  0 &  1 & 0\\\\\n\t45203 & 34 & 1 & 0 & 0 & 0 & 0 & 0 & 0 & 0 & 0 & ⋯ & 0 & 0 & 0 & 1 & 0 & 1 & NA & NA & NA & 0\\\\\n\t45204 & 23 & 0 & 0 & 0 & 0 & 0 & 0 & 0 & 0 & 1 & ⋯ & 0 & 0 & 0 & 1 & 0 & 1 &  1 &  0 &  0 & 0\\\\\n\t45205 & 73 & 0 & 0 & 0 & 0 & 0 & 1 & 0 & 0 & 0 & ⋯ & 1 & 0 & 0 & 0 & 0 & 1 &  0 &  1 &  0 & 0\\\\\n\t45206 & 25 & 0 & 0 & 0 & 0 & 0 & 0 & 0 & 0 & 0 & ⋯ & 0 & 0 & 0 & 1 & 0 & 1 &  1 &  0 &  0 & 0\\\\\n\t45207 & 51 & 0 & 0 & 0 & 0 & 0 & 0 & 0 & 0 & 0 & ⋯ & 0 & 0 & 0 & 1 & 0 & 1 &  1 &  0 &  0 & 0\\\\\n\t45208 & 71 & 0 & 0 & 0 & 0 & 0 & 1 & 0 & 0 & 0 & ⋯ & 0 & 0 & 0 & 1 & 0 & 1 &  0 &  1 &  0 & 0\\\\\n\t45209 & 72 & 0 & 0 & 0 & 0 & 0 & 1 & 0 & 0 & 0 & ⋯ & 0 & 0 & 1 & 0 & 0 & 1 &  0 &  1 &  0 & 0\\\\\n\t45210 & 57 & 0 & 1 & 0 & 0 & 0 & 0 & 0 & 0 & 0 & ⋯ & 0 & 0 & 0 & 1 & 1 & 0 &  0 &  1 &  0 & 0\\\\\n\t45211 & 37 & 0 & 0 & 1 & 0 & 0 & 0 & 0 & 0 & 0 & ⋯ & 0 & 1 & 0 & 0 & 1 & 0 &  1 &  0 &  0 & 0\\\\\n\\end{tabular}\n",
            "text/html": [
              "<table class=\"dataframe\">\n",
              "<caption>A data.frame: 45211 × 57</caption>\n",
              "<thead>\n",
              "\t<tr><th></th><th scope=col>age</th><th scope=col>jobadmin.</th><th scope=col>jobblue.collar</th><th scope=col>jobentrepreneur</th><th scope=col>jobhousemaid</th><th scope=col>jobmanagement</th><th scope=col>jobretired</th><th scope=col>jobself.employed</th><th scope=col>jobservices</th><th scope=col>jobstudent</th><th scope=col>⋯</th><th scope=col>poutcomefailure</th><th scope=col>poutcomeother</th><th scope=col>poutcomesuccess</th><th scope=col>poutcomeunknown</th><th scope=col>yno</th><th scope=col>yyes</th><th scope=col>tecchnology_usealto</th><th scope=col>tecchnology_usebaixo</th><th scope=col>tecchnology_usemedio</th><th scope=col>defaulted</th></tr>\n",
              "\t<tr><th></th><th scope=col>&lt;dbl&gt;</th><th scope=col>&lt;dbl&gt;</th><th scope=col>&lt;dbl&gt;</th><th scope=col>&lt;dbl&gt;</th><th scope=col>&lt;dbl&gt;</th><th scope=col>&lt;dbl&gt;</th><th scope=col>&lt;dbl&gt;</th><th scope=col>&lt;dbl&gt;</th><th scope=col>&lt;dbl&gt;</th><th scope=col>&lt;dbl&gt;</th><th scope=col>⋯</th><th scope=col>&lt;dbl&gt;</th><th scope=col>&lt;dbl&gt;</th><th scope=col>&lt;dbl&gt;</th><th scope=col>&lt;dbl&gt;</th><th scope=col>&lt;dbl&gt;</th><th scope=col>&lt;dbl&gt;</th><th scope=col>&lt;dbl&gt;</th><th scope=col>&lt;dbl&gt;</th><th scope=col>&lt;dbl&gt;</th><th scope=col>&lt;dbl&gt;</th></tr>\n",
              "</thead>\n",
              "<tbody>\n",
              "\t<tr><th scope=row>1</th><td>58</td><td>0</td><td>0</td><td>0</td><td>0</td><td>1</td><td>0</td><td>0</td><td>0</td><td>0</td><td>⋯</td><td>0</td><td>0</td><td>0</td><td>1</td><td>1</td><td>0</td><td> 0</td><td> 0</td><td> 1</td><td>0</td></tr>\n",
              "\t<tr><th scope=row>2</th><td>44</td><td>0</td><td>0</td><td>0</td><td>0</td><td>0</td><td>0</td><td>0</td><td>0</td><td>0</td><td>⋯</td><td>0</td><td>0</td><td>0</td><td>1</td><td>1</td><td>0</td><td> 1</td><td> 0</td><td> 0</td><td>0</td></tr>\n",
              "\t<tr><th scope=row>3</th><td>33</td><td>0</td><td>0</td><td>1</td><td>0</td><td>0</td><td>0</td><td>0</td><td>0</td><td>0</td><td>⋯</td><td>0</td><td>0</td><td>0</td><td>1</td><td>1</td><td>0</td><td> 1</td><td> 0</td><td> 0</td><td>0</td></tr>\n",
              "\t<tr><th scope=row>4</th><td>47</td><td>0</td><td>1</td><td>0</td><td>0</td><td>0</td><td>0</td><td>0</td><td>0</td><td>0</td><td>⋯</td><td>0</td><td>0</td><td>0</td><td>1</td><td>1</td><td>0</td><td> 0</td><td> 1</td><td> 0</td><td>0</td></tr>\n",
              "\t<tr><th scope=row>5</th><td>33</td><td>0</td><td>0</td><td>0</td><td>0</td><td>0</td><td>0</td><td>0</td><td>0</td><td>0</td><td>⋯</td><td>0</td><td>0</td><td>0</td><td>1</td><td>1</td><td>0</td><td> 0</td><td> 1</td><td> 0</td><td>0</td></tr>\n",
              "\t<tr><th scope=row>6</th><td>35</td><td>0</td><td>0</td><td>0</td><td>0</td><td>1</td><td>0</td><td>0</td><td>0</td><td>0</td><td>⋯</td><td>0</td><td>0</td><td>0</td><td>1</td><td>1</td><td>0</td><td> 0</td><td> 0</td><td> 1</td><td>0</td></tr>\n",
              "\t<tr><th scope=row>7</th><td>28</td><td>0</td><td>0</td><td>0</td><td>0</td><td>1</td><td>0</td><td>0</td><td>0</td><td>0</td><td>⋯</td><td>0</td><td>0</td><td>0</td><td>1</td><td>1</td><td>0</td><td> 0</td><td> 0</td><td> 1</td><td>0</td></tr>\n",
              "\t<tr><th scope=row>8</th><td>42</td><td>0</td><td>0</td><td>1</td><td>0</td><td>0</td><td>0</td><td>0</td><td>0</td><td>0</td><td>⋯</td><td>0</td><td>0</td><td>0</td><td>1</td><td>1</td><td>0</td><td> 1</td><td> 0</td><td> 0</td><td>1</td></tr>\n",
              "\t<tr><th scope=row>9</th><td>58</td><td>0</td><td>0</td><td>0</td><td>0</td><td>0</td><td>1</td><td>0</td><td>0</td><td>0</td><td>⋯</td><td>0</td><td>0</td><td>0</td><td>1</td><td>1</td><td>0</td><td> 0</td><td> 1</td><td> 0</td><td>0</td></tr>\n",
              "\t<tr><th scope=row>10</th><td>43</td><td>0</td><td>0</td><td>0</td><td>0</td><td>0</td><td>0</td><td>0</td><td>0</td><td>0</td><td>⋯</td><td>0</td><td>0</td><td>0</td><td>1</td><td>1</td><td>0</td><td> 1</td><td> 0</td><td> 0</td><td>0</td></tr>\n",
              "\t<tr><th scope=row>11</th><td>41</td><td>1</td><td>0</td><td>0</td><td>0</td><td>0</td><td>0</td><td>0</td><td>0</td><td>0</td><td>⋯</td><td>0</td><td>0</td><td>0</td><td>1</td><td>1</td><td>0</td><td>NA</td><td>NA</td><td>NA</td><td>0</td></tr>\n",
              "\t<tr><th scope=row>12</th><td>29</td><td>1</td><td>0</td><td>0</td><td>0</td><td>0</td><td>0</td><td>0</td><td>0</td><td>0</td><td>⋯</td><td>0</td><td>0</td><td>0</td><td>1</td><td>1</td><td>0</td><td>NA</td><td>NA</td><td>NA</td><td>0</td></tr>\n",
              "\t<tr><th scope=row>13</th><td>53</td><td>0</td><td>0</td><td>0</td><td>0</td><td>0</td><td>0</td><td>0</td><td>0</td><td>0</td><td>⋯</td><td>0</td><td>0</td><td>0</td><td>1</td><td>1</td><td>0</td><td> 1</td><td> 0</td><td> 0</td><td>0</td></tr>\n",
              "\t<tr><th scope=row>14</th><td>58</td><td>0</td><td>0</td><td>0</td><td>0</td><td>0</td><td>0</td><td>0</td><td>0</td><td>0</td><td>⋯</td><td>0</td><td>0</td><td>0</td><td>1</td><td>1</td><td>0</td><td> 1</td><td> 0</td><td> 0</td><td>0</td></tr>\n",
              "\t<tr><th scope=row>15</th><td>57</td><td>0</td><td>0</td><td>0</td><td>0</td><td>0</td><td>0</td><td>0</td><td>1</td><td>0</td><td>⋯</td><td>0</td><td>0</td><td>0</td><td>1</td><td>1</td><td>0</td><td> 0</td><td> 0</td><td> 1</td><td>0</td></tr>\n",
              "\t<tr><th scope=row>16</th><td>51</td><td>0</td><td>0</td><td>0</td><td>0</td><td>0</td><td>1</td><td>0</td><td>0</td><td>0</td><td>⋯</td><td>0</td><td>0</td><td>0</td><td>1</td><td>1</td><td>0</td><td> 0</td><td> 1</td><td> 0</td><td>0</td></tr>\n",
              "\t<tr><th scope=row>17</th><td>45</td><td>1</td><td>0</td><td>0</td><td>0</td><td>0</td><td>0</td><td>0</td><td>0</td><td>0</td><td>⋯</td><td>0</td><td>0</td><td>0</td><td>1</td><td>1</td><td>0</td><td>NA</td><td>NA</td><td>NA</td><td>0</td></tr>\n",
              "\t<tr><th scope=row>18</th><td>57</td><td>0</td><td>1</td><td>0</td><td>0</td><td>0</td><td>0</td><td>0</td><td>0</td><td>0</td><td>⋯</td><td>0</td><td>0</td><td>0</td><td>1</td><td>1</td><td>0</td><td> 0</td><td> 1</td><td> 0</td><td>0</td></tr>\n",
              "\t<tr><th scope=row>19</th><td>60</td><td>0</td><td>0</td><td>0</td><td>0</td><td>0</td><td>1</td><td>0</td><td>0</td><td>0</td><td>⋯</td><td>0</td><td>0</td><td>0</td><td>1</td><td>1</td><td>0</td><td> 0</td><td> 1</td><td> 0</td><td>0</td></tr>\n",
              "\t<tr><th scope=row>20</th><td>33</td><td>0</td><td>0</td><td>0</td><td>0</td><td>0</td><td>0</td><td>0</td><td>1</td><td>0</td><td>⋯</td><td>0</td><td>0</td><td>0</td><td>1</td><td>1</td><td>0</td><td> 0</td><td> 0</td><td> 1</td><td>0</td></tr>\n",
              "\t<tr><th scope=row>21</th><td>28</td><td>0</td><td>1</td><td>0</td><td>0</td><td>0</td><td>0</td><td>0</td><td>0</td><td>0</td><td>⋯</td><td>0</td><td>0</td><td>0</td><td>1</td><td>1</td><td>0</td><td> 0</td><td> 1</td><td> 0</td><td>0</td></tr>\n",
              "\t<tr><th scope=row>22</th><td>56</td><td>0</td><td>0</td><td>0</td><td>0</td><td>1</td><td>0</td><td>0</td><td>0</td><td>0</td><td>⋯</td><td>0</td><td>0</td><td>0</td><td>1</td><td>1</td><td>0</td><td> 0</td><td> 0</td><td> 1</td><td>0</td></tr>\n",
              "\t<tr><th scope=row>23</th><td>32</td><td>0</td><td>1</td><td>0</td><td>0</td><td>0</td><td>0</td><td>0</td><td>0</td><td>0</td><td>⋯</td><td>0</td><td>0</td><td>0</td><td>1</td><td>1</td><td>0</td><td> 0</td><td> 1</td><td> 0</td><td>0</td></tr>\n",
              "\t<tr><th scope=row>24</th><td>25</td><td>0</td><td>0</td><td>0</td><td>0</td><td>0</td><td>0</td><td>0</td><td>1</td><td>0</td><td>⋯</td><td>0</td><td>0</td><td>0</td><td>1</td><td>1</td><td>0</td><td> 0</td><td> 0</td><td> 1</td><td>0</td></tr>\n",
              "\t<tr><th scope=row>25</th><td>40</td><td>0</td><td>0</td><td>0</td><td>0</td><td>0</td><td>1</td><td>0</td><td>0</td><td>0</td><td>⋯</td><td>0</td><td>0</td><td>0</td><td>1</td><td>1</td><td>0</td><td> 0</td><td> 1</td><td> 0</td><td>0</td></tr>\n",
              "\t<tr><th scope=row>26</th><td>44</td><td>1</td><td>0</td><td>0</td><td>0</td><td>0</td><td>0</td><td>0</td><td>0</td><td>0</td><td>⋯</td><td>0</td><td>0</td><td>0</td><td>1</td><td>1</td><td>0</td><td>NA</td><td>NA</td><td>NA</td><td>0</td></tr>\n",
              "\t<tr><th scope=row>27</th><td>39</td><td>0</td><td>0</td><td>0</td><td>0</td><td>1</td><td>0</td><td>0</td><td>0</td><td>0</td><td>⋯</td><td>0</td><td>0</td><td>0</td><td>1</td><td>1</td><td>0</td><td> 0</td><td> 0</td><td> 1</td><td>0</td></tr>\n",
              "\t<tr><th scope=row>28</th><td>52</td><td>0</td><td>0</td><td>1</td><td>0</td><td>0</td><td>0</td><td>0</td><td>0</td><td>0</td><td>⋯</td><td>0</td><td>0</td><td>0</td><td>1</td><td>1</td><td>0</td><td> 1</td><td> 0</td><td> 0</td><td>0</td></tr>\n",
              "\t<tr><th scope=row>29</th><td>46</td><td>0</td><td>0</td><td>0</td><td>0</td><td>1</td><td>0</td><td>0</td><td>0</td><td>0</td><td>⋯</td><td>0</td><td>0</td><td>0</td><td>1</td><td>1</td><td>0</td><td> 0</td><td> 0</td><td> 1</td><td>0</td></tr>\n",
              "\t<tr><th scope=row>30</th><td>36</td><td>0</td><td>0</td><td>0</td><td>0</td><td>0</td><td>0</td><td>0</td><td>0</td><td>0</td><td>⋯</td><td>0</td><td>0</td><td>0</td><td>1</td><td>1</td><td>0</td><td> 1</td><td> 0</td><td> 0</td><td>0</td></tr>\n",
              "\t<tr><th scope=row>⋮</th><td>⋮</td><td>⋮</td><td>⋮</td><td>⋮</td><td>⋮</td><td>⋮</td><td>⋮</td><td>⋮</td><td>⋮</td><td>⋮</td><td>⋱</td><td>⋮</td><td>⋮</td><td>⋮</td><td>⋮</td><td>⋮</td><td>⋮</td><td>⋮</td><td>⋮</td><td>⋮</td><td>⋮</td></tr>\n",
              "\t<tr><th scope=row>45182</th><td>46</td><td>0</td><td>1</td><td>0</td><td>0</td><td>0</td><td>0</td><td>0</td><td>0</td><td>0</td><td>⋯</td><td>1</td><td>0</td><td>0</td><td>0</td><td>1</td><td>0</td><td> 0</td><td> 1</td><td> 0</td><td>0</td></tr>\n",
              "\t<tr><th scope=row>45183</th><td>34</td><td>0</td><td>0</td><td>0</td><td>0</td><td>0</td><td>0</td><td>0</td><td>0</td><td>0</td><td>⋯</td><td>0</td><td>0</td><td>1</td><td>0</td><td>0</td><td>1</td><td> 1</td><td> 0</td><td> 0</td><td>0</td></tr>\n",
              "\t<tr><th scope=row>45184</th><td>70</td><td>0</td><td>0</td><td>0</td><td>0</td><td>0</td><td>1</td><td>0</td><td>0</td><td>0</td><td>⋯</td><td>0</td><td>0</td><td>1</td><td>0</td><td>1</td><td>0</td><td> 0</td><td> 1</td><td> 0</td><td>0</td></tr>\n",
              "\t<tr><th scope=row>45185</th><td>63</td><td>0</td><td>0</td><td>0</td><td>0</td><td>0</td><td>1</td><td>0</td><td>0</td><td>0</td><td>⋯</td><td>0</td><td>0</td><td>1</td><td>0</td><td>1</td><td>0</td><td> 0</td><td> 1</td><td> 0</td><td>0</td></tr>\n",
              "\t<tr><th scope=row>45186</th><td>60</td><td>0</td><td>0</td><td>0</td><td>0</td><td>0</td><td>0</td><td>0</td><td>1</td><td>0</td><td>⋯</td><td>0</td><td>0</td><td>1</td><td>0</td><td>0</td><td>1</td><td> 0</td><td> 0</td><td> 1</td><td>0</td></tr>\n",
              "\t<tr><th scope=row>45187</th><td>59</td><td>0</td><td>0</td><td>0</td><td>0</td><td>0</td><td>0</td><td>0</td><td>0</td><td>0</td><td>⋯</td><td>1</td><td>0</td><td>0</td><td>0</td><td>1</td><td>0</td><td> 0</td><td> 1</td><td> 0</td><td>0</td></tr>\n",
              "\t<tr><th scope=row>45188</th><td>32</td><td>0</td><td>0</td><td>0</td><td>0</td><td>0</td><td>0</td><td>0</td><td>1</td><td>0</td><td>⋯</td><td>0</td><td>0</td><td>0</td><td>1</td><td>0</td><td>1</td><td> 0</td><td> 0</td><td> 1</td><td>0</td></tr>\n",
              "\t<tr><th scope=row>45189</th><td>29</td><td>0</td><td>0</td><td>0</td><td>0</td><td>1</td><td>0</td><td>0</td><td>0</td><td>0</td><td>⋯</td><td>0</td><td>0</td><td>1</td><td>0</td><td>0</td><td>1</td><td> 0</td><td> 0</td><td> 1</td><td>0</td></tr>\n",
              "\t<tr><th scope=row>45190</th><td>25</td><td>0</td><td>0</td><td>0</td><td>0</td><td>0</td><td>0</td><td>0</td><td>1</td><td>0</td><td>⋯</td><td>1</td><td>0</td><td>0</td><td>0</td><td>1</td><td>0</td><td> 0</td><td> 0</td><td> 1</td><td>0</td></tr>\n",
              "\t<tr><th scope=row>45191</th><td>32</td><td>0</td><td>1</td><td>0</td><td>0</td><td>0</td><td>0</td><td>0</td><td>0</td><td>0</td><td>⋯</td><td>0</td><td>0</td><td>1</td><td>0</td><td>0</td><td>1</td><td> 0</td><td> 1</td><td> 0</td><td>0</td></tr>\n",
              "\t<tr><th scope=row>45192</th><td>75</td><td>0</td><td>0</td><td>0</td><td>0</td><td>0</td><td>1</td><td>0</td><td>0</td><td>0</td><td>⋯</td><td>1</td><td>0</td><td>0</td><td>0</td><td>0</td><td>1</td><td> 0</td><td> 1</td><td> 0</td><td>0</td></tr>\n",
              "\t<tr><th scope=row>45193</th><td>29</td><td>0</td><td>0</td><td>0</td><td>0</td><td>1</td><td>0</td><td>0</td><td>0</td><td>0</td><td>⋯</td><td>0</td><td>0</td><td>0</td><td>1</td><td>0</td><td>1</td><td> 0</td><td> 0</td><td> 1</td><td>0</td></tr>\n",
              "\t<tr><th scope=row>45194</th><td>28</td><td>0</td><td>0</td><td>0</td><td>0</td><td>0</td><td>0</td><td>1</td><td>0</td><td>0</td><td>⋯</td><td>0</td><td>0</td><td>1</td><td>0</td><td>0</td><td>1</td><td> 0</td><td> 1</td><td> 0</td><td>0</td></tr>\n",
              "\t<tr><th scope=row>45195</th><td>59</td><td>0</td><td>0</td><td>0</td><td>0</td><td>1</td><td>0</td><td>0</td><td>0</td><td>0</td><td>⋯</td><td>1</td><td>0</td><td>0</td><td>0</td><td>1</td><td>0</td><td> 0</td><td> 0</td><td> 1</td><td>0</td></tr>\n",
              "\t<tr><th scope=row>45196</th><td>68</td><td>0</td><td>0</td><td>0</td><td>0</td><td>0</td><td>1</td><td>0</td><td>0</td><td>0</td><td>⋯</td><td>0</td><td>0</td><td>1</td><td>0</td><td>0</td><td>1</td><td> 0</td><td> 1</td><td> 0</td><td>0</td></tr>\n",
              "\t<tr><th scope=row>45197</th><td>25</td><td>0</td><td>0</td><td>0</td><td>0</td><td>0</td><td>0</td><td>0</td><td>0</td><td>1</td><td>⋯</td><td>0</td><td>0</td><td>0</td><td>1</td><td>0</td><td>1</td><td> 1</td><td> 0</td><td> 0</td><td>0</td></tr>\n",
              "\t<tr><th scope=row>45198</th><td>36</td><td>0</td><td>0</td><td>0</td><td>0</td><td>1</td><td>0</td><td>0</td><td>0</td><td>0</td><td>⋯</td><td>0</td><td>0</td><td>0</td><td>1</td><td>0</td><td>1</td><td> 0</td><td> 0</td><td> 1</td><td>0</td></tr>\n",
              "\t<tr><th scope=row>45199</th><td>37</td><td>0</td><td>0</td><td>0</td><td>0</td><td>1</td><td>0</td><td>0</td><td>0</td><td>0</td><td>⋯</td><td>0</td><td>0</td><td>0</td><td>1</td><td>1</td><td>0</td><td> 0</td><td> 0</td><td> 1</td><td>0</td></tr>\n",
              "\t<tr><th scope=row>45200</th><td>34</td><td>0</td><td>1</td><td>0</td><td>0</td><td>0</td><td>0</td><td>0</td><td>0</td><td>0</td><td>⋯</td><td>0</td><td>1</td><td>0</td><td>0</td><td>1</td><td>0</td><td> 0</td><td> 1</td><td> 0</td><td>0</td></tr>\n",
              "\t<tr><th scope=row>45201</th><td>38</td><td>0</td><td>0</td><td>0</td><td>0</td><td>0</td><td>0</td><td>0</td><td>0</td><td>0</td><td>⋯</td><td>0</td><td>0</td><td>0</td><td>1</td><td>0</td><td>1</td><td> 1</td><td> 0</td><td> 0</td><td>0</td></tr>\n",
              "\t<tr><th scope=row>45202</th><td>53</td><td>0</td><td>0</td><td>0</td><td>0</td><td>1</td><td>0</td><td>0</td><td>0</td><td>0</td><td>⋯</td><td>0</td><td>0</td><td>1</td><td>0</td><td>0</td><td>1</td><td> 0</td><td> 0</td><td> 1</td><td>0</td></tr>\n",
              "\t<tr><th scope=row>45203</th><td>34</td><td>1</td><td>0</td><td>0</td><td>0</td><td>0</td><td>0</td><td>0</td><td>0</td><td>0</td><td>⋯</td><td>0</td><td>0</td><td>0</td><td>1</td><td>0</td><td>1</td><td>NA</td><td>NA</td><td>NA</td><td>0</td></tr>\n",
              "\t<tr><th scope=row>45204</th><td>23</td><td>0</td><td>0</td><td>0</td><td>0</td><td>0</td><td>0</td><td>0</td><td>0</td><td>1</td><td>⋯</td><td>0</td><td>0</td><td>0</td><td>1</td><td>0</td><td>1</td><td> 1</td><td> 0</td><td> 0</td><td>0</td></tr>\n",
              "\t<tr><th scope=row>45205</th><td>73</td><td>0</td><td>0</td><td>0</td><td>0</td><td>0</td><td>1</td><td>0</td><td>0</td><td>0</td><td>⋯</td><td>1</td><td>0</td><td>0</td><td>0</td><td>0</td><td>1</td><td> 0</td><td> 1</td><td> 0</td><td>0</td></tr>\n",
              "\t<tr><th scope=row>45206</th><td>25</td><td>0</td><td>0</td><td>0</td><td>0</td><td>0</td><td>0</td><td>0</td><td>0</td><td>0</td><td>⋯</td><td>0</td><td>0</td><td>0</td><td>1</td><td>0</td><td>1</td><td> 1</td><td> 0</td><td> 0</td><td>0</td></tr>\n",
              "\t<tr><th scope=row>45207</th><td>51</td><td>0</td><td>0</td><td>0</td><td>0</td><td>0</td><td>0</td><td>0</td><td>0</td><td>0</td><td>⋯</td><td>0</td><td>0</td><td>0</td><td>1</td><td>0</td><td>1</td><td> 1</td><td> 0</td><td> 0</td><td>0</td></tr>\n",
              "\t<tr><th scope=row>45208</th><td>71</td><td>0</td><td>0</td><td>0</td><td>0</td><td>0</td><td>1</td><td>0</td><td>0</td><td>0</td><td>⋯</td><td>0</td><td>0</td><td>0</td><td>1</td><td>0</td><td>1</td><td> 0</td><td> 1</td><td> 0</td><td>0</td></tr>\n",
              "\t<tr><th scope=row>45209</th><td>72</td><td>0</td><td>0</td><td>0</td><td>0</td><td>0</td><td>1</td><td>0</td><td>0</td><td>0</td><td>⋯</td><td>0</td><td>0</td><td>1</td><td>0</td><td>0</td><td>1</td><td> 0</td><td> 1</td><td> 0</td><td>0</td></tr>\n",
              "\t<tr><th scope=row>45210</th><td>57</td><td>0</td><td>1</td><td>0</td><td>0</td><td>0</td><td>0</td><td>0</td><td>0</td><td>0</td><td>⋯</td><td>0</td><td>0</td><td>0</td><td>1</td><td>1</td><td>0</td><td> 0</td><td> 1</td><td> 0</td><td>0</td></tr>\n",
              "\t<tr><th scope=row>45211</th><td>37</td><td>0</td><td>0</td><td>1</td><td>0</td><td>0</td><td>0</td><td>0</td><td>0</td><td>0</td><td>⋯</td><td>0</td><td>1</td><td>0</td><td>0</td><td>1</td><td>0</td><td> 1</td><td> 0</td><td> 0</td><td>0</td></tr>\n",
              "</tbody>\n",
              "</table>\n"
            ],
            "text/plain": [
              "      age jobadmin. jobblue.collar jobentrepreneur jobhousemaid jobmanagement\n",
              "1     58  0         0              0               0            1            \n",
              "2     44  0         0              0               0            0            \n",
              "3     33  0         0              1               0            0            \n",
              "4     47  0         1              0               0            0            \n",
              "5     33  0         0              0               0            0            \n",
              "6     35  0         0              0               0            1            \n",
              "7     28  0         0              0               0            1            \n",
              "8     42  0         0              1               0            0            \n",
              "9     58  0         0              0               0            0            \n",
              "10    43  0         0              0               0            0            \n",
              "11    41  1         0              0               0            0            \n",
              "12    29  1         0              0               0            0            \n",
              "13    53  0         0              0               0            0            \n",
              "14    58  0         0              0               0            0            \n",
              "15    57  0         0              0               0            0            \n",
              "16    51  0         0              0               0            0            \n",
              "17    45  1         0              0               0            0            \n",
              "18    57  0         1              0               0            0            \n",
              "19    60  0         0              0               0            0            \n",
              "20    33  0         0              0               0            0            \n",
              "21    28  0         1              0               0            0            \n",
              "22    56  0         0              0               0            1            \n",
              "23    32  0         1              0               0            0            \n",
              "24    25  0         0              0               0            0            \n",
              "25    40  0         0              0               0            0            \n",
              "26    44  1         0              0               0            0            \n",
              "27    39  0         0              0               0            1            \n",
              "28    52  0         0              1               0            0            \n",
              "29    46  0         0              0               0            1            \n",
              "30    36  0         0              0               0            0            \n",
              "⋮     ⋮   ⋮         ⋮              ⋮               ⋮            ⋮            \n",
              "45182 46  0         1              0               0            0            \n",
              "45183 34  0         0              0               0            0            \n",
              "45184 70  0         0              0               0            0            \n",
              "45185 63  0         0              0               0            0            \n",
              "45186 60  0         0              0               0            0            \n",
              "45187 59  0         0              0               0            0            \n",
              "45188 32  0         0              0               0            0            \n",
              "45189 29  0         0              0               0            1            \n",
              "45190 25  0         0              0               0            0            \n",
              "45191 32  0         1              0               0            0            \n",
              "45192 75  0         0              0               0            0            \n",
              "45193 29  0         0              0               0            1            \n",
              "45194 28  0         0              0               0            0            \n",
              "45195 59  0         0              0               0            1            \n",
              "45196 68  0         0              0               0            0            \n",
              "45197 25  0         0              0               0            0            \n",
              "45198 36  0         0              0               0            1            \n",
              "45199 37  0         0              0               0            1            \n",
              "45200 34  0         1              0               0            0            \n",
              "45201 38  0         0              0               0            0            \n",
              "45202 53  0         0              0               0            1            \n",
              "45203 34  1         0              0               0            0            \n",
              "45204 23  0         0              0               0            0            \n",
              "45205 73  0         0              0               0            0            \n",
              "45206 25  0         0              0               0            0            \n",
              "45207 51  0         0              0               0            0            \n",
              "45208 71  0         0              0               0            0            \n",
              "45209 72  0         0              0               0            0            \n",
              "45210 57  0         1              0               0            0            \n",
              "45211 37  0         0              1               0            0            \n",
              "      jobretired jobself.employed jobservices jobstudent ⋯ poutcomefailure\n",
              "1     0          0                0           0          ⋯ 0              \n",
              "2     0          0                0           0          ⋯ 0              \n",
              "3     0          0                0           0          ⋯ 0              \n",
              "4     0          0                0           0          ⋯ 0              \n",
              "5     0          0                0           0          ⋯ 0              \n",
              "6     0          0                0           0          ⋯ 0              \n",
              "7     0          0                0           0          ⋯ 0              \n",
              "8     0          0                0           0          ⋯ 0              \n",
              "9     1          0                0           0          ⋯ 0              \n",
              "10    0          0                0           0          ⋯ 0              \n",
              "11    0          0                0           0          ⋯ 0              \n",
              "12    0          0                0           0          ⋯ 0              \n",
              "13    0          0                0           0          ⋯ 0              \n",
              "14    0          0                0           0          ⋯ 0              \n",
              "15    0          0                1           0          ⋯ 0              \n",
              "16    1          0                0           0          ⋯ 0              \n",
              "17    0          0                0           0          ⋯ 0              \n",
              "18    0          0                0           0          ⋯ 0              \n",
              "19    1          0                0           0          ⋯ 0              \n",
              "20    0          0                1           0          ⋯ 0              \n",
              "21    0          0                0           0          ⋯ 0              \n",
              "22    0          0                0           0          ⋯ 0              \n",
              "23    0          0                0           0          ⋯ 0              \n",
              "24    0          0                1           0          ⋯ 0              \n",
              "25    1          0                0           0          ⋯ 0              \n",
              "26    0          0                0           0          ⋯ 0              \n",
              "27    0          0                0           0          ⋯ 0              \n",
              "28    0          0                0           0          ⋯ 0              \n",
              "29    0          0                0           0          ⋯ 0              \n",
              "30    0          0                0           0          ⋯ 0              \n",
              "⋮     ⋮          ⋮                ⋮           ⋮          ⋱ ⋮              \n",
              "45182 0          0                0           0          ⋯ 1              \n",
              "45183 0          0                0           0          ⋯ 0              \n",
              "45184 1          0                0           0          ⋯ 0              \n",
              "45185 1          0                0           0          ⋯ 0              \n",
              "45186 0          0                1           0          ⋯ 0              \n",
              "45187 0          0                0           0          ⋯ 1              \n",
              "45188 0          0                1           0          ⋯ 0              \n",
              "45189 0          0                0           0          ⋯ 0              \n",
              "45190 0          0                1           0          ⋯ 1              \n",
              "45191 0          0                0           0          ⋯ 0              \n",
              "45192 1          0                0           0          ⋯ 1              \n",
              "45193 0          0                0           0          ⋯ 0              \n",
              "45194 0          1                0           0          ⋯ 0              \n",
              "45195 0          0                0           0          ⋯ 1              \n",
              "45196 1          0                0           0          ⋯ 0              \n",
              "45197 0          0                0           1          ⋯ 0              \n",
              "45198 0          0                0           0          ⋯ 0              \n",
              "45199 0          0                0           0          ⋯ 0              \n",
              "45200 0          0                0           0          ⋯ 0              \n",
              "45201 0          0                0           0          ⋯ 0              \n",
              "45202 0          0                0           0          ⋯ 0              \n",
              "45203 0          0                0           0          ⋯ 0              \n",
              "45204 0          0                0           1          ⋯ 0              \n",
              "45205 1          0                0           0          ⋯ 1              \n",
              "45206 0          0                0           0          ⋯ 0              \n",
              "45207 0          0                0           0          ⋯ 0              \n",
              "45208 1          0                0           0          ⋯ 0              \n",
              "45209 1          0                0           0          ⋯ 0              \n",
              "45210 0          0                0           0          ⋯ 0              \n",
              "45211 0          0                0           0          ⋯ 0              \n",
              "      poutcomeother poutcomesuccess poutcomeunknown yno yyes\n",
              "1     0             0               1               1   0   \n",
              "2     0             0               1               1   0   \n",
              "3     0             0               1               1   0   \n",
              "4     0             0               1               1   0   \n",
              "5     0             0               1               1   0   \n",
              "6     0             0               1               1   0   \n",
              "7     0             0               1               1   0   \n",
              "8     0             0               1               1   0   \n",
              "9     0             0               1               1   0   \n",
              "10    0             0               1               1   0   \n",
              "11    0             0               1               1   0   \n",
              "12    0             0               1               1   0   \n",
              "13    0             0               1               1   0   \n",
              "14    0             0               1               1   0   \n",
              "15    0             0               1               1   0   \n",
              "16    0             0               1               1   0   \n",
              "17    0             0               1               1   0   \n",
              "18    0             0               1               1   0   \n",
              "19    0             0               1               1   0   \n",
              "20    0             0               1               1   0   \n",
              "21    0             0               1               1   0   \n",
              "22    0             0               1               1   0   \n",
              "23    0             0               1               1   0   \n",
              "24    0             0               1               1   0   \n",
              "25    0             0               1               1   0   \n",
              "26    0             0               1               1   0   \n",
              "27    0             0               1               1   0   \n",
              "28    0             0               1               1   0   \n",
              "29    0             0               1               1   0   \n",
              "30    0             0               1               1   0   \n",
              "⋮     ⋮             ⋮               ⋮               ⋮   ⋮   \n",
              "45182 0             0               0               1   0   \n",
              "45183 0             1               0               0   1   \n",
              "45184 0             1               0               1   0   \n",
              "45185 0             1               0               1   0   \n",
              "45186 0             1               0               0   1   \n",
              "45187 0             0               0               1   0   \n",
              "45188 0             0               1               0   1   \n",
              "45189 0             1               0               0   1   \n",
              "45190 0             0               0               1   0   \n",
              "45191 0             1               0               0   1   \n",
              "45192 0             0               0               0   1   \n",
              "45193 0             0               1               0   1   \n",
              "45194 0             1               0               0   1   \n",
              "45195 0             0               0               1   0   \n",
              "45196 0             1               0               0   1   \n",
              "45197 0             0               1               0   1   \n",
              "45198 0             0               1               0   1   \n",
              "45199 0             0               1               1   0   \n",
              "45200 1             0               0               1   0   \n",
              "45201 0             0               1               0   1   \n",
              "45202 0             1               0               0   1   \n",
              "45203 0             0               1               0   1   \n",
              "45204 0             0               1               0   1   \n",
              "45205 0             0               0               0   1   \n",
              "45206 0             0               1               0   1   \n",
              "45207 0             0               1               0   1   \n",
              "45208 0             0               1               0   1   \n",
              "45209 0             1               0               0   1   \n",
              "45210 0             0               1               1   0   \n",
              "45211 1             0               0               1   0   \n",
              "      tecchnology_usealto tecchnology_usebaixo tecchnology_usemedio defaulted\n",
              "1      0                   0                    1                   0        \n",
              "2      1                   0                    0                   0        \n",
              "3      1                   0                    0                   0        \n",
              "4      0                   1                    0                   0        \n",
              "5      0                   1                    0                   0        \n",
              "6      0                   0                    1                   0        \n",
              "7      0                   0                    1                   0        \n",
              "8      1                   0                    0                   1        \n",
              "9      0                   1                    0                   0        \n",
              "10     1                   0                    0                   0        \n",
              "11    NA                  NA                   NA                   0        \n",
              "12    NA                  NA                   NA                   0        \n",
              "13     1                   0                    0                   0        \n",
              "14     1                   0                    0                   0        \n",
              "15     0                   0                    1                   0        \n",
              "16     0                   1                    0                   0        \n",
              "17    NA                  NA                   NA                   0        \n",
              "18     0                   1                    0                   0        \n",
              "19     0                   1                    0                   0        \n",
              "20     0                   0                    1                   0        \n",
              "21     0                   1                    0                   0        \n",
              "22     0                   0                    1                   0        \n",
              "23     0                   1                    0                   0        \n",
              "24     0                   0                    1                   0        \n",
              "25     0                   1                    0                   0        \n",
              "26    NA                  NA                   NA                   0        \n",
              "27     0                   0                    1                   0        \n",
              "28     1                   0                    0                   0        \n",
              "29     0                   0                    1                   0        \n",
              "30     1                   0                    0                   0        \n",
              "⋮     ⋮                   ⋮                    ⋮                    ⋮        \n",
              "45182  0                   1                    0                   0        \n",
              "45183  1                   0                    0                   0        \n",
              "45184  0                   1                    0                   0        \n",
              "45185  0                   1                    0                   0        \n",
              "45186  0                   0                    1                   0        \n",
              "45187  0                   1                    0                   0        \n",
              "45188  0                   0                    1                   0        \n",
              "45189  0                   0                    1                   0        \n",
              "45190  0                   0                    1                   0        \n",
              "45191  0                   1                    0                   0        \n",
              "45192  0                   1                    0                   0        \n",
              "45193  0                   0                    1                   0        \n",
              "45194  0                   1                    0                   0        \n",
              "45195  0                   0                    1                   0        \n",
              "45196  0                   1                    0                   0        \n",
              "45197  1                   0                    0                   0        \n",
              "45198  0                   0                    1                   0        \n",
              "45199  0                   0                    1                   0        \n",
              "45200  0                   1                    0                   0        \n",
              "45201  1                   0                    0                   0        \n",
              "45202  0                   0                    1                   0        \n",
              "45203 NA                  NA                   NA                   0        \n",
              "45204  1                   0                    0                   0        \n",
              "45205  0                   1                    0                   0        \n",
              "45206  1                   0                    0                   0        \n",
              "45207  1                   0                    0                   0        \n",
              "45208  0                   1                    0                   0        \n",
              "45209  0                   1                    0                   0        \n",
              "45210  0                   1                    0                   0        \n",
              "45211  1                   0                    0                   0        "
            ]
          },
          "metadata": {
            "tags": []
          }
        }
      ]
    },
    {
      "cell_type": "code",
      "metadata": {
        "colab": {
          "base_uri": "https://localhost:8080/",
          "height": 1000
        },
        "id": "FWrm_6OzHXXU",
        "outputId": "6e11c27a-962d-4e61-8b4f-39e96e1e171d"
      },
      "source": [
        "View(bank)"
      ],
      "execution_count": 34,
      "outputs": [
        {
          "output_type": "display_data",
          "data": {
            "text/markdown": "\nA data.frame: 45211 × 19\n\n| age &lt;int&gt; | job &lt;chr&gt; | marital &lt;chr&gt; | education &lt;chr&gt; | default &lt;chr&gt; | balance &lt;int&gt; | housing &lt;chr&gt; | loan &lt;chr&gt; | contact &lt;chr&gt; | day &lt;int&gt; | month &lt;chr&gt; | duration &lt;int&gt; | campaign &lt;int&gt; | pdays &lt;int&gt; | previous &lt;int&gt; | poutcome &lt;chr&gt; | y &lt;chr&gt; | tecchnology_use &lt;chr&gt; | defaulted &lt;dbl&gt; |\n|---|---|---|---|---|---|---|---|---|---|---|---|---|---|---|---|---|---|---|\n| 58 | management   | married  | tertiary  | no  | 2143 | yes | no  | unknown | 5 | may | 261 | 1 | -1 | 0 | unknown | no | medio | 0 |\n| 44 | technician   | single   | secondary | no  |   29 | yes | no  | unknown | 5 | may | 151 | 1 | -1 | 0 | unknown | no | alto  | 0 |\n| 33 | entrepreneur | married  | secondary | no  |    2 | yes | yes | unknown | 5 | may |  76 | 1 | -1 | 0 | unknown | no | alto  | 0 |\n| 47 | blue-collar  | married  | unknown   | no  | 1506 | yes | no  | unknown | 5 | may |  92 | 1 | -1 | 0 | unknown | no | baixo | 0 |\n| 33 | unknown      | single   | unknown   | no  |    1 | no  | no  | unknown | 5 | may | 198 | 1 | -1 | 0 | unknown | no | baixo | 0 |\n| 35 | management   | married  | tertiary  | no  |  231 | yes | no  | unknown | 5 | may | 139 | 1 | -1 | 0 | unknown | no | medio | 0 |\n| 28 | management   | single   | tertiary  | no  |  447 | yes | yes | unknown | 5 | may | 217 | 1 | -1 | 0 | unknown | no | medio | 0 |\n| 42 | entrepreneur | divorced | tertiary  | yes |    2 | yes | no  | unknown | 5 | may | 380 | 1 | -1 | 0 | unknown | no | alto  | 1 |\n| 58 | retired      | married  | primary   | no  |  121 | yes | no  | unknown | 5 | may |  50 | 1 | -1 | 0 | unknown | no | baixo | 0 |\n| 43 | technician   | single   | secondary | no  |  593 | yes | no  | unknown | 5 | may |  55 | 1 | -1 | 0 | unknown | no | alto  | 0 |\n| 41 | admin.       | divorced | secondary | no  |  270 | yes | no  | unknown | 5 | may | 222 | 1 | -1 | 0 | unknown | no | NA    | 0 |\n| 29 | admin.       | single   | secondary | no  |  390 | yes | no  | unknown | 5 | may | 137 | 1 | -1 | 0 | unknown | no | NA    | 0 |\n| 53 | technician   | married  | secondary | no  |    6 | yes | no  | unknown | 5 | may | 517 | 1 | -1 | 0 | unknown | no | alto  | 0 |\n| 58 | technician   | married  | unknown   | no  |   71 | yes | no  | unknown | 5 | may |  71 | 1 | -1 | 0 | unknown | no | alto  | 0 |\n| 57 | services     | married  | secondary | no  |  162 | yes | no  | unknown | 5 | may | 174 | 1 | -1 | 0 | unknown | no | medio | 0 |\n| 51 | retired      | married  | primary   | no  |  229 | yes | no  | unknown | 5 | may | 353 | 1 | -1 | 0 | unknown | no | baixo | 0 |\n| 45 | admin.       | single   | unknown   | no  |   13 | yes | no  | unknown | 5 | may |  98 | 1 | -1 | 0 | unknown | no | NA    | 0 |\n| 57 | blue-collar  | married  | primary   | no  |   52 | yes | no  | unknown | 5 | may |  38 | 1 | -1 | 0 | unknown | no | baixo | 0 |\n| 60 | retired      | married  | primary   | no  |   60 | yes | no  | unknown | 5 | may | 219 | 1 | -1 | 0 | unknown | no | baixo | 0 |\n| 33 | services     | married  | secondary | no  |    0 | yes | no  | unknown | 5 | may |  54 | 1 | -1 | 0 | unknown | no | medio | 0 |\n| 28 | blue-collar  | married  | secondary | no  |  723 | yes | yes | unknown | 5 | may | 262 | 1 | -1 | 0 | unknown | no | baixo | 0 |\n| 56 | management   | married  | tertiary  | no  |  779 | yes | no  | unknown | 5 | may | 164 | 1 | -1 | 0 | unknown | no | medio | 0 |\n| 32 | blue-collar  | single   | primary   | no  |   23 | yes | yes | unknown | 5 | may | 160 | 1 | -1 | 0 | unknown | no | baixo | 0 |\n| 25 | services     | married  | secondary | no  |   50 | yes | no  | unknown | 5 | may | 342 | 1 | -1 | 0 | unknown | no | medio | 0 |\n| 40 | retired      | married  | primary   | no  |    0 | yes | yes | unknown | 5 | may | 181 | 1 | -1 | 0 | unknown | no | baixo | 0 |\n| 44 | admin.       | married  | secondary | no  | -372 | yes | no  | unknown | 5 | may | 172 | 1 | -1 | 0 | unknown | no | NA    | 0 |\n| 39 | management   | single   | tertiary  | no  |  255 | yes | no  | unknown | 5 | may | 296 | 1 | -1 | 0 | unknown | no | medio | 0 |\n| 52 | entrepreneur | married  | secondary | no  |  113 | yes | yes | unknown | 5 | may | 127 | 1 | -1 | 0 | unknown | no | alto  | 0 |\n| 46 | management   | single   | secondary | no  | -246 | yes | no  | unknown | 5 | may | 255 | 2 | -1 | 0 | unknown | no | medio | 0 |\n| 36 | technician   | single   | secondary | no  |  265 | yes | yes | unknown | 5 | may | 348 | 1 | -1 | 0 | unknown | no | alto  | 0 |\n| ⋮ | ⋮ | ⋮ | ⋮ | ⋮ | ⋮ | ⋮ | ⋮ | ⋮ | ⋮ | ⋮ | ⋮ | ⋮ | ⋮ | ⋮ | ⋮ | ⋮ | ⋮ | ⋮ |\n| 46 | blue-collar   | married  | secondary | no | 6879 | no  | no  | cellular  | 15 | nov |   74 | 2 | 118 |  3 | failure | no  | baixo | 0 |\n| 34 | technician    | married  | secondary | no |  133 | no  | no  | cellular  | 15 | nov |  401 | 2 | 187 |  5 | success | yes | alto  | 0 |\n| 70 | retired       | married  | primary   | no |  324 | no  | no  | cellular  | 15 | nov |   78 | 1 |  96 |  7 | success | no  | baixo | 0 |\n| 63 | retired       | married  | secondary | no | 1495 | no  | no  | cellular  | 16 | nov |  138 | 1 |  22 |  5 | success | no  | baixo | 0 |\n| 60 | services      | married  | tertiary  | no | 4256 | yes | no  | cellular  | 16 | nov |  200 | 1 |  92 |  4 | success | yes | medio | 0 |\n| 59 | unknown       | married  | unknown   | no | 1500 | no  | no  | cellular  | 16 | nov |  280 | 1 | 104 |  2 | failure | no  | baixo | 0 |\n| 32 | services      | single   | secondary | no | 1168 | yes | no  | cellular  | 16 | nov |  411 | 1 |  -1 |  0 | unknown | yes | medio | 0 |\n| 29 | management    | single   | secondary | no |  703 | yes | no  | cellular  | 16 | nov |  236 | 1 | 550 |  2 | success | yes | medio | 0 |\n| 25 | services      | single   | secondary | no |  199 | no  | no  | cellular  | 16 | nov |  173 | 1 |  92 |  5 | failure | no  | medio | 0 |\n| 32 | blue-collar   | married  | secondary | no |  136 | no  | no  | cellular  | 16 | nov |  206 | 1 | 188 |  3 | success | yes | baixo | 0 |\n| 75 | retired       | divorced | tertiary  | no | 3810 | yes | no  | cellular  | 16 | nov |  262 | 1 | 183 |  1 | failure | yes | baixo | 0 |\n| 29 | management    | single   | tertiary  | no |  765 | no  | no  | cellular  | 16 | nov |  238 | 1 |  -1 |  0 | unknown | yes | medio | 0 |\n| 28 | self-employed | single   | tertiary  | no |  159 | no  | no  | cellular  | 16 | nov |  449 | 2 |  33 |  4 | success | yes | baixo | 0 |\n| 59 | management    | married  | tertiary  | no |  138 | yes | yes | cellular  | 16 | nov |  162 | 2 | 187 |  5 | failure | no  | medio | 0 |\n| 68 | retired       | married  | secondary | no | 1146 | no  | no  | cellular  | 16 | nov |  212 | 1 | 187 |  6 | success | yes | baixo | 0 |\n| 25 | student       | single   | secondary | no |  358 | no  | no  | cellular  | 16 | nov |  330 | 1 |  -1 |  0 | unknown | yes | alto  | 0 |\n| 36 | management    | single   | secondary | no | 1511 | yes | no  | cellular  | 16 | nov |  270 | 1 |  -1 |  0 | unknown | yes | medio | 0 |\n| 37 | management    | married  | tertiary  | no | 1428 | no  | no  | cellular  | 16 | nov |  333 | 2 |  -1 |  0 | unknown | no  | medio | 0 |\n| 34 | blue-collar   | single   | secondary | no | 1475 | yes | no  | cellular  | 16 | nov | 1166 | 3 | 530 | 12 | other   | no  | baixo | 0 |\n| 38 | technician    | married  | secondary | no |  557 | yes | no  | cellular  | 16 | nov | 1556 | 4 |  -1 |  0 | unknown | yes | alto  | 0 |\n| 53 | management    | married  | tertiary  | no |  583 | no  | no  | cellular  | 17 | nov |  226 | 1 | 184 |  4 | success | yes | medio | 0 |\n| 34 | admin.        | single   | secondary | no |  557 | no  | no  | cellular  | 17 | nov |  224 | 1 |  -1 |  0 | unknown | yes | NA    | 0 |\n| 23 | student       | single   | tertiary  | no |  113 | no  | no  | cellular  | 17 | nov |  266 | 1 |  -1 |  0 | unknown | yes | alto  | 0 |\n| 73 | retired       | married  | secondary | no | 2850 | no  | no  | cellular  | 17 | nov |  300 | 1 |  40 |  8 | failure | yes | baixo | 0 |\n| 25 | technician    | single   | secondary | no |  505 | no  | yes | cellular  | 17 | nov |  386 | 2 |  -1 |  0 | unknown | yes | alto  | 0 |\n| 51 | technician    | married  | tertiary  | no |  825 | no  | no  | cellular  | 17 | nov |  977 | 3 |  -1 |  0 | unknown | yes | alto  | 0 |\n| 71 | retired       | divorced | primary   | no | 1729 | no  | no  | cellular  | 17 | nov |  456 | 2 |  -1 |  0 | unknown | yes | baixo | 0 |\n| 72 | retired       | married  | secondary | no | 5715 | no  | no  | cellular  | 17 | nov | 1127 | 5 | 184 |  3 | success | yes | baixo | 0 |\n| 57 | blue-collar   | married  | secondary | no |  668 | no  | no  | telephone | 17 | nov |  508 | 4 |  -1 |  0 | unknown | no  | baixo | 0 |\n| 37 | entrepreneur  | married  | secondary | no | 2971 | no  | no  | cellular  | 17 | nov |  361 | 2 | 188 | 11 | other   | no  | alto  | 0 |\n\n",
            "text/latex": "A data.frame: 45211 × 19\n\\begin{tabular}{lllllllllllllllllll}\n age & job & marital & education & default & balance & housing & loan & contact & day & month & duration & campaign & pdays & previous & poutcome & y & tecchnology\\_use & defaulted\\\\\n <int> & <chr> & <chr> & <chr> & <chr> & <int> & <chr> & <chr> & <chr> & <int> & <chr> & <int> & <int> & <int> & <int> & <chr> & <chr> & <chr> & <dbl>\\\\\n\\hline\n\t 58 & management   & married  & tertiary  & no  & 2143 & yes & no  & unknown & 5 & may & 261 & 1 & -1 & 0 & unknown & no & medio & 0\\\\\n\t 44 & technician   & single   & secondary & no  &   29 & yes & no  & unknown & 5 & may & 151 & 1 & -1 & 0 & unknown & no & alto  & 0\\\\\n\t 33 & entrepreneur & married  & secondary & no  &    2 & yes & yes & unknown & 5 & may &  76 & 1 & -1 & 0 & unknown & no & alto  & 0\\\\\n\t 47 & blue-collar  & married  & unknown   & no  & 1506 & yes & no  & unknown & 5 & may &  92 & 1 & -1 & 0 & unknown & no & baixo & 0\\\\\n\t 33 & unknown      & single   & unknown   & no  &    1 & no  & no  & unknown & 5 & may & 198 & 1 & -1 & 0 & unknown & no & baixo & 0\\\\\n\t 35 & management   & married  & tertiary  & no  &  231 & yes & no  & unknown & 5 & may & 139 & 1 & -1 & 0 & unknown & no & medio & 0\\\\\n\t 28 & management   & single   & tertiary  & no  &  447 & yes & yes & unknown & 5 & may & 217 & 1 & -1 & 0 & unknown & no & medio & 0\\\\\n\t 42 & entrepreneur & divorced & tertiary  & yes &    2 & yes & no  & unknown & 5 & may & 380 & 1 & -1 & 0 & unknown & no & alto  & 1\\\\\n\t 58 & retired      & married  & primary   & no  &  121 & yes & no  & unknown & 5 & may &  50 & 1 & -1 & 0 & unknown & no & baixo & 0\\\\\n\t 43 & technician   & single   & secondary & no  &  593 & yes & no  & unknown & 5 & may &  55 & 1 & -1 & 0 & unknown & no & alto  & 0\\\\\n\t 41 & admin.       & divorced & secondary & no  &  270 & yes & no  & unknown & 5 & may & 222 & 1 & -1 & 0 & unknown & no & NA    & 0\\\\\n\t 29 & admin.       & single   & secondary & no  &  390 & yes & no  & unknown & 5 & may & 137 & 1 & -1 & 0 & unknown & no & NA    & 0\\\\\n\t 53 & technician   & married  & secondary & no  &    6 & yes & no  & unknown & 5 & may & 517 & 1 & -1 & 0 & unknown & no & alto  & 0\\\\\n\t 58 & technician   & married  & unknown   & no  &   71 & yes & no  & unknown & 5 & may &  71 & 1 & -1 & 0 & unknown & no & alto  & 0\\\\\n\t 57 & services     & married  & secondary & no  &  162 & yes & no  & unknown & 5 & may & 174 & 1 & -1 & 0 & unknown & no & medio & 0\\\\\n\t 51 & retired      & married  & primary   & no  &  229 & yes & no  & unknown & 5 & may & 353 & 1 & -1 & 0 & unknown & no & baixo & 0\\\\\n\t 45 & admin.       & single   & unknown   & no  &   13 & yes & no  & unknown & 5 & may &  98 & 1 & -1 & 0 & unknown & no & NA    & 0\\\\\n\t 57 & blue-collar  & married  & primary   & no  &   52 & yes & no  & unknown & 5 & may &  38 & 1 & -1 & 0 & unknown & no & baixo & 0\\\\\n\t 60 & retired      & married  & primary   & no  &   60 & yes & no  & unknown & 5 & may & 219 & 1 & -1 & 0 & unknown & no & baixo & 0\\\\\n\t 33 & services     & married  & secondary & no  &    0 & yes & no  & unknown & 5 & may &  54 & 1 & -1 & 0 & unknown & no & medio & 0\\\\\n\t 28 & blue-collar  & married  & secondary & no  &  723 & yes & yes & unknown & 5 & may & 262 & 1 & -1 & 0 & unknown & no & baixo & 0\\\\\n\t 56 & management   & married  & tertiary  & no  &  779 & yes & no  & unknown & 5 & may & 164 & 1 & -1 & 0 & unknown & no & medio & 0\\\\\n\t 32 & blue-collar  & single   & primary   & no  &   23 & yes & yes & unknown & 5 & may & 160 & 1 & -1 & 0 & unknown & no & baixo & 0\\\\\n\t 25 & services     & married  & secondary & no  &   50 & yes & no  & unknown & 5 & may & 342 & 1 & -1 & 0 & unknown & no & medio & 0\\\\\n\t 40 & retired      & married  & primary   & no  &    0 & yes & yes & unknown & 5 & may & 181 & 1 & -1 & 0 & unknown & no & baixo & 0\\\\\n\t 44 & admin.       & married  & secondary & no  & -372 & yes & no  & unknown & 5 & may & 172 & 1 & -1 & 0 & unknown & no & NA    & 0\\\\\n\t 39 & management   & single   & tertiary  & no  &  255 & yes & no  & unknown & 5 & may & 296 & 1 & -1 & 0 & unknown & no & medio & 0\\\\\n\t 52 & entrepreneur & married  & secondary & no  &  113 & yes & yes & unknown & 5 & may & 127 & 1 & -1 & 0 & unknown & no & alto  & 0\\\\\n\t 46 & management   & single   & secondary & no  & -246 & yes & no  & unknown & 5 & may & 255 & 2 & -1 & 0 & unknown & no & medio & 0\\\\\n\t 36 & technician   & single   & secondary & no  &  265 & yes & yes & unknown & 5 & may & 348 & 1 & -1 & 0 & unknown & no & alto  & 0\\\\\n\t ⋮ & ⋮ & ⋮ & ⋮ & ⋮ & ⋮ & ⋮ & ⋮ & ⋮ & ⋮ & ⋮ & ⋮ & ⋮ & ⋮ & ⋮ & ⋮ & ⋮ & ⋮ & ⋮\\\\\n\t 46 & blue-collar   & married  & secondary & no & 6879 & no  & no  & cellular  & 15 & nov &   74 & 2 & 118 &  3 & failure & no  & baixo & 0\\\\\n\t 34 & technician    & married  & secondary & no &  133 & no  & no  & cellular  & 15 & nov &  401 & 2 & 187 &  5 & success & yes & alto  & 0\\\\\n\t 70 & retired       & married  & primary   & no &  324 & no  & no  & cellular  & 15 & nov &   78 & 1 &  96 &  7 & success & no  & baixo & 0\\\\\n\t 63 & retired       & married  & secondary & no & 1495 & no  & no  & cellular  & 16 & nov &  138 & 1 &  22 &  5 & success & no  & baixo & 0\\\\\n\t 60 & services      & married  & tertiary  & no & 4256 & yes & no  & cellular  & 16 & nov &  200 & 1 &  92 &  4 & success & yes & medio & 0\\\\\n\t 59 & unknown       & married  & unknown   & no & 1500 & no  & no  & cellular  & 16 & nov &  280 & 1 & 104 &  2 & failure & no  & baixo & 0\\\\\n\t 32 & services      & single   & secondary & no & 1168 & yes & no  & cellular  & 16 & nov &  411 & 1 &  -1 &  0 & unknown & yes & medio & 0\\\\\n\t 29 & management    & single   & secondary & no &  703 & yes & no  & cellular  & 16 & nov &  236 & 1 & 550 &  2 & success & yes & medio & 0\\\\\n\t 25 & services      & single   & secondary & no &  199 & no  & no  & cellular  & 16 & nov &  173 & 1 &  92 &  5 & failure & no  & medio & 0\\\\\n\t 32 & blue-collar   & married  & secondary & no &  136 & no  & no  & cellular  & 16 & nov &  206 & 1 & 188 &  3 & success & yes & baixo & 0\\\\\n\t 75 & retired       & divorced & tertiary  & no & 3810 & yes & no  & cellular  & 16 & nov &  262 & 1 & 183 &  1 & failure & yes & baixo & 0\\\\\n\t 29 & management    & single   & tertiary  & no &  765 & no  & no  & cellular  & 16 & nov &  238 & 1 &  -1 &  0 & unknown & yes & medio & 0\\\\\n\t 28 & self-employed & single   & tertiary  & no &  159 & no  & no  & cellular  & 16 & nov &  449 & 2 &  33 &  4 & success & yes & baixo & 0\\\\\n\t 59 & management    & married  & tertiary  & no &  138 & yes & yes & cellular  & 16 & nov &  162 & 2 & 187 &  5 & failure & no  & medio & 0\\\\\n\t 68 & retired       & married  & secondary & no & 1146 & no  & no  & cellular  & 16 & nov &  212 & 1 & 187 &  6 & success & yes & baixo & 0\\\\\n\t 25 & student       & single   & secondary & no &  358 & no  & no  & cellular  & 16 & nov &  330 & 1 &  -1 &  0 & unknown & yes & alto  & 0\\\\\n\t 36 & management    & single   & secondary & no & 1511 & yes & no  & cellular  & 16 & nov &  270 & 1 &  -1 &  0 & unknown & yes & medio & 0\\\\\n\t 37 & management    & married  & tertiary  & no & 1428 & no  & no  & cellular  & 16 & nov &  333 & 2 &  -1 &  0 & unknown & no  & medio & 0\\\\\n\t 34 & blue-collar   & single   & secondary & no & 1475 & yes & no  & cellular  & 16 & nov & 1166 & 3 & 530 & 12 & other   & no  & baixo & 0\\\\\n\t 38 & technician    & married  & secondary & no &  557 & yes & no  & cellular  & 16 & nov & 1556 & 4 &  -1 &  0 & unknown & yes & alto  & 0\\\\\n\t 53 & management    & married  & tertiary  & no &  583 & no  & no  & cellular  & 17 & nov &  226 & 1 & 184 &  4 & success & yes & medio & 0\\\\\n\t 34 & admin.        & single   & secondary & no &  557 & no  & no  & cellular  & 17 & nov &  224 & 1 &  -1 &  0 & unknown & yes & NA    & 0\\\\\n\t 23 & student       & single   & tertiary  & no &  113 & no  & no  & cellular  & 17 & nov &  266 & 1 &  -1 &  0 & unknown & yes & alto  & 0\\\\\n\t 73 & retired       & married  & secondary & no & 2850 & no  & no  & cellular  & 17 & nov &  300 & 1 &  40 &  8 & failure & yes & baixo & 0\\\\\n\t 25 & technician    & single   & secondary & no &  505 & no  & yes & cellular  & 17 & nov &  386 & 2 &  -1 &  0 & unknown & yes & alto  & 0\\\\\n\t 51 & technician    & married  & tertiary  & no &  825 & no  & no  & cellular  & 17 & nov &  977 & 3 &  -1 &  0 & unknown & yes & alto  & 0\\\\\n\t 71 & retired       & divorced & primary   & no & 1729 & no  & no  & cellular  & 17 & nov &  456 & 2 &  -1 &  0 & unknown & yes & baixo & 0\\\\\n\t 72 & retired       & married  & secondary & no & 5715 & no  & no  & cellular  & 17 & nov & 1127 & 5 & 184 &  3 & success & yes & baixo & 0\\\\\n\t 57 & blue-collar   & married  & secondary & no &  668 & no  & no  & telephone & 17 & nov &  508 & 4 &  -1 &  0 & unknown & no  & baixo & 0\\\\\n\t 37 & entrepreneur  & married  & secondary & no & 2971 & no  & no  & cellular  & 17 & nov &  361 & 2 & 188 & 11 & other   & no  & alto  & 0\\\\\n\\end{tabular}\n",
            "text/html": [
              "<table class=\"dataframe\">\n",
              "<caption>A data.frame: 45211 × 19</caption>\n",
              "<thead>\n",
              "\t<tr><th scope=col>age</th><th scope=col>job</th><th scope=col>marital</th><th scope=col>education</th><th scope=col>default</th><th scope=col>balance</th><th scope=col>housing</th><th scope=col>loan</th><th scope=col>contact</th><th scope=col>day</th><th scope=col>month</th><th scope=col>duration</th><th scope=col>campaign</th><th scope=col>pdays</th><th scope=col>previous</th><th scope=col>poutcome</th><th scope=col>y</th><th scope=col>tecchnology_use</th><th scope=col>defaulted</th></tr>\n",
              "\t<tr><th scope=col>&lt;int&gt;</th><th scope=col>&lt;chr&gt;</th><th scope=col>&lt;chr&gt;</th><th scope=col>&lt;chr&gt;</th><th scope=col>&lt;chr&gt;</th><th scope=col>&lt;int&gt;</th><th scope=col>&lt;chr&gt;</th><th scope=col>&lt;chr&gt;</th><th scope=col>&lt;chr&gt;</th><th scope=col>&lt;int&gt;</th><th scope=col>&lt;chr&gt;</th><th scope=col>&lt;int&gt;</th><th scope=col>&lt;int&gt;</th><th scope=col>&lt;int&gt;</th><th scope=col>&lt;int&gt;</th><th scope=col>&lt;chr&gt;</th><th scope=col>&lt;chr&gt;</th><th scope=col>&lt;chr&gt;</th><th scope=col>&lt;dbl&gt;</th></tr>\n",
              "</thead>\n",
              "<tbody>\n",
              "\t<tr><td>58</td><td>management  </td><td>married </td><td>tertiary </td><td>no </td><td>2143</td><td>yes</td><td>no </td><td>unknown</td><td>5</td><td>may</td><td>261</td><td>1</td><td>-1</td><td>0</td><td>unknown</td><td>no</td><td>medio</td><td>0</td></tr>\n",
              "\t<tr><td>44</td><td>technician  </td><td>single  </td><td>secondary</td><td>no </td><td>  29</td><td>yes</td><td>no </td><td>unknown</td><td>5</td><td>may</td><td>151</td><td>1</td><td>-1</td><td>0</td><td>unknown</td><td>no</td><td>alto </td><td>0</td></tr>\n",
              "\t<tr><td>33</td><td>entrepreneur</td><td>married </td><td>secondary</td><td>no </td><td>   2</td><td>yes</td><td>yes</td><td>unknown</td><td>5</td><td>may</td><td> 76</td><td>1</td><td>-1</td><td>0</td><td>unknown</td><td>no</td><td>alto </td><td>0</td></tr>\n",
              "\t<tr><td>47</td><td>blue-collar </td><td>married </td><td>unknown  </td><td>no </td><td>1506</td><td>yes</td><td>no </td><td>unknown</td><td>5</td><td>may</td><td> 92</td><td>1</td><td>-1</td><td>0</td><td>unknown</td><td>no</td><td>baixo</td><td>0</td></tr>\n",
              "\t<tr><td>33</td><td>unknown     </td><td>single  </td><td>unknown  </td><td>no </td><td>   1</td><td>no </td><td>no </td><td>unknown</td><td>5</td><td>may</td><td>198</td><td>1</td><td>-1</td><td>0</td><td>unknown</td><td>no</td><td>baixo</td><td>0</td></tr>\n",
              "\t<tr><td>35</td><td>management  </td><td>married </td><td>tertiary </td><td>no </td><td> 231</td><td>yes</td><td>no </td><td>unknown</td><td>5</td><td>may</td><td>139</td><td>1</td><td>-1</td><td>0</td><td>unknown</td><td>no</td><td>medio</td><td>0</td></tr>\n",
              "\t<tr><td>28</td><td>management  </td><td>single  </td><td>tertiary </td><td>no </td><td> 447</td><td>yes</td><td>yes</td><td>unknown</td><td>5</td><td>may</td><td>217</td><td>1</td><td>-1</td><td>0</td><td>unknown</td><td>no</td><td>medio</td><td>0</td></tr>\n",
              "\t<tr><td>42</td><td>entrepreneur</td><td>divorced</td><td>tertiary </td><td>yes</td><td>   2</td><td>yes</td><td>no </td><td>unknown</td><td>5</td><td>may</td><td>380</td><td>1</td><td>-1</td><td>0</td><td>unknown</td><td>no</td><td>alto </td><td>1</td></tr>\n",
              "\t<tr><td>58</td><td>retired     </td><td>married </td><td>primary  </td><td>no </td><td> 121</td><td>yes</td><td>no </td><td>unknown</td><td>5</td><td>may</td><td> 50</td><td>1</td><td>-1</td><td>0</td><td>unknown</td><td>no</td><td>baixo</td><td>0</td></tr>\n",
              "\t<tr><td>43</td><td>technician  </td><td>single  </td><td>secondary</td><td>no </td><td> 593</td><td>yes</td><td>no </td><td>unknown</td><td>5</td><td>may</td><td> 55</td><td>1</td><td>-1</td><td>0</td><td>unknown</td><td>no</td><td>alto </td><td>0</td></tr>\n",
              "\t<tr><td>41</td><td>admin.      </td><td>divorced</td><td>secondary</td><td>no </td><td> 270</td><td>yes</td><td>no </td><td>unknown</td><td>5</td><td>may</td><td>222</td><td>1</td><td>-1</td><td>0</td><td>unknown</td><td>no</td><td>NA   </td><td>0</td></tr>\n",
              "\t<tr><td>29</td><td>admin.      </td><td>single  </td><td>secondary</td><td>no </td><td> 390</td><td>yes</td><td>no </td><td>unknown</td><td>5</td><td>may</td><td>137</td><td>1</td><td>-1</td><td>0</td><td>unknown</td><td>no</td><td>NA   </td><td>0</td></tr>\n",
              "\t<tr><td>53</td><td>technician  </td><td>married </td><td>secondary</td><td>no </td><td>   6</td><td>yes</td><td>no </td><td>unknown</td><td>5</td><td>may</td><td>517</td><td>1</td><td>-1</td><td>0</td><td>unknown</td><td>no</td><td>alto </td><td>0</td></tr>\n",
              "\t<tr><td>58</td><td>technician  </td><td>married </td><td>unknown  </td><td>no </td><td>  71</td><td>yes</td><td>no </td><td>unknown</td><td>5</td><td>may</td><td> 71</td><td>1</td><td>-1</td><td>0</td><td>unknown</td><td>no</td><td>alto </td><td>0</td></tr>\n",
              "\t<tr><td>57</td><td>services    </td><td>married </td><td>secondary</td><td>no </td><td> 162</td><td>yes</td><td>no </td><td>unknown</td><td>5</td><td>may</td><td>174</td><td>1</td><td>-1</td><td>0</td><td>unknown</td><td>no</td><td>medio</td><td>0</td></tr>\n",
              "\t<tr><td>51</td><td>retired     </td><td>married </td><td>primary  </td><td>no </td><td> 229</td><td>yes</td><td>no </td><td>unknown</td><td>5</td><td>may</td><td>353</td><td>1</td><td>-1</td><td>0</td><td>unknown</td><td>no</td><td>baixo</td><td>0</td></tr>\n",
              "\t<tr><td>45</td><td>admin.      </td><td>single  </td><td>unknown  </td><td>no </td><td>  13</td><td>yes</td><td>no </td><td>unknown</td><td>5</td><td>may</td><td> 98</td><td>1</td><td>-1</td><td>0</td><td>unknown</td><td>no</td><td>NA   </td><td>0</td></tr>\n",
              "\t<tr><td>57</td><td>blue-collar </td><td>married </td><td>primary  </td><td>no </td><td>  52</td><td>yes</td><td>no </td><td>unknown</td><td>5</td><td>may</td><td> 38</td><td>1</td><td>-1</td><td>0</td><td>unknown</td><td>no</td><td>baixo</td><td>0</td></tr>\n",
              "\t<tr><td>60</td><td>retired     </td><td>married </td><td>primary  </td><td>no </td><td>  60</td><td>yes</td><td>no </td><td>unknown</td><td>5</td><td>may</td><td>219</td><td>1</td><td>-1</td><td>0</td><td>unknown</td><td>no</td><td>baixo</td><td>0</td></tr>\n",
              "\t<tr><td>33</td><td>services    </td><td>married </td><td>secondary</td><td>no </td><td>   0</td><td>yes</td><td>no </td><td>unknown</td><td>5</td><td>may</td><td> 54</td><td>1</td><td>-1</td><td>0</td><td>unknown</td><td>no</td><td>medio</td><td>0</td></tr>\n",
              "\t<tr><td>28</td><td>blue-collar </td><td>married </td><td>secondary</td><td>no </td><td> 723</td><td>yes</td><td>yes</td><td>unknown</td><td>5</td><td>may</td><td>262</td><td>1</td><td>-1</td><td>0</td><td>unknown</td><td>no</td><td>baixo</td><td>0</td></tr>\n",
              "\t<tr><td>56</td><td>management  </td><td>married </td><td>tertiary </td><td>no </td><td> 779</td><td>yes</td><td>no </td><td>unknown</td><td>5</td><td>may</td><td>164</td><td>1</td><td>-1</td><td>0</td><td>unknown</td><td>no</td><td>medio</td><td>0</td></tr>\n",
              "\t<tr><td>32</td><td>blue-collar </td><td>single  </td><td>primary  </td><td>no </td><td>  23</td><td>yes</td><td>yes</td><td>unknown</td><td>5</td><td>may</td><td>160</td><td>1</td><td>-1</td><td>0</td><td>unknown</td><td>no</td><td>baixo</td><td>0</td></tr>\n",
              "\t<tr><td>25</td><td>services    </td><td>married </td><td>secondary</td><td>no </td><td>  50</td><td>yes</td><td>no </td><td>unknown</td><td>5</td><td>may</td><td>342</td><td>1</td><td>-1</td><td>0</td><td>unknown</td><td>no</td><td>medio</td><td>0</td></tr>\n",
              "\t<tr><td>40</td><td>retired     </td><td>married </td><td>primary  </td><td>no </td><td>   0</td><td>yes</td><td>yes</td><td>unknown</td><td>5</td><td>may</td><td>181</td><td>1</td><td>-1</td><td>0</td><td>unknown</td><td>no</td><td>baixo</td><td>0</td></tr>\n",
              "\t<tr><td>44</td><td>admin.      </td><td>married </td><td>secondary</td><td>no </td><td>-372</td><td>yes</td><td>no </td><td>unknown</td><td>5</td><td>may</td><td>172</td><td>1</td><td>-1</td><td>0</td><td>unknown</td><td>no</td><td>NA   </td><td>0</td></tr>\n",
              "\t<tr><td>39</td><td>management  </td><td>single  </td><td>tertiary </td><td>no </td><td> 255</td><td>yes</td><td>no </td><td>unknown</td><td>5</td><td>may</td><td>296</td><td>1</td><td>-1</td><td>0</td><td>unknown</td><td>no</td><td>medio</td><td>0</td></tr>\n",
              "\t<tr><td>52</td><td>entrepreneur</td><td>married </td><td>secondary</td><td>no </td><td> 113</td><td>yes</td><td>yes</td><td>unknown</td><td>5</td><td>may</td><td>127</td><td>1</td><td>-1</td><td>0</td><td>unknown</td><td>no</td><td>alto </td><td>0</td></tr>\n",
              "\t<tr><td>46</td><td>management  </td><td>single  </td><td>secondary</td><td>no </td><td>-246</td><td>yes</td><td>no </td><td>unknown</td><td>5</td><td>may</td><td>255</td><td>2</td><td>-1</td><td>0</td><td>unknown</td><td>no</td><td>medio</td><td>0</td></tr>\n",
              "\t<tr><td>36</td><td>technician  </td><td>single  </td><td>secondary</td><td>no </td><td> 265</td><td>yes</td><td>yes</td><td>unknown</td><td>5</td><td>may</td><td>348</td><td>1</td><td>-1</td><td>0</td><td>unknown</td><td>no</td><td>alto </td><td>0</td></tr>\n",
              "\t<tr><td>⋮</td><td>⋮</td><td>⋮</td><td>⋮</td><td>⋮</td><td>⋮</td><td>⋮</td><td>⋮</td><td>⋮</td><td>⋮</td><td>⋮</td><td>⋮</td><td>⋮</td><td>⋮</td><td>⋮</td><td>⋮</td><td>⋮</td><td>⋮</td><td>⋮</td></tr>\n",
              "\t<tr><td>46</td><td>blue-collar  </td><td>married </td><td>secondary</td><td>no</td><td>6879</td><td>no </td><td>no </td><td>cellular </td><td>15</td><td>nov</td><td>  74</td><td>2</td><td>118</td><td> 3</td><td>failure</td><td>no </td><td>baixo</td><td>0</td></tr>\n",
              "\t<tr><td>34</td><td>technician   </td><td>married </td><td>secondary</td><td>no</td><td> 133</td><td>no </td><td>no </td><td>cellular </td><td>15</td><td>nov</td><td> 401</td><td>2</td><td>187</td><td> 5</td><td>success</td><td>yes</td><td>alto </td><td>0</td></tr>\n",
              "\t<tr><td>70</td><td>retired      </td><td>married </td><td>primary  </td><td>no</td><td> 324</td><td>no </td><td>no </td><td>cellular </td><td>15</td><td>nov</td><td>  78</td><td>1</td><td> 96</td><td> 7</td><td>success</td><td>no </td><td>baixo</td><td>0</td></tr>\n",
              "\t<tr><td>63</td><td>retired      </td><td>married </td><td>secondary</td><td>no</td><td>1495</td><td>no </td><td>no </td><td>cellular </td><td>16</td><td>nov</td><td> 138</td><td>1</td><td> 22</td><td> 5</td><td>success</td><td>no </td><td>baixo</td><td>0</td></tr>\n",
              "\t<tr><td>60</td><td>services     </td><td>married </td><td>tertiary </td><td>no</td><td>4256</td><td>yes</td><td>no </td><td>cellular </td><td>16</td><td>nov</td><td> 200</td><td>1</td><td> 92</td><td> 4</td><td>success</td><td>yes</td><td>medio</td><td>0</td></tr>\n",
              "\t<tr><td>59</td><td>unknown      </td><td>married </td><td>unknown  </td><td>no</td><td>1500</td><td>no </td><td>no </td><td>cellular </td><td>16</td><td>nov</td><td> 280</td><td>1</td><td>104</td><td> 2</td><td>failure</td><td>no </td><td>baixo</td><td>0</td></tr>\n",
              "\t<tr><td>32</td><td>services     </td><td>single  </td><td>secondary</td><td>no</td><td>1168</td><td>yes</td><td>no </td><td>cellular </td><td>16</td><td>nov</td><td> 411</td><td>1</td><td> -1</td><td> 0</td><td>unknown</td><td>yes</td><td>medio</td><td>0</td></tr>\n",
              "\t<tr><td>29</td><td>management   </td><td>single  </td><td>secondary</td><td>no</td><td> 703</td><td>yes</td><td>no </td><td>cellular </td><td>16</td><td>nov</td><td> 236</td><td>1</td><td>550</td><td> 2</td><td>success</td><td>yes</td><td>medio</td><td>0</td></tr>\n",
              "\t<tr><td>25</td><td>services     </td><td>single  </td><td>secondary</td><td>no</td><td> 199</td><td>no </td><td>no </td><td>cellular </td><td>16</td><td>nov</td><td> 173</td><td>1</td><td> 92</td><td> 5</td><td>failure</td><td>no </td><td>medio</td><td>0</td></tr>\n",
              "\t<tr><td>32</td><td>blue-collar  </td><td>married </td><td>secondary</td><td>no</td><td> 136</td><td>no </td><td>no </td><td>cellular </td><td>16</td><td>nov</td><td> 206</td><td>1</td><td>188</td><td> 3</td><td>success</td><td>yes</td><td>baixo</td><td>0</td></tr>\n",
              "\t<tr><td>75</td><td>retired      </td><td>divorced</td><td>tertiary </td><td>no</td><td>3810</td><td>yes</td><td>no </td><td>cellular </td><td>16</td><td>nov</td><td> 262</td><td>1</td><td>183</td><td> 1</td><td>failure</td><td>yes</td><td>baixo</td><td>0</td></tr>\n",
              "\t<tr><td>29</td><td>management   </td><td>single  </td><td>tertiary </td><td>no</td><td> 765</td><td>no </td><td>no </td><td>cellular </td><td>16</td><td>nov</td><td> 238</td><td>1</td><td> -1</td><td> 0</td><td>unknown</td><td>yes</td><td>medio</td><td>0</td></tr>\n",
              "\t<tr><td>28</td><td>self-employed</td><td>single  </td><td>tertiary </td><td>no</td><td> 159</td><td>no </td><td>no </td><td>cellular </td><td>16</td><td>nov</td><td> 449</td><td>2</td><td> 33</td><td> 4</td><td>success</td><td>yes</td><td>baixo</td><td>0</td></tr>\n",
              "\t<tr><td>59</td><td>management   </td><td>married </td><td>tertiary </td><td>no</td><td> 138</td><td>yes</td><td>yes</td><td>cellular </td><td>16</td><td>nov</td><td> 162</td><td>2</td><td>187</td><td> 5</td><td>failure</td><td>no </td><td>medio</td><td>0</td></tr>\n",
              "\t<tr><td>68</td><td>retired      </td><td>married </td><td>secondary</td><td>no</td><td>1146</td><td>no </td><td>no </td><td>cellular </td><td>16</td><td>nov</td><td> 212</td><td>1</td><td>187</td><td> 6</td><td>success</td><td>yes</td><td>baixo</td><td>0</td></tr>\n",
              "\t<tr><td>25</td><td>student      </td><td>single  </td><td>secondary</td><td>no</td><td> 358</td><td>no </td><td>no </td><td>cellular </td><td>16</td><td>nov</td><td> 330</td><td>1</td><td> -1</td><td> 0</td><td>unknown</td><td>yes</td><td>alto </td><td>0</td></tr>\n",
              "\t<tr><td>36</td><td>management   </td><td>single  </td><td>secondary</td><td>no</td><td>1511</td><td>yes</td><td>no </td><td>cellular </td><td>16</td><td>nov</td><td> 270</td><td>1</td><td> -1</td><td> 0</td><td>unknown</td><td>yes</td><td>medio</td><td>0</td></tr>\n",
              "\t<tr><td>37</td><td>management   </td><td>married </td><td>tertiary </td><td>no</td><td>1428</td><td>no </td><td>no </td><td>cellular </td><td>16</td><td>nov</td><td> 333</td><td>2</td><td> -1</td><td> 0</td><td>unknown</td><td>no </td><td>medio</td><td>0</td></tr>\n",
              "\t<tr><td>34</td><td>blue-collar  </td><td>single  </td><td>secondary</td><td>no</td><td>1475</td><td>yes</td><td>no </td><td>cellular </td><td>16</td><td>nov</td><td>1166</td><td>3</td><td>530</td><td>12</td><td>other  </td><td>no </td><td>baixo</td><td>0</td></tr>\n",
              "\t<tr><td>38</td><td>technician   </td><td>married </td><td>secondary</td><td>no</td><td> 557</td><td>yes</td><td>no </td><td>cellular </td><td>16</td><td>nov</td><td>1556</td><td>4</td><td> -1</td><td> 0</td><td>unknown</td><td>yes</td><td>alto </td><td>0</td></tr>\n",
              "\t<tr><td>53</td><td>management   </td><td>married </td><td>tertiary </td><td>no</td><td> 583</td><td>no </td><td>no </td><td>cellular </td><td>17</td><td>nov</td><td> 226</td><td>1</td><td>184</td><td> 4</td><td>success</td><td>yes</td><td>medio</td><td>0</td></tr>\n",
              "\t<tr><td>34</td><td>admin.       </td><td>single  </td><td>secondary</td><td>no</td><td> 557</td><td>no </td><td>no </td><td>cellular </td><td>17</td><td>nov</td><td> 224</td><td>1</td><td> -1</td><td> 0</td><td>unknown</td><td>yes</td><td>NA   </td><td>0</td></tr>\n",
              "\t<tr><td>23</td><td>student      </td><td>single  </td><td>tertiary </td><td>no</td><td> 113</td><td>no </td><td>no </td><td>cellular </td><td>17</td><td>nov</td><td> 266</td><td>1</td><td> -1</td><td> 0</td><td>unknown</td><td>yes</td><td>alto </td><td>0</td></tr>\n",
              "\t<tr><td>73</td><td>retired      </td><td>married </td><td>secondary</td><td>no</td><td>2850</td><td>no </td><td>no </td><td>cellular </td><td>17</td><td>nov</td><td> 300</td><td>1</td><td> 40</td><td> 8</td><td>failure</td><td>yes</td><td>baixo</td><td>0</td></tr>\n",
              "\t<tr><td>25</td><td>technician   </td><td>single  </td><td>secondary</td><td>no</td><td> 505</td><td>no </td><td>yes</td><td>cellular </td><td>17</td><td>nov</td><td> 386</td><td>2</td><td> -1</td><td> 0</td><td>unknown</td><td>yes</td><td>alto </td><td>0</td></tr>\n",
              "\t<tr><td>51</td><td>technician   </td><td>married </td><td>tertiary </td><td>no</td><td> 825</td><td>no </td><td>no </td><td>cellular </td><td>17</td><td>nov</td><td> 977</td><td>3</td><td> -1</td><td> 0</td><td>unknown</td><td>yes</td><td>alto </td><td>0</td></tr>\n",
              "\t<tr><td>71</td><td>retired      </td><td>divorced</td><td>primary  </td><td>no</td><td>1729</td><td>no </td><td>no </td><td>cellular </td><td>17</td><td>nov</td><td> 456</td><td>2</td><td> -1</td><td> 0</td><td>unknown</td><td>yes</td><td>baixo</td><td>0</td></tr>\n",
              "\t<tr><td>72</td><td>retired      </td><td>married </td><td>secondary</td><td>no</td><td>5715</td><td>no </td><td>no </td><td>cellular </td><td>17</td><td>nov</td><td>1127</td><td>5</td><td>184</td><td> 3</td><td>success</td><td>yes</td><td>baixo</td><td>0</td></tr>\n",
              "\t<tr><td>57</td><td>blue-collar  </td><td>married </td><td>secondary</td><td>no</td><td> 668</td><td>no </td><td>no </td><td>telephone</td><td>17</td><td>nov</td><td> 508</td><td>4</td><td> -1</td><td> 0</td><td>unknown</td><td>no </td><td>baixo</td><td>0</td></tr>\n",
              "\t<tr><td>37</td><td>entrepreneur </td><td>married </td><td>secondary</td><td>no</td><td>2971</td><td>no </td><td>no </td><td>cellular </td><td>17</td><td>nov</td><td> 361</td><td>2</td><td>188</td><td>11</td><td>other  </td><td>no </td><td>alto </td><td>0</td></tr>\n",
              "</tbody>\n",
              "</table>\n"
            ],
            "text/plain": [
              "      age job           marital  education default balance housing loan\n",
              "1     58  management    married  tertiary  no      2143    yes     no  \n",
              "2     44  technician    single   secondary no        29    yes     no  \n",
              "3     33  entrepreneur  married  secondary no         2    yes     yes \n",
              "4     47  blue-collar   married  unknown   no      1506    yes     no  \n",
              "5     33  unknown       single   unknown   no         1    no      no  \n",
              "6     35  management    married  tertiary  no       231    yes     no  \n",
              "7     28  management    single   tertiary  no       447    yes     yes \n",
              "8     42  entrepreneur  divorced tertiary  yes        2    yes     no  \n",
              "9     58  retired       married  primary   no       121    yes     no  \n",
              "10    43  technician    single   secondary no       593    yes     no  \n",
              "11    41  admin.        divorced secondary no       270    yes     no  \n",
              "12    29  admin.        single   secondary no       390    yes     no  \n",
              "13    53  technician    married  secondary no         6    yes     no  \n",
              "14    58  technician    married  unknown   no        71    yes     no  \n",
              "15    57  services      married  secondary no       162    yes     no  \n",
              "16    51  retired       married  primary   no       229    yes     no  \n",
              "17    45  admin.        single   unknown   no        13    yes     no  \n",
              "18    57  blue-collar   married  primary   no        52    yes     no  \n",
              "19    60  retired       married  primary   no        60    yes     no  \n",
              "20    33  services      married  secondary no         0    yes     no  \n",
              "21    28  blue-collar   married  secondary no       723    yes     yes \n",
              "22    56  management    married  tertiary  no       779    yes     no  \n",
              "23    32  blue-collar   single   primary   no        23    yes     yes \n",
              "24    25  services      married  secondary no        50    yes     no  \n",
              "25    40  retired       married  primary   no         0    yes     yes \n",
              "26    44  admin.        married  secondary no      -372    yes     no  \n",
              "27    39  management    single   tertiary  no       255    yes     no  \n",
              "28    52  entrepreneur  married  secondary no       113    yes     yes \n",
              "29    46  management    single   secondary no      -246    yes     no  \n",
              "30    36  technician    single   secondary no       265    yes     yes \n",
              "⋮     ⋮   ⋮             ⋮        ⋮         ⋮       ⋮       ⋮       ⋮   \n",
              "45182 46  blue-collar   married  secondary no      6879    no      no  \n",
              "45183 34  technician    married  secondary no       133    no      no  \n",
              "45184 70  retired       married  primary   no       324    no      no  \n",
              "45185 63  retired       married  secondary no      1495    no      no  \n",
              "45186 60  services      married  tertiary  no      4256    yes     no  \n",
              "45187 59  unknown       married  unknown   no      1500    no      no  \n",
              "45188 32  services      single   secondary no      1168    yes     no  \n",
              "45189 29  management    single   secondary no       703    yes     no  \n",
              "45190 25  services      single   secondary no       199    no      no  \n",
              "45191 32  blue-collar   married  secondary no       136    no      no  \n",
              "45192 75  retired       divorced tertiary  no      3810    yes     no  \n",
              "45193 29  management    single   tertiary  no       765    no      no  \n",
              "45194 28  self-employed single   tertiary  no       159    no      no  \n",
              "45195 59  management    married  tertiary  no       138    yes     yes \n",
              "45196 68  retired       married  secondary no      1146    no      no  \n",
              "45197 25  student       single   secondary no       358    no      no  \n",
              "45198 36  management    single   secondary no      1511    yes     no  \n",
              "45199 37  management    married  tertiary  no      1428    no      no  \n",
              "45200 34  blue-collar   single   secondary no      1475    yes     no  \n",
              "45201 38  technician    married  secondary no       557    yes     no  \n",
              "45202 53  management    married  tertiary  no       583    no      no  \n",
              "45203 34  admin.        single   secondary no       557    no      no  \n",
              "45204 23  student       single   tertiary  no       113    no      no  \n",
              "45205 73  retired       married  secondary no      2850    no      no  \n",
              "45206 25  technician    single   secondary no       505    no      yes \n",
              "45207 51  technician    married  tertiary  no       825    no      no  \n",
              "45208 71  retired       divorced primary   no      1729    no      no  \n",
              "45209 72  retired       married  secondary no      5715    no      no  \n",
              "45210 57  blue-collar   married  secondary no       668    no      no  \n",
              "45211 37  entrepreneur  married  secondary no      2971    no      no  \n",
              "      contact   day month duration campaign pdays previous poutcome y  \n",
              "1     unknown   5   may   261      1        -1    0        unknown  no \n",
              "2     unknown   5   may   151      1        -1    0        unknown  no \n",
              "3     unknown   5   may    76      1        -1    0        unknown  no \n",
              "4     unknown   5   may    92      1        -1    0        unknown  no \n",
              "5     unknown   5   may   198      1        -1    0        unknown  no \n",
              "6     unknown   5   may   139      1        -1    0        unknown  no \n",
              "7     unknown   5   may   217      1        -1    0        unknown  no \n",
              "8     unknown   5   may   380      1        -1    0        unknown  no \n",
              "9     unknown   5   may    50      1        -1    0        unknown  no \n",
              "10    unknown   5   may    55      1        -1    0        unknown  no \n",
              "11    unknown   5   may   222      1        -1    0        unknown  no \n",
              "12    unknown   5   may   137      1        -1    0        unknown  no \n",
              "13    unknown   5   may   517      1        -1    0        unknown  no \n",
              "14    unknown   5   may    71      1        -1    0        unknown  no \n",
              "15    unknown   5   may   174      1        -1    0        unknown  no \n",
              "16    unknown   5   may   353      1        -1    0        unknown  no \n",
              "17    unknown   5   may    98      1        -1    0        unknown  no \n",
              "18    unknown   5   may    38      1        -1    0        unknown  no \n",
              "19    unknown   5   may   219      1        -1    0        unknown  no \n",
              "20    unknown   5   may    54      1        -1    0        unknown  no \n",
              "21    unknown   5   may   262      1        -1    0        unknown  no \n",
              "22    unknown   5   may   164      1        -1    0        unknown  no \n",
              "23    unknown   5   may   160      1        -1    0        unknown  no \n",
              "24    unknown   5   may   342      1        -1    0        unknown  no \n",
              "25    unknown   5   may   181      1        -1    0        unknown  no \n",
              "26    unknown   5   may   172      1        -1    0        unknown  no \n",
              "27    unknown   5   may   296      1        -1    0        unknown  no \n",
              "28    unknown   5   may   127      1        -1    0        unknown  no \n",
              "29    unknown   5   may   255      2        -1    0        unknown  no \n",
              "30    unknown   5   may   348      1        -1    0        unknown  no \n",
              "⋮     ⋮         ⋮   ⋮     ⋮        ⋮        ⋮     ⋮        ⋮        ⋮  \n",
              "45182 cellular  15  nov     74     2        118    3       failure  no \n",
              "45183 cellular  15  nov    401     2        187    5       success  yes\n",
              "45184 cellular  15  nov     78     1         96    7       success  no \n",
              "45185 cellular  16  nov    138     1         22    5       success  no \n",
              "45186 cellular  16  nov    200     1         92    4       success  yes\n",
              "45187 cellular  16  nov    280     1        104    2       failure  no \n",
              "45188 cellular  16  nov    411     1         -1    0       unknown  yes\n",
              "45189 cellular  16  nov    236     1        550    2       success  yes\n",
              "45190 cellular  16  nov    173     1         92    5       failure  no \n",
              "45191 cellular  16  nov    206     1        188    3       success  yes\n",
              "45192 cellular  16  nov    262     1        183    1       failure  yes\n",
              "45193 cellular  16  nov    238     1         -1    0       unknown  yes\n",
              "45194 cellular  16  nov    449     2         33    4       success  yes\n",
              "45195 cellular  16  nov    162     2        187    5       failure  no \n",
              "45196 cellular  16  nov    212     1        187    6       success  yes\n",
              "45197 cellular  16  nov    330     1         -1    0       unknown  yes\n",
              "45198 cellular  16  nov    270     1         -1    0       unknown  yes\n",
              "45199 cellular  16  nov    333     2         -1    0       unknown  no \n",
              "45200 cellular  16  nov   1166     3        530   12       other    no \n",
              "45201 cellular  16  nov   1556     4         -1    0       unknown  yes\n",
              "45202 cellular  17  nov    226     1        184    4       success  yes\n",
              "45203 cellular  17  nov    224     1         -1    0       unknown  yes\n",
              "45204 cellular  17  nov    266     1         -1    0       unknown  yes\n",
              "45205 cellular  17  nov    300     1         40    8       failure  yes\n",
              "45206 cellular  17  nov    386     2         -1    0       unknown  yes\n",
              "45207 cellular  17  nov    977     3         -1    0       unknown  yes\n",
              "45208 cellular  17  nov    456     2         -1    0       unknown  yes\n",
              "45209 cellular  17  nov   1127     5        184    3       success  yes\n",
              "45210 telephone 17  nov    508     4         -1    0       unknown  no \n",
              "45211 cellular  17  nov    361     2        188   11       other    no \n",
              "      tecchnology_use defaulted\n",
              "1     medio           0        \n",
              "2     alto            0        \n",
              "3     alto            0        \n",
              "4     baixo           0        \n",
              "5     baixo           0        \n",
              "6     medio           0        \n",
              "7     medio           0        \n",
              "8     alto            1        \n",
              "9     baixo           0        \n",
              "10    alto            0        \n",
              "11    NA              0        \n",
              "12    NA              0        \n",
              "13    alto            0        \n",
              "14    alto            0        \n",
              "15    medio           0        \n",
              "16    baixo           0        \n",
              "17    NA              0        \n",
              "18    baixo           0        \n",
              "19    baixo           0        \n",
              "20    medio           0        \n",
              "21    baixo           0        \n",
              "22    medio           0        \n",
              "23    baixo           0        \n",
              "24    medio           0        \n",
              "25    baixo           0        \n",
              "26    NA              0        \n",
              "27    medio           0        \n",
              "28    alto            0        \n",
              "29    medio           0        \n",
              "30    alto            0        \n",
              "⋮     ⋮               ⋮        \n",
              "45182 baixo           0        \n",
              "45183 alto            0        \n",
              "45184 baixo           0        \n",
              "45185 baixo           0        \n",
              "45186 medio           0        \n",
              "45187 baixo           0        \n",
              "45188 medio           0        \n",
              "45189 medio           0        \n",
              "45190 medio           0        \n",
              "45191 baixo           0        \n",
              "45192 baixo           0        \n",
              "45193 medio           0        \n",
              "45194 baixo           0        \n",
              "45195 medio           0        \n",
              "45196 baixo           0        \n",
              "45197 alto            0        \n",
              "45198 medio           0        \n",
              "45199 medio           0        \n",
              "45200 baixo           0        \n",
              "45201 alto            0        \n",
              "45202 medio           0        \n",
              "45203 NA              0        \n",
              "45204 alto            0        \n",
              "45205 baixo           0        \n",
              "45206 alto            0        \n",
              "45207 alto            0        \n",
              "45208 baixo           0        \n",
              "45209 baixo           0        \n",
              "45210 baixo           0        \n",
              "45211 alto            0        "
            ]
          },
          "metadata": {
            "tags": []
          }
        }
      ]
    },
    {
      "cell_type": "code",
      "metadata": {
        "colab": {
          "base_uri": "https://localhost:8080/"
        },
        "id": "FAp5lI4dHhAK",
        "outputId": "dc545946-dfb6-4135-d2d0-bdc838a378b8"
      },
      "source": [
        "str(bank.dummies)"
      ],
      "execution_count": 35,
      "outputs": [
        {
          "output_type": "stream",
          "text": [
            "'data.frame':\t45211 obs. of  57 variables:\n",
            " $ age                 : num  58 44 33 47 33 35 28 42 58 43 ...\n",
            " $ jobadmin.           : num  0 0 0 0 0 0 0 0 0 0 ...\n",
            " $ jobblue.collar      : num  0 0 0 1 0 0 0 0 0 0 ...\n",
            " $ jobentrepreneur     : num  0 0 1 0 0 0 0 1 0 0 ...\n",
            " $ jobhousemaid        : num  0 0 0 0 0 0 0 0 0 0 ...\n",
            " $ jobmanagement       : num  1 0 0 0 0 1 1 0 0 0 ...\n",
            " $ jobretired          : num  0 0 0 0 0 0 0 0 1 0 ...\n",
            " $ jobself.employed    : num  0 0 0 0 0 0 0 0 0 0 ...\n",
            " $ jobservices         : num  0 0 0 0 0 0 0 0 0 0 ...\n",
            " $ jobstudent          : num  0 0 0 0 0 0 0 0 0 0 ...\n",
            " $ jobtechnician       : num  0 1 0 0 0 0 0 0 0 1 ...\n",
            " $ jobunemployed       : num  0 0 0 0 0 0 0 0 0 0 ...\n",
            " $ jobunknown          : num  0 0 0 0 1 0 0 0 0 0 ...\n",
            " $ maritaldivorced     : num  0 0 0 0 0 0 0 1 0 0 ...\n",
            " $ maritalmarried      : num  1 0 1 1 0 1 0 0 1 0 ...\n",
            " $ maritalsingle       : num  0 1 0 0 1 0 1 0 0 1 ...\n",
            " $ educationprimary    : num  0 0 0 0 0 0 0 0 1 0 ...\n",
            " $ educationsecondary  : num  0 1 1 0 0 0 0 0 0 1 ...\n",
            " $ educationtertiary   : num  1 0 0 0 0 1 1 1 0 0 ...\n",
            " $ educationunknown    : num  0 0 0 1 1 0 0 0 0 0 ...\n",
            " $ defaultno           : num  1 1 1 1 1 1 1 0 1 1 ...\n",
            " $ defaultyes          : num  0 0 0 0 0 0 0 1 0 0 ...\n",
            " $ balance             : num  2143 29 2 1506 1 ...\n",
            " $ housingno           : num  0 0 0 0 1 0 0 0 0 0 ...\n",
            " $ housingyes          : num  1 1 1 1 0 1 1 1 1 1 ...\n",
            " $ loanno              : num  1 1 0 1 1 1 0 1 1 1 ...\n",
            " $ loanyes             : num  0 0 1 0 0 0 1 0 0 0 ...\n",
            " $ contactcellular     : num  0 0 0 0 0 0 0 0 0 0 ...\n",
            " $ contacttelephone    : num  0 0 0 0 0 0 0 0 0 0 ...\n",
            " $ contactunknown      : num  1 1 1 1 1 1 1 1 1 1 ...\n",
            " $ day                 : num  5 5 5 5 5 5 5 5 5 5 ...\n",
            " $ monthapr            : num  0 0 0 0 0 0 0 0 0 0 ...\n",
            " $ monthaug            : num  0 0 0 0 0 0 0 0 0 0 ...\n",
            " $ monthdec            : num  0 0 0 0 0 0 0 0 0 0 ...\n",
            " $ monthfeb            : num  0 0 0 0 0 0 0 0 0 0 ...\n",
            " $ monthjan            : num  0 0 0 0 0 0 0 0 0 0 ...\n",
            " $ monthjul            : num  0 0 0 0 0 0 0 0 0 0 ...\n",
            " $ monthjun            : num  0 0 0 0 0 0 0 0 0 0 ...\n",
            " $ monthmar            : num  0 0 0 0 0 0 0 0 0 0 ...\n",
            " $ monthmay            : num  1 1 1 1 1 1 1 1 1 1 ...\n",
            " $ monthnov            : num  0 0 0 0 0 0 0 0 0 0 ...\n",
            " $ monthoct            : num  0 0 0 0 0 0 0 0 0 0 ...\n",
            " $ monthsep            : num  0 0 0 0 0 0 0 0 0 0 ...\n",
            " $ duration            : num  261 151 76 92 198 139 217 380 50 55 ...\n",
            " $ campaign            : num  1 1 1 1 1 1 1 1 1 1 ...\n",
            " $ pdays               : num  -1 -1 -1 -1 -1 -1 -1 -1 -1 -1 ...\n",
            " $ previous            : num  0 0 0 0 0 0 0 0 0 0 ...\n",
            " $ poutcomefailure     : num  0 0 0 0 0 0 0 0 0 0 ...\n",
            " $ poutcomeother       : num  0 0 0 0 0 0 0 0 0 0 ...\n",
            " $ poutcomesuccess     : num  0 0 0 0 0 0 0 0 0 0 ...\n",
            " $ poutcomeunknown     : num  1 1 1 1 1 1 1 1 1 1 ...\n",
            " $ yno                 : num  1 1 1 1 1 1 1 1 1 1 ...\n",
            " $ yyes                : num  0 0 0 0 0 0 0 0 0 0 ...\n",
            " $ tecchnology_usealto : num  0 1 1 0 0 0 0 1 0 1 ...\n",
            " $ tecchnology_usebaixo: num  0 0 0 1 1 0 0 0 1 0 ...\n",
            " $ tecchnology_usemedio: num  1 0 0 0 0 1 1 0 0 0 ...\n",
            " $ defaulted           : num  0 0 0 0 0 0 0 1 0 0 ...\n"
          ],
          "name": "stdout"
        }
      ]
    },
    {
      "cell_type": "code",
      "metadata": {
        "colab": {
          "base_uri": "https://localhost:8080/",
          "height": 34
        },
        "id": "NqQuICXZHo7z",
        "outputId": "003f7bfe-7db5-41ba-baee-a463fc05ddb5"
      },
      "source": [
        "dim(bank.dummies)"
      ],
      "execution_count": 36,
      "outputs": [
        {
          "output_type": "display_data",
          "data": {
            "text/plain": [
              "[1] 45211    57"
            ],
            "text/latex": "\\begin{enumerate*}\n\\item 45211\n\\item 57\n\\end{enumerate*}\n",
            "text/markdown": "1. 45211\n2. 57\n\n\n",
            "text/html": [
              "<style>\n",
              ".list-inline {list-style: none; margin:0; padding: 0}\n",
              ".list-inline>li {display: inline-block}\n",
              ".list-inline>li:not(:last-child)::after {content: \"\\00b7\"; padding: 0 .5ex}\n",
              "</style>\n",
              "<ol class=list-inline><li>45211</li><li>57</li></ol>\n"
            ]
          },
          "metadata": {
            "tags": []
          }
        }
      ]
    },
    {
      "cell_type": "code",
      "metadata": {
        "colab": {
          "base_uri": "https://localhost:8080/",
          "height": 34
        },
        "id": "xu4lR0AXH0zF",
        "outputId": "a2a2a27e-e2d7-4f68-9251-abfc0ac9567a"
      },
      "source": [
        "dim(bank)"
      ],
      "execution_count": 37,
      "outputs": [
        {
          "output_type": "display_data",
          "data": {
            "text/plain": [
              "[1] 45211    19"
            ],
            "text/latex": "\\begin{enumerate*}\n\\item 45211\n\\item 19\n\\end{enumerate*}\n",
            "text/markdown": "1. 45211\n2. 19\n\n\n",
            "text/html": [
              "<style>\n",
              ".list-inline {list-style: none; margin:0; padding: 0}\n",
              ".list-inline>li {display: inline-block}\n",
              ".list-inline>li:not(:last-child)::after {content: \"\\00b7\"; padding: 0 .5ex}\n",
              "</style>\n",
              "<ol class=list-inline><li>45211</li><li>19</li></ol>\n"
            ]
          },
          "metadata": {
            "tags": []
          }
        }
      ]
    },
    {
      "cell_type": "markdown",
      "metadata": {
        "id": "RDeayS_UIrJw"
      },
      "source": [
        "## Combinando Recursos ou Cruzamento de Recursos"
      ]
    },
    {
      "cell_type": "code",
      "metadata": {
        "colab": {
          "base_uri": "https://localhost:8080/",
          "height": 1000
        },
        "id": "8aPXGOqLH9X-",
        "outputId": "954919ff-2bec-4547-e003-428a96f2cfbd"
      },
      "source": [
        "bank %>%\n",
        "  group_by(job, marital) %>%\n",
        "  summarise(n = n())"
      ],
      "execution_count": 38,
      "outputs": [
        {
          "output_type": "stream",
          "text": [
            "`summarise()` has grouped output by 'job'. You can override using the `.groups` argument.\n",
            "\n"
          ],
          "name": "stderr"
        },
        {
          "output_type": "display_data",
          "data": {
            "text/plain": [
              "   job           marital  n   \n",
              "1  admin.        divorced  750\n",
              "2  admin.        married  2693\n",
              "3  admin.        single   1728\n",
              "4  blue-collar   divorced  750\n",
              "5  blue-collar   married  6968\n",
              "6  blue-collar   single   2014\n",
              "7  entrepreneur  divorced  179\n",
              "8  entrepreneur  married  1070\n",
              "9  entrepreneur  single    238\n",
              "10 housemaid     divorced  184\n",
              "11 housemaid     married   912\n",
              "12 housemaid     single    144\n",
              "13 management    divorced 1111\n",
              "14 management    married  5400\n",
              "15 management    single   2947\n",
              "16 retired       divorced  425\n",
              "17 retired       married  1731\n",
              "18 retired       single    108\n",
              "19 self-employed divorced  140\n",
              "20 self-employed married   993\n",
              "21 self-employed single    446\n",
              "22 services      divorced  549\n",
              "23 services      married  2407\n",
              "24 services      single   1198\n",
              "25 student       divorced    6\n",
              "26 student       married    54\n",
              "27 student       single    878\n",
              "28 technician    divorced  925\n",
              "29 technician    married  4052\n",
              "30 technician    single   2620\n",
              "31 unemployed    divorced  171\n",
              "32 unemployed    married   731\n",
              "33 unemployed    single    401\n",
              "34 unknown       divorced   17\n",
              "35 unknown       married   203\n",
              "36 unknown       single     68"
            ],
            "text/latex": "A grouped\\_df: 36 × 3\n\\begin{tabular}{lll}\n job & marital & n\\\\\n <chr> & <chr> & <int>\\\\\n\\hline\n\t admin.        & divorced &  750\\\\\n\t admin.        & married  & 2693\\\\\n\t admin.        & single   & 1728\\\\\n\t blue-collar   & divorced &  750\\\\\n\t blue-collar   & married  & 6968\\\\\n\t blue-collar   & single   & 2014\\\\\n\t entrepreneur  & divorced &  179\\\\\n\t entrepreneur  & married  & 1070\\\\\n\t entrepreneur  & single   &  238\\\\\n\t housemaid     & divorced &  184\\\\\n\t housemaid     & married  &  912\\\\\n\t housemaid     & single   &  144\\\\\n\t management    & divorced & 1111\\\\\n\t management    & married  & 5400\\\\\n\t management    & single   & 2947\\\\\n\t retired       & divorced &  425\\\\\n\t retired       & married  & 1731\\\\\n\t retired       & single   &  108\\\\\n\t self-employed & divorced &  140\\\\\n\t self-employed & married  &  993\\\\\n\t self-employed & single   &  446\\\\\n\t services      & divorced &  549\\\\\n\t services      & married  & 2407\\\\\n\t services      & single   & 1198\\\\\n\t student       & divorced &    6\\\\\n\t student       & married  &   54\\\\\n\t student       & single   &  878\\\\\n\t technician    & divorced &  925\\\\\n\t technician    & married  & 4052\\\\\n\t technician    & single   & 2620\\\\\n\t unemployed    & divorced &  171\\\\\n\t unemployed    & married  &  731\\\\\n\t unemployed    & single   &  401\\\\\n\t unknown       & divorced &   17\\\\\n\t unknown       & married  &  203\\\\\n\t unknown       & single   &   68\\\\\n\\end{tabular}\n",
            "text/markdown": "\nA grouped_df: 36 × 3\n\n| job &lt;chr&gt; | marital &lt;chr&gt; | n &lt;int&gt; |\n|---|---|---|\n| admin.        | divorced |  750 |\n| admin.        | married  | 2693 |\n| admin.        | single   | 1728 |\n| blue-collar   | divorced |  750 |\n| blue-collar   | married  | 6968 |\n| blue-collar   | single   | 2014 |\n| entrepreneur  | divorced |  179 |\n| entrepreneur  | married  | 1070 |\n| entrepreneur  | single   |  238 |\n| housemaid     | divorced |  184 |\n| housemaid     | married  |  912 |\n| housemaid     | single   |  144 |\n| management    | divorced | 1111 |\n| management    | married  | 5400 |\n| management    | single   | 2947 |\n| retired       | divorced |  425 |\n| retired       | married  | 1731 |\n| retired       | single   |  108 |\n| self-employed | divorced |  140 |\n| self-employed | married  |  993 |\n| self-employed | single   |  446 |\n| services      | divorced |  549 |\n| services      | married  | 2407 |\n| services      | single   | 1198 |\n| student       | divorced |    6 |\n| student       | married  |   54 |\n| student       | single   |  878 |\n| technician    | divorced |  925 |\n| technician    | married  | 4052 |\n| technician    | single   | 2620 |\n| unemployed    | divorced |  171 |\n| unemployed    | married  |  731 |\n| unemployed    | single   |  401 |\n| unknown       | divorced |   17 |\n| unknown       | married  |  203 |\n| unknown       | single   |   68 |\n\n",
            "text/html": [
              "<table class=\"dataframe\">\n",
              "<caption>A grouped_df: 36 × 3</caption>\n",
              "<thead>\n",
              "\t<tr><th scope=col>job</th><th scope=col>marital</th><th scope=col>n</th></tr>\n",
              "\t<tr><th scope=col>&lt;chr&gt;</th><th scope=col>&lt;chr&gt;</th><th scope=col>&lt;int&gt;</th></tr>\n",
              "</thead>\n",
              "<tbody>\n",
              "\t<tr><td>admin.       </td><td>divorced</td><td> 750</td></tr>\n",
              "\t<tr><td>admin.       </td><td>married </td><td>2693</td></tr>\n",
              "\t<tr><td>admin.       </td><td>single  </td><td>1728</td></tr>\n",
              "\t<tr><td>blue-collar  </td><td>divorced</td><td> 750</td></tr>\n",
              "\t<tr><td>blue-collar  </td><td>married </td><td>6968</td></tr>\n",
              "\t<tr><td>blue-collar  </td><td>single  </td><td>2014</td></tr>\n",
              "\t<tr><td>entrepreneur </td><td>divorced</td><td> 179</td></tr>\n",
              "\t<tr><td>entrepreneur </td><td>married </td><td>1070</td></tr>\n",
              "\t<tr><td>entrepreneur </td><td>single  </td><td> 238</td></tr>\n",
              "\t<tr><td>housemaid    </td><td>divorced</td><td> 184</td></tr>\n",
              "\t<tr><td>housemaid    </td><td>married </td><td> 912</td></tr>\n",
              "\t<tr><td>housemaid    </td><td>single  </td><td> 144</td></tr>\n",
              "\t<tr><td>management   </td><td>divorced</td><td>1111</td></tr>\n",
              "\t<tr><td>management   </td><td>married </td><td>5400</td></tr>\n",
              "\t<tr><td>management   </td><td>single  </td><td>2947</td></tr>\n",
              "\t<tr><td>retired      </td><td>divorced</td><td> 425</td></tr>\n",
              "\t<tr><td>retired      </td><td>married </td><td>1731</td></tr>\n",
              "\t<tr><td>retired      </td><td>single  </td><td> 108</td></tr>\n",
              "\t<tr><td>self-employed</td><td>divorced</td><td> 140</td></tr>\n",
              "\t<tr><td>self-employed</td><td>married </td><td> 993</td></tr>\n",
              "\t<tr><td>self-employed</td><td>single  </td><td> 446</td></tr>\n",
              "\t<tr><td>services     </td><td>divorced</td><td> 549</td></tr>\n",
              "\t<tr><td>services     </td><td>married </td><td>2407</td></tr>\n",
              "\t<tr><td>services     </td><td>single  </td><td>1198</td></tr>\n",
              "\t<tr><td>student      </td><td>divorced</td><td>   6</td></tr>\n",
              "\t<tr><td>student      </td><td>married </td><td>  54</td></tr>\n",
              "\t<tr><td>student      </td><td>single  </td><td> 878</td></tr>\n",
              "\t<tr><td>technician   </td><td>divorced</td><td> 925</td></tr>\n",
              "\t<tr><td>technician   </td><td>married </td><td>4052</td></tr>\n",
              "\t<tr><td>technician   </td><td>single  </td><td>2620</td></tr>\n",
              "\t<tr><td>unemployed   </td><td>divorced</td><td> 171</td></tr>\n",
              "\t<tr><td>unemployed   </td><td>married </td><td> 731</td></tr>\n",
              "\t<tr><td>unemployed   </td><td>single  </td><td> 401</td></tr>\n",
              "\t<tr><td>unknown      </td><td>divorced</td><td>  17</td></tr>\n",
              "\t<tr><td>unknown      </td><td>married </td><td> 203</td></tr>\n",
              "\t<tr><td>unknown      </td><td>single  </td><td>  68</td></tr>\n",
              "</tbody>\n",
              "</table>\n"
            ]
          },
          "metadata": {
            "tags": []
          }
        }
      ]
    },
    {
      "cell_type": "markdown",
      "metadata": {
        "id": "xrNfkgT7JN5p"
      },
      "source": [
        "Visualizando"
      ]
    },
    {
      "cell_type": "code",
      "metadata": {
        "colab": {
          "base_uri": "https://localhost:8080/",
          "height": 471
        },
        "id": "XS8NlRzkJDWC",
        "outputId": "3417db76-155a-4d38-f93a-cb9681a94d7d"
      },
      "source": [
        "bank %>%\n",
        "  group_by(job, marital) %>%\n",
        "  summarise(n = n()) %>%\n",
        "  ggplot(aes(x = job, y = n, fill = marital)) +\n",
        "  geom_bar(stat = \"identity\", position = \"dodge\") +\n",
        "  theme(axis.text.x = element_text(angle = 90, hjust = 1))"
      ],
      "execution_count": 42,
      "outputs": [
        {
          "output_type": "stream",
          "text": [
            "`summarise()` has grouped output by 'job'. You can override using the `.groups` argument.\n",
            "\n"
          ],
          "name": "stderr"
        },
        {
          "output_type": "display_data",
          "data": {
            "image/png": "[encoded data removed]",
            "text/plain": [
              "plot without title"
            ]
          },
          "metadata": {
            "tags": [],
            "image/png": {
              "width": 420,
              "height": 420
            }
          }
        }
      ]
    },
    {
      "cell_type": "code",
      "metadata": {
        "colab": {
          "base_uri": "https://localhost:8080/",
          "height": 289
        },
        "id": "AKIFlXMIJ-Y8",
        "outputId": "b46b84ed-d742-45a2-f83b-22a1b643a8db"
      },
      "source": [
        "# Interpretando de forma mais compreensíve\n",
        "dmi <- dummyVars(~ job:marital, data = bank)\n",
        "bank.cross <- predict(dmi, newdata = bank)\n",
        "head(bank.cross)"
      ],
      "execution_count": 45,
      "outputs": [
        {
          "output_type": "display_data",
          "data": {
            "text/plain": [
              "  jobadmin.:maritaldivorced jobblue-collar:maritaldivorced\n",
              "1 0                         0                             \n",
              "2 0                         0                             \n",
              "3 0                         0                             \n",
              "4 0                         0                             \n",
              "5 0                         0                             \n",
              "6 0                         0                             \n",
              "  jobentrepreneur:maritaldivorced jobhousemaid:maritaldivorced\n",
              "1 0                               0                           \n",
              "2 0                               0                           \n",
              "3 0                               0                           \n",
              "4 0                               0                           \n",
              "5 0                               0                           \n",
              "6 0                               0                           \n",
              "  jobmanagement:maritaldivorced jobretired:maritaldivorced\n",
              "1 0                             0                         \n",
              "2 0                             0                         \n",
              "3 0                             0                         \n",
              "4 0                             0                         \n",
              "5 0                             0                         \n",
              "6 0                             0                         \n",
              "  jobself-employed:maritaldivorced jobservices:maritaldivorced\n",
              "1 0                                0                          \n",
              "2 0                                0                          \n",
              "3 0                                0                          \n",
              "4 0                                0                          \n",
              "5 0                                0                          \n",
              "6 0                                0                          \n",
              "  jobstudent:maritaldivorced jobtechnician:maritaldivorced ⋯\n",
              "1 0                          0                             ⋯\n",
              "2 0                          0                             ⋯\n",
              "3 0                          0                             ⋯\n",
              "4 0                          0                             ⋯\n",
              "5 0                          0                             ⋯\n",
              "6 0                          0                             ⋯\n",
              "  jobentrepreneur:maritalsingle jobhousemaid:maritalsingle\n",
              "1 0                             0                         \n",
              "2 0                             0                         \n",
              "3 0                             0                         \n",
              "4 0                             0                         \n",
              "5 0                             0                         \n",
              "6 0                             0                         \n",
              "  jobmanagement:maritalsingle jobretired:maritalsingle\n",
              "1 0                           0                       \n",
              "2 0                           0                       \n",
              "3 0                           0                       \n",
              "4 0                           0                       \n",
              "5 0                           0                       \n",
              "6 0                           0                       \n",
              "  jobself-employed:maritalsingle jobservices:maritalsingle\n",
              "1 0                              0                        \n",
              "2 0                              0                        \n",
              "3 0                              0                        \n",
              "4 0                              0                        \n",
              "5 0                              0                        \n",
              "6 0                              0                        \n",
              "  jobstudent:maritalsingle jobtechnician:maritalsingle\n",
              "1 0                        0                          \n",
              "2 0                        1                          \n",
              "3 0                        0                          \n",
              "4 0                        0                          \n",
              "5 0                        0                          \n",
              "6 0                        0                          \n",
              "  jobunemployed:maritalsingle jobunknown:maritalsingle\n",
              "1 0                           0                       \n",
              "2 0                           0                       \n",
              "3 0                           0                       \n",
              "4 0                           0                       \n",
              "5 0                           1                       \n",
              "6 0                           0                       "
            ],
            "text/latex": "A matrix: 6 × 36 of type dbl\n\\begin{tabular}{r|lllllllllllllllllllll}\n  & jobadmin.:maritaldivorced & jobblue-collar:maritaldivorced & jobentrepreneur:maritaldivorced & jobhousemaid:maritaldivorced & jobmanagement:maritaldivorced & jobretired:maritaldivorced & jobself-employed:maritaldivorced & jobservices:maritaldivorced & jobstudent:maritaldivorced & jobtechnician:maritaldivorced & ⋯ & jobentrepreneur:maritalsingle & jobhousemaid:maritalsingle & jobmanagement:maritalsingle & jobretired:maritalsingle & jobself-employed:maritalsingle & jobservices:maritalsingle & jobstudent:maritalsingle & jobtechnician:maritalsingle & jobunemployed:maritalsingle & jobunknown:maritalsingle\\\\\n\\hline\n\t1 & 0 & 0 & 0 & 0 & 0 & 0 & 0 & 0 & 0 & 0 & ⋯ & 0 & 0 & 0 & 0 & 0 & 0 & 0 & 0 & 0 & 0\\\\\n\t2 & 0 & 0 & 0 & 0 & 0 & 0 & 0 & 0 & 0 & 0 & ⋯ & 0 & 0 & 0 & 0 & 0 & 0 & 0 & 1 & 0 & 0\\\\\n\t3 & 0 & 0 & 0 & 0 & 0 & 0 & 0 & 0 & 0 & 0 & ⋯ & 0 & 0 & 0 & 0 & 0 & 0 & 0 & 0 & 0 & 0\\\\\n\t4 & 0 & 0 & 0 & 0 & 0 & 0 & 0 & 0 & 0 & 0 & ⋯ & 0 & 0 & 0 & 0 & 0 & 0 & 0 & 0 & 0 & 0\\\\\n\t5 & 0 & 0 & 0 & 0 & 0 & 0 & 0 & 0 & 0 & 0 & ⋯ & 0 & 0 & 0 & 0 & 0 & 0 & 0 & 0 & 0 & 1\\\\\n\t6 & 0 & 0 & 0 & 0 & 0 & 0 & 0 & 0 & 0 & 0 & ⋯ & 0 & 0 & 0 & 0 & 0 & 0 & 0 & 0 & 0 & 0\\\\\n\\end{tabular}\n",
            "text/markdown": "\nA matrix: 6 × 36 of type dbl\n\n| <!--/--> | jobadmin.:maritaldivorced | jobblue-collar:maritaldivorced | jobentrepreneur:maritaldivorced | jobhousemaid:maritaldivorced | jobmanagement:maritaldivorced | jobretired:maritaldivorced | jobself-employed:maritaldivorced | jobservices:maritaldivorced | jobstudent:maritaldivorced | jobtechnician:maritaldivorced | ⋯ | jobentrepreneur:maritalsingle | jobhousemaid:maritalsingle | jobmanagement:maritalsingle | jobretired:maritalsingle | jobself-employed:maritalsingle | jobservices:maritalsingle | jobstudent:maritalsingle | jobtechnician:maritalsingle | jobunemployed:maritalsingle | jobunknown:maritalsingle |\n|---|---|---|---|---|---|---|---|---|---|---|---|---|---|---|---|---|---|---|---|---|---|\n| 1 | 0 | 0 | 0 | 0 | 0 | 0 | 0 | 0 | 0 | 0 | ⋯ | 0 | 0 | 0 | 0 | 0 | 0 | 0 | 0 | 0 | 0 |\n| 2 | 0 | 0 | 0 | 0 | 0 | 0 | 0 | 0 | 0 | 0 | ⋯ | 0 | 0 | 0 | 0 | 0 | 0 | 0 | 1 | 0 | 0 |\n| 3 | 0 | 0 | 0 | 0 | 0 | 0 | 0 | 0 | 0 | 0 | ⋯ | 0 | 0 | 0 | 0 | 0 | 0 | 0 | 0 | 0 | 0 |\n| 4 | 0 | 0 | 0 | 0 | 0 | 0 | 0 | 0 | 0 | 0 | ⋯ | 0 | 0 | 0 | 0 | 0 | 0 | 0 | 0 | 0 | 0 |\n| 5 | 0 | 0 | 0 | 0 | 0 | 0 | 0 | 0 | 0 | 0 | ⋯ | 0 | 0 | 0 | 0 | 0 | 0 | 0 | 0 | 0 | 1 |\n| 6 | 0 | 0 | 0 | 0 | 0 | 0 | 0 | 0 | 0 | 0 | ⋯ | 0 | 0 | 0 | 0 | 0 | 0 | 0 | 0 | 0 | 0 |\n\n",
            "text/html": [
              "<table class=\"dataframe\">\n",
              "<caption>A matrix: 6 × 36 of type dbl</caption>\n",
              "<thead>\n",
              "\t<tr><th></th><th scope=col>jobadmin.:maritaldivorced</th><th scope=col>jobblue-collar:maritaldivorced</th><th scope=col>jobentrepreneur:maritaldivorced</th><th scope=col>jobhousemaid:maritaldivorced</th><th scope=col>jobmanagement:maritaldivorced</th><th scope=col>jobretired:maritaldivorced</th><th scope=col>jobself-employed:maritaldivorced</th><th scope=col>jobservices:maritaldivorced</th><th scope=col>jobstudent:maritaldivorced</th><th scope=col>jobtechnician:maritaldivorced</th><th scope=col>⋯</th><th scope=col>jobentrepreneur:maritalsingle</th><th scope=col>jobhousemaid:maritalsingle</th><th scope=col>jobmanagement:maritalsingle</th><th scope=col>jobretired:maritalsingle</th><th scope=col>jobself-employed:maritalsingle</th><th scope=col>jobservices:maritalsingle</th><th scope=col>jobstudent:maritalsingle</th><th scope=col>jobtechnician:maritalsingle</th><th scope=col>jobunemployed:maritalsingle</th><th scope=col>jobunknown:maritalsingle</th></tr>\n",
              "</thead>\n",
              "<tbody>\n",
              "\t<tr><th scope=row>1</th><td>0</td><td>0</td><td>0</td><td>0</td><td>0</td><td>0</td><td>0</td><td>0</td><td>0</td><td>0</td><td>⋯</td><td>0</td><td>0</td><td>0</td><td>0</td><td>0</td><td>0</td><td>0</td><td>0</td><td>0</td><td>0</td></tr>\n",
              "\t<tr><th scope=row>2</th><td>0</td><td>0</td><td>0</td><td>0</td><td>0</td><td>0</td><td>0</td><td>0</td><td>0</td><td>0</td><td>⋯</td><td>0</td><td>0</td><td>0</td><td>0</td><td>0</td><td>0</td><td>0</td><td>1</td><td>0</td><td>0</td></tr>\n",
              "\t<tr><th scope=row>3</th><td>0</td><td>0</td><td>0</td><td>0</td><td>0</td><td>0</td><td>0</td><td>0</td><td>0</td><td>0</td><td>⋯</td><td>0</td><td>0</td><td>0</td><td>0</td><td>0</td><td>0</td><td>0</td><td>0</td><td>0</td><td>0</td></tr>\n",
              "\t<tr><th scope=row>4</th><td>0</td><td>0</td><td>0</td><td>0</td><td>0</td><td>0</td><td>0</td><td>0</td><td>0</td><td>0</td><td>⋯</td><td>0</td><td>0</td><td>0</td><td>0</td><td>0</td><td>0</td><td>0</td><td>0</td><td>0</td><td>0</td></tr>\n",
              "\t<tr><th scope=row>5</th><td>0</td><td>0</td><td>0</td><td>0</td><td>0</td><td>0</td><td>0</td><td>0</td><td>0</td><td>0</td><td>⋯</td><td>0</td><td>0</td><td>0</td><td>0</td><td>0</td><td>0</td><td>0</td><td>0</td><td>0</td><td>1</td></tr>\n",
              "\t<tr><th scope=row>6</th><td>0</td><td>0</td><td>0</td><td>0</td><td>0</td><td>0</td><td>0</td><td>0</td><td>0</td><td>0</td><td>⋯</td><td>0</td><td>0</td><td>0</td><td>0</td><td>0</td><td>0</td><td>0</td><td>0</td><td>0</td><td>0</td></tr>\n",
              "</tbody>\n",
              "</table>\n"
            ]
          },
          "metadata": {
            "tags": []
          }
        }
      ]
    },
    {
      "cell_type": "code",
      "metadata": {
        "id": "q7zQwDYtK5h2"
      },
      "source": [
        "# Salvando o dataset\n",
        "write.csv(bank, \"banco.csv\")"
      ],
      "execution_count": 46,
      "outputs": []
    },
    {
      "cell_type": "code",
      "metadata": {
        "id": "ZET6IsPoM8k-"
      },
      "source": [
        ""
      ],
      "execution_count": null,
      "outputs": []
    }
  ]
}